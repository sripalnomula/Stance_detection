{
 "cells": [
  {
   "cell_type": "code",
   "execution_count": 2,
   "metadata": {},
   "outputs": [
    {
     "name": "stdout",
     "output_type": "stream",
     "text": [
      "Collecting pandas\n",
      "  Downloading pandas-1.1.5-cp36-cp36m-macosx_10_9_x86_64.whl (10.2 MB)\n",
      "\u001b[K     |████████████████████████████████| 10.2 MB 3.2 MB/s eta 0:00:01    |████████████████████████████▎   | 9.0 MB 3.2 MB/s eta 0:00:01\n",
      "\u001b[?25hRequirement already satisfied: numpy>=1.15.4 in ./opt/anaconda3/envs/env_pytorch/lib/python3.6/site-packages (from pandas) (1.19.5)\n",
      "Collecting pytz>=2017.2\n",
      "  Downloading pytz-2023.3-py2.py3-none-any.whl (502 kB)\n",
      "\u001b[K     |████████████████████████████████| 502 kB 3.9 MB/s eta 0:00:01\n",
      "\u001b[?25hRequirement already satisfied: python-dateutil>=2.7.3 in ./opt/anaconda3/envs/env_pytorch/lib/python3.6/site-packages (from pandas) (2.8.2)\n",
      "Requirement already satisfied: six>=1.5 in ./opt/anaconda3/envs/env_pytorch/lib/python3.6/site-packages (from python-dateutil>=2.7.3->pandas) (1.15.0)\n",
      "Installing collected packages: pytz, pandas\n",
      "Successfully installed pandas-1.1.5 pytz-2023.3\n",
      "Note: you may need to restart the kernel to use updated packages.\n"
     ]
    }
   ],
   "source": [
    "pip install pandas"
   ]
  },
  {
   "cell_type": "code",
   "execution_count": 6,
   "metadata": {},
   "outputs": [
    {
     "name": "stdout",
     "output_type": "stream",
     "text": [
      "Collecting scikit-learn\n",
      "  Downloading scikit_learn-0.24.2-cp36-cp36m-macosx_10_13_x86_64.whl (7.2 MB)\n",
      "\u001b[K     |████████████████████████████████| 7.2 MB 3.0 MB/s eta 0:00:01\n",
      "\u001b[?25hCollecting joblib>=0.11\n",
      "  Downloading joblib-1.1.1-py2.py3-none-any.whl (309 kB)\n",
      "\u001b[K     |████████████████████████████████| 309 kB 4.1 MB/s eta 0:00:01\n",
      "\u001b[?25hCollecting scipy>=0.19.1\n",
      "  Downloading scipy-1.5.4-cp36-cp36m-macosx_10_9_x86_64.whl (28.8 MB)\n",
      "\u001b[K     |████████████████████████████████| 28.8 MB 4.0 MB/s eta 0:00:01     |████████████                    | 10.8 MB 3.3 MB/s eta 0:00:06     |████████████████████████████▏   | 25.3 MB 2.7 MB/s eta 0:00:02\n",
      "\u001b[?25hRequirement already satisfied: numpy>=1.13.3 in ./opt/anaconda3/envs/env_pytorch/lib/python3.6/site-packages (from scikit-learn) (1.19.5)\n",
      "Collecting threadpoolctl>=2.0.0\n",
      "  Using cached threadpoolctl-3.1.0-py3-none-any.whl (14 kB)\n",
      "Installing collected packages: threadpoolctl, scipy, joblib, scikit-learn\n",
      "Successfully installed joblib-1.1.1 scikit-learn-0.24.2 scipy-1.5.4 threadpoolctl-3.1.0\n",
      "Note: you may need to restart the kernel to use updated packages.\n"
     ]
    }
   ],
   "source": [
    "pip install scikit-learn"
   ]
  },
  {
   "cell_type": "code",
   "execution_count": 8,
   "metadata": {},
   "outputs": [
    {
     "name": "stdout",
     "output_type": "stream",
     "text": [
      "Collecting tqdm\n",
      "  Using cached tqdm-4.64.1-py2.py3-none-any.whl (78 kB)\n",
      "Collecting importlib-resources\n",
      "  Downloading importlib_resources-5.4.0-py3-none-any.whl (28 kB)\n",
      "Requirement already satisfied: zipp>=3.1.0 in ./opt/anaconda3/envs/env_pytorch/lib/python3.6/site-packages (from importlib-resources->tqdm) (3.6.0)\n",
      "Installing collected packages: importlib-resources, tqdm\n",
      "Successfully installed importlib-resources-5.4.0 tqdm-4.64.1\n",
      "Note: you may need to restart the kernel to use updated packages.\n"
     ]
    }
   ],
   "source": [
    "pip install tqdm"
   ]
  },
  {
   "cell_type": "code",
   "execution_count": 9,
   "metadata": {
    "execution": {
     "iopub.execute_input": "2023-04-16T23:23:18.224243Z",
     "iopub.status.busy": "2023-04-16T23:23:18.223893Z",
     "iopub.status.idle": "2023-04-16T23:23:19.194545Z",
     "shell.execute_reply": "2023-04-16T23:23:19.191795Z",
     "shell.execute_reply.started": "2023-04-16T23:23:18.224201Z"
    }
   },
   "outputs": [],
   "source": [
    "import numpy as np, pandas as pd\n",
    "from sklearn.feature_extraction.text import TfidfVectorizer\n",
    "from tqdm import tqdm"
   ]
  },
  {
   "cell_type": "code",
   "execution_count": 11,
   "metadata": {
    "execution": {
     "iopub.execute_input": "2023-04-16T23:23:19.830945Z",
     "iopub.status.busy": "2023-04-16T23:23:19.830556Z",
     "iopub.status.idle": "2023-04-16T23:23:22.987042Z",
     "shell.execute_reply": "2023-04-16T23:23:22.985906Z",
     "shell.execute_reply.started": "2023-04-16T23:23:19.830886Z"
    }
   },
   "outputs": [],
   "source": [
    "trainFile=pd.read_csv('train_merged.csv',encoding='latin-1')\n",
    "testFile=pd.read_csv('test_merged.csv', encoding='latin-1')"
   ]
  },
  {
   "cell_type": "code",
   "execution_count": 12,
   "metadata": {
    "execution": {
     "iopub.execute_input": "2023-04-16T23:23:22.988920Z",
     "iopub.status.busy": "2023-04-16T23:23:22.988524Z",
     "iopub.status.idle": "2023-04-16T23:23:23.026049Z",
     "shell.execute_reply": "2023-04-16T23:23:23.025102Z",
     "shell.execute_reply.started": "2023-04-16T23:23:22.988856Z"
    }
   },
   "outputs": [
    {
     "data": {
      "text/html": [
       "<div>\n",
       "<style scoped>\n",
       "    .dataframe tbody tr th:only-of-type {\n",
       "        vertical-align: middle;\n",
       "    }\n",
       "\n",
       "    .dataframe tbody tr th {\n",
       "        vertical-align: top;\n",
       "    }\n",
       "\n",
       "    .dataframe thead th {\n",
       "        text-align: right;\n",
       "    }\n",
       "</style>\n",
       "<table border=\"1\" class=\"dataframe\">\n",
       "  <thead>\n",
       "    <tr style=\"text-align: right;\">\n",
       "      <th></th>\n",
       "      <th>Body ID</th>\n",
       "      <th>articleBody</th>\n",
       "      <th>Headline</th>\n",
       "      <th>Stance</th>\n",
       "    </tr>\n",
       "  </thead>\n",
       "  <tbody>\n",
       "    <tr>\n",
       "      <th>0</th>\n",
       "      <td>0</td>\n",
       "      <td>A small meteorite crashed into a wooded area i...</td>\n",
       "      <td>Soldier shot, Parliament locked down after gun...</td>\n",
       "      <td>unrelated</td>\n",
       "    </tr>\n",
       "    <tr>\n",
       "      <th>1</th>\n",
       "      <td>0</td>\n",
       "      <td>A small meteorite crashed into a wooded area i...</td>\n",
       "      <td>Tourist dubbed Spider Man after spider burro...</td>\n",
       "      <td>unrelated</td>\n",
       "    </tr>\n",
       "    <tr>\n",
       "      <th>2</th>\n",
       "      <td>0</td>\n",
       "      <td>A small meteorite crashed into a wooded area i...</td>\n",
       "      <td>Luke Somers 'killed in failed rescue attempt i...</td>\n",
       "      <td>unrelated</td>\n",
       "    </tr>\n",
       "    <tr>\n",
       "      <th>3</th>\n",
       "      <td>0</td>\n",
       "      <td>A small meteorite crashed into a wooded area i...</td>\n",
       "      <td>BREAKING: Soldier shot at War Memorial in Ottawa</td>\n",
       "      <td>unrelated</td>\n",
       "    </tr>\n",
       "    <tr>\n",
       "      <th>4</th>\n",
       "      <td>0</td>\n",
       "      <td>A small meteorite crashed into a wooded area i...</td>\n",
       "      <td>Giant 8ft 9in catfish weighing 19 stone caught...</td>\n",
       "      <td>unrelated</td>\n",
       "    </tr>\n",
       "  </tbody>\n",
       "</table>\n",
       "</div>"
      ],
      "text/plain": [
       "   Body ID                                        articleBody  \\\n",
       "0        0  A small meteorite crashed into a wooded area i...   \n",
       "1        0  A small meteorite crashed into a wooded area i...   \n",
       "2        0  A small meteorite crashed into a wooded area i...   \n",
       "3        0  A small meteorite crashed into a wooded area i...   \n",
       "4        0  A small meteorite crashed into a wooded area i...   \n",
       "\n",
       "                                            Headline     Stance  \n",
       "0  Soldier shot, Parliament locked down after gun...  unrelated  \n",
       "1  Tourist dubbed Spider Man after spider burro...  unrelated  \n",
       "2  Luke Somers 'killed in failed rescue attempt i...  unrelated  \n",
       "3   BREAKING: Soldier shot at War Memorial in Ottawa  unrelated  \n",
       "4  Giant 8ft 9in catfish weighing 19 stone caught...  unrelated  "
      ]
     },
     "execution_count": 12,
     "metadata": {},
     "output_type": "execute_result"
    }
   ],
   "source": [
    "trainFile.head()"
   ]
  },
  {
   "cell_type": "code",
   "execution_count": 13,
   "metadata": {
    "execution": {
     "iopub.execute_input": "2023-04-16T23:23:24.910862Z",
     "iopub.status.busy": "2023-04-16T23:23:24.910406Z",
     "iopub.status.idle": "2023-04-16T23:23:24.930359Z",
     "shell.execute_reply": "2023-04-16T23:23:24.928965Z",
     "shell.execute_reply.started": "2023-04-16T23:23:24.910787Z"
    }
   },
   "outputs": [
    {
     "data": {
      "text/plain": [
       "unrelated    36545\n",
       "discuss       8909\n",
       "agree         3678\n",
       "disagree       840\n",
       "Name: Stance, dtype: int64"
      ]
     },
     "execution_count": 13,
     "metadata": {},
     "output_type": "execute_result"
    }
   ],
   "source": [
    "trainFile['Stance'].value_counts()"
   ]
  },
  {
   "cell_type": "code",
   "execution_count": 14,
   "metadata": {
    "execution": {
     "iopub.execute_input": "2023-04-16T23:23:27.427993Z",
     "iopub.status.busy": "2023-04-16T23:23:27.427243Z",
     "iopub.status.idle": "2023-04-16T23:23:27.439155Z",
     "shell.execute_reply": "2023-04-16T23:23:27.438358Z",
     "shell.execute_reply.started": "2023-04-16T23:23:27.427518Z"
    }
   },
   "outputs": [],
   "source": [
    "totaldata= trainFile['articleBody'].tolist() + trainFile['Headline'].tolist()+testFile['articleBody'].tolist()+testFile['Headline'].tolist()"
   ]
  },
  {
   "cell_type": "code",
   "execution_count": null,
   "metadata": {},
   "outputs": [],
   "source": []
  },
  {
   "cell_type": "code",
   "execution_count": 15,
   "metadata": {
    "execution": {
     "iopub.execute_input": "2023-04-16T23:23:29.066394Z",
     "iopub.status.busy": "2023-04-16T23:23:29.065770Z",
     "iopub.status.idle": "2023-04-16T23:23:29.070506Z",
     "shell.execute_reply": "2023-04-16T23:23:29.069772Z",
     "shell.execute_reply.started": "2023-04-16T23:23:29.066342Z"
    }
   },
   "outputs": [],
   "source": [
    "tfidf_vect = TfidfVectorizer(analyzer='word', token_pattern=r'\\w{1,}', max_features=80, stop_words='english')"
   ]
  },
  {
   "cell_type": "code",
   "execution_count": 16,
   "metadata": {
    "execution": {
     "iopub.execute_input": "2023-04-16T23:23:30.807447Z",
     "iopub.status.busy": "2023-04-16T23:23:30.806784Z",
     "iopub.status.idle": "2023-04-16T23:23:50.656701Z",
     "shell.execute_reply": "2023-04-16T23:23:50.655471Z",
     "shell.execute_reply.started": "2023-04-16T23:23:30.807386Z"
    }
   },
   "outputs": [
    {
     "data": {
      "text/plain": [
       "TfidfVectorizer(max_features=80, stop_words='english', token_pattern='\\\\w{1,}')"
      ]
     },
     "execution_count": 16,
     "metadata": {},
     "output_type": "execute_result"
    }
   ],
   "source": [
    "tfidf_vect.fit(totaldata)"
   ]
  },
  {
   "cell_type": "code",
   "execution_count": 17,
   "metadata": {
    "execution": {
     "iopub.execute_input": "2023-04-16T23:23:50.658805Z",
     "iopub.status.busy": "2023-04-16T23:23:50.658392Z",
     "iopub.status.idle": "2023-04-16T23:24:09.305103Z",
     "shell.execute_reply": "2023-04-16T23:24:09.304132Z",
     "shell.execute_reply.started": "2023-04-16T23:23:50.658725Z"
    }
   },
   "outputs": [],
   "source": [
    "train_head_vec= tfidf_vect.transform(trainFile['Headline'])\n",
    "train_body_vec= tfidf_vect.transform(trainFile['articleBody'])\n",
    "test_head_vec= tfidf_vect.transform(testFile['Headline'])\n",
    "test_body_vec= tfidf_vect.transform(testFile['articleBody'])"
   ]
  },
  {
   "cell_type": "code",
   "execution_count": 92,
   "metadata": {},
   "outputs": [
    {
     "ename": "NameError",
     "evalue": "name 'mydata' is not defined",
     "output_type": "error",
     "traceback": [
      "\u001b[0;31m---------------------------------------------------------------------------\u001b[0m",
      "\u001b[0;31mNameError\u001b[0m                                 Traceback (most recent call last)",
      "\u001b[0;32m<ipython-input-92-5752c11588a9>\u001b[0m in \u001b[0;36m<module>\u001b[0;34m\u001b[0m\n\u001b[0;32m----> 1\u001b[0;31m \u001b[0mmydata\u001b[0m\u001b[0;34m[\u001b[0m\u001b[0;34m'headline'\u001b[0m\u001b[0;34m]\u001b[0m\u001b[0;34m=\u001b[0m\u001b[0;34m'Low-Energy Intense Pulsed Light for Hair Removal at Home'\u001b[0m\u001b[0;34m\u001b[0m\u001b[0;34m\u001b[0m\u001b[0m\n\u001b[0m",
      "\u001b[0;31mNameError\u001b[0m: name 'mydata' is not defined"
     ]
    }
   ],
   "source": [
    "mydata['headline']='Low-Energy Intense Pulsed Light for Hair Removal at Home'"
   ]
  },
  {
   "cell_type": "code",
   "execution_count": 91,
   "metadata": {},
   "outputs": [
    {
     "ename": "ValueError",
     "evalue": "Iterable over raw text documents expected, string object received.",
     "output_type": "error",
     "traceback": [
      "\u001b[0;31m---------------------------------------------------------------------------\u001b[0m",
      "\u001b[0;31mValueError\u001b[0m                                Traceback (most recent call last)",
      "\u001b[0;32m<ipython-input-91-4f15ad9eb434>\u001b[0m in \u001b[0;36m<module>\u001b[0;34m\u001b[0m\n\u001b[0;32m----> 1\u001b[0;31m \u001b[0mmydata_head_vec\u001b[0m \u001b[0;34m=\u001b[0m \u001b[0mtfidf_vect\u001b[0m\u001b[0;34m.\u001b[0m\u001b[0mtransform\u001b[0m\u001b[0;34m(\u001b[0m\u001b[0;34mr'Low-Energy Intense Pulsed Light for Hair Removal at Home'\u001b[0m\u001b[0;34m)\u001b[0m\u001b[0;34m\u001b[0m\u001b[0;34m\u001b[0m\u001b[0m\n\u001b[0m",
      "\u001b[0;32m~/opt/anaconda3/envs/env_pytorch/lib/python3.6/site-packages/sklearn/feature_extraction/text.py\u001b[0m in \u001b[0;36mtransform\u001b[0;34m(self, raw_documents)\u001b[0m\n\u001b[1;32m   1868\u001b[0m         \u001b[0mcheck_is_fitted\u001b[0m\u001b[0;34m(\u001b[0m\u001b[0mself\u001b[0m\u001b[0;34m,\u001b[0m \u001b[0mmsg\u001b[0m\u001b[0;34m=\u001b[0m\u001b[0;34m'The TF-IDF vectorizer is not fitted'\u001b[0m\u001b[0;34m)\u001b[0m\u001b[0;34m\u001b[0m\u001b[0;34m\u001b[0m\u001b[0m\n\u001b[1;32m   1869\u001b[0m \u001b[0;34m\u001b[0m\u001b[0m\n\u001b[0;32m-> 1870\u001b[0;31m         \u001b[0mX\u001b[0m \u001b[0;34m=\u001b[0m \u001b[0msuper\u001b[0m\u001b[0;34m(\u001b[0m\u001b[0;34m)\u001b[0m\u001b[0;34m.\u001b[0m\u001b[0mtransform\u001b[0m\u001b[0;34m(\u001b[0m\u001b[0mraw_documents\u001b[0m\u001b[0;34m)\u001b[0m\u001b[0;34m\u001b[0m\u001b[0;34m\u001b[0m\u001b[0m\n\u001b[0m\u001b[1;32m   1871\u001b[0m         \u001b[0;32mreturn\u001b[0m \u001b[0mself\u001b[0m\u001b[0;34m.\u001b[0m\u001b[0m_tfidf\u001b[0m\u001b[0;34m.\u001b[0m\u001b[0mtransform\u001b[0m\u001b[0;34m(\u001b[0m\u001b[0mX\u001b[0m\u001b[0;34m,\u001b[0m \u001b[0mcopy\u001b[0m\u001b[0;34m=\u001b[0m\u001b[0;32mFalse\u001b[0m\u001b[0;34m)\u001b[0m\u001b[0;34m\u001b[0m\u001b[0;34m\u001b[0m\u001b[0m\n\u001b[1;32m   1872\u001b[0m \u001b[0;34m\u001b[0m\u001b[0m\n",
      "\u001b[0;32m~/opt/anaconda3/envs/env_pytorch/lib/python3.6/site-packages/sklearn/feature_extraction/text.py\u001b[0m in \u001b[0;36mtransform\u001b[0;34m(self, raw_documents)\u001b[0m\n\u001b[1;32m   1247\u001b[0m         \u001b[0;32mif\u001b[0m \u001b[0misinstance\u001b[0m\u001b[0;34m(\u001b[0m\u001b[0mraw_documents\u001b[0m\u001b[0;34m,\u001b[0m \u001b[0mstr\u001b[0m\u001b[0;34m)\u001b[0m\u001b[0;34m:\u001b[0m\u001b[0;34m\u001b[0m\u001b[0;34m\u001b[0m\u001b[0m\n\u001b[1;32m   1248\u001b[0m             raise ValueError(\n\u001b[0;32m-> 1249\u001b[0;31m                 \u001b[0;34m\"Iterable over raw text documents expected, \"\u001b[0m\u001b[0;34m\u001b[0m\u001b[0;34m\u001b[0m\u001b[0m\n\u001b[0m\u001b[1;32m   1250\u001b[0m                 \"string object received.\")\n\u001b[1;32m   1251\u001b[0m         \u001b[0mself\u001b[0m\u001b[0;34m.\u001b[0m\u001b[0m_check_vocabulary\u001b[0m\u001b[0;34m(\u001b[0m\u001b[0;34m)\u001b[0m\u001b[0;34m\u001b[0m\u001b[0;34m\u001b[0m\u001b[0m\n",
      "\u001b[0;31mValueError\u001b[0m: Iterable over raw text documents expected, string object received."
     ]
    }
   ],
   "source": [
    "mydata_head_vec = tfidf_vect.transform(r'Low-Energy Intense Pulsed Light for Hair Removal at Home')"
   ]
  },
  {
   "cell_type": "code",
   "execution_count": 18,
   "metadata": {
    "execution": {
     "iopub.execute_input": "2023-04-16T23:24:09.308143Z",
     "iopub.status.busy": "2023-04-16T23:24:09.307744Z",
     "iopub.status.idle": "2023-04-16T23:24:09.315027Z",
     "shell.execute_reply": "2023-04-16T23:24:09.314070Z",
     "shell.execute_reply.started": "2023-04-16T23:24:09.308069Z"
    }
   },
   "outputs": [
    {
     "data": {
      "text/plain": [
       "<49972x80 sparse matrix of type '<class 'numpy.float64'>'\n",
       "\twith 92647 stored elements in Compressed Sparse Row format>"
      ]
     },
     "execution_count": 18,
     "metadata": {},
     "output_type": "execute_result"
    }
   ],
   "source": [
    "train_head_vec"
   ]
  },
  {
   "cell_type": "code",
   "execution_count": 19,
   "metadata": {
    "execution": {
     "iopub.execute_input": "2023-04-16T23:24:09.317250Z",
     "iopub.status.busy": "2023-04-16T23:24:09.316641Z",
     "iopub.status.idle": "2023-04-16T23:24:09.328616Z",
     "shell.execute_reply": "2023-04-16T23:24:09.327812Z",
     "shell.execute_reply.started": "2023-04-16T23:24:09.316872Z"
    }
   },
   "outputs": [
    {
     "data": {
      "text/plain": [
       "<49972x80 sparse matrix of type '<class 'numpy.float64'>'\n",
       "\twith 825803 stored elements in Compressed Sparse Row format>"
      ]
     },
     "execution_count": 19,
     "metadata": {},
     "output_type": "execute_result"
    }
   ],
   "source": [
    "train_body_vec"
   ]
  },
  {
   "cell_type": "code",
   "execution_count": 21,
   "metadata": {},
   "outputs": [
    {
     "name": "stdout",
     "output_type": "stream",
     "text": [
      "Collecting nltk\n",
      "  Downloading nltk-3.6.7-py3-none-any.whl (1.5 MB)\n",
      "\u001b[K     |████████████████████████████████| 1.5 MB 5.8 MB/s eta 0:00:01\n",
      "\u001b[?25hRequirement already satisfied: joblib in ./opt/anaconda3/envs/env_pytorch/lib/python3.6/site-packages (from nltk) (1.1.1)\n",
      "Requirement already satisfied: tqdm in ./opt/anaconda3/envs/env_pytorch/lib/python3.6/site-packages (from nltk) (4.64.1)\n",
      "Collecting regex>=2021.8.3\n",
      "  Downloading regex-2022.10.31-cp36-cp36m-macosx_10_9_x86_64.whl (294 kB)\n",
      "\u001b[K     |████████████████████████████████| 294 kB 11.2 MB/s eta 0:00:01\n",
      "\u001b[?25hCollecting click\n",
      "  Downloading click-8.0.4-py3-none-any.whl (97 kB)\n",
      "\u001b[K     |████████████████████████████████| 97 kB 10.9 MB/s eta 0:00:01\n",
      "\u001b[?25hRequirement already satisfied: importlib-metadata in ./opt/anaconda3/envs/env_pytorch/lib/python3.6/site-packages (from click->nltk) (4.8.3)\n",
      "Requirement already satisfied: typing-extensions>=3.6.4 in ./opt/anaconda3/envs/env_pytorch/lib/python3.6/site-packages (from importlib-metadata->click->nltk) (3.7.4.3)\n",
      "Requirement already satisfied: zipp>=0.5 in ./opt/anaconda3/envs/env_pytorch/lib/python3.6/site-packages (from importlib-metadata->click->nltk) (3.6.0)\n",
      "Requirement already satisfied: importlib-resources in ./opt/anaconda3/envs/env_pytorch/lib/python3.6/site-packages (from tqdm->nltk) (5.4.0)\n",
      "Installing collected packages: regex, click, nltk\n",
      "Successfully installed click-8.0.4 nltk-3.6.7 regex-2022.10.31\n",
      "Note: you may need to restart the kernel to use updated packages.\n"
     ]
    }
   ],
   "source": [
    "pip install nltk"
   ]
  },
  {
   "cell_type": "code",
   "execution_count": 22,
   "metadata": {
    "execution": {
     "iopub.execute_input": "2023-04-16T23:24:09.330447Z",
     "iopub.status.busy": "2023-04-16T23:24:09.330175Z",
     "iopub.status.idle": "2023-04-16T23:24:10.047906Z",
     "shell.execute_reply": "2023-04-16T23:24:10.047011Z",
     "shell.execute_reply.started": "2023-04-16T23:24:09.330408Z"
    }
   },
   "outputs": [],
   "source": [
    "# run and tested\n",
    "import os\n",
    "import re\n",
    "import nltk\n",
    "import numpy as np\n",
    "from sklearn import feature_extraction\n",
    "from tqdm import tqdm\n",
    "\n",
    "\n",
    "_wnl = nltk.WordNetLemmatizer()\n",
    "\n",
    "\n",
    "def normalize_word(w):\n",
    "    return _wnl.lemmatize(w).lower()\n",
    "\n",
    "\n",
    "def get_tokenized_lemmas(s):\n",
    "    return [normalize_word(t) for t in nltk.word_tokenize(s)]\n",
    "\n",
    "\n",
    "def clean(s):\n",
    "    # Cleans a string: Lowercasing, trimming, removing non-alphanumeric\n",
    "\n",
    "    return \" \".join(re.findall(r'\\w+', s, flags=re.UNICODE)).lower()\n",
    "\n",
    "\n",
    "def remove_stopwords(l):\n",
    "    # Removes stopwords from a list of tokens\n",
    "    return [w for w in l if w not in feature_extraction.text.ENGLISH_STOP_WORDS]\n",
    "\n",
    "\n",
    "def gen_or_load_feats(feat_fn, headlines, bodies, feature_file):\n",
    "    if not os.path.isfile(feature_file):\n",
    "        feats = feat_fn(headlines, bodies)\n",
    "        np.save(feature_file, feats)\n",
    "\n",
    "    return np.load(feature_file)\n",
    "\n",
    "\n",
    "\n",
    "\n",
    "def word_overlap_features(features, headline, body):\n",
    "    # common word/ total word\n",
    "    clean_headline = clean(headline)\n",
    "    clean_body = clean(body)\n",
    "    clean_headline = get_tokenized_lemmas(clean_headline)\n",
    "    clean_body = get_tokenized_lemmas(clean_body)\n",
    "    feature = len(set(clean_headline).intersection(clean_body)) / float(len(set(clean_headline).union(clean_body)))\n",
    "    features.append(feature)\n",
    "    return features\n",
    "\n",
    "\n",
    "\n",
    "\n",
    "def ngrams(input, n):\n",
    "    input = input.split(' ')\n",
    "    output = []\n",
    "    for i in range(len(input) - n + 1):\n",
    "        output.append(input[i:i + n])\n",
    "    return output\n",
    "\n",
    "\n",
    "def chargrams(input, n):\n",
    "    output = []\n",
    "    for i in range(len(input) - n + 1):\n",
    "        output.append(input[i:i + n])\n",
    "    return output\n",
    "\n",
    "\n",
    "def append_chargrams(features, text_headline, text_body, size):\n",
    "    grams = [' '.join(x) for x in chargrams(\" \".join(remove_stopwords(text_headline.split())), size)]\n",
    "    grams_hits = 0\n",
    "    grams_early_hits = 0\n",
    "    grams_first_hits = 0\n",
    "    for gram in grams:\n",
    "        if gram in text_body:\n",
    "            grams_hits += 1\n",
    "        if gram in text_body[:255]:\n",
    "            grams_early_hits += 1\n",
    "        if gram in text_body[:100]:\n",
    "            grams_first_hits += 1\n",
    "    features.append(grams_hits)\n",
    "    features.append(grams_early_hits)\n",
    "    features.append(grams_first_hits)\n",
    "    return features\n",
    "\n",
    "\n",
    "def append_ngrams(features, text_headline, text_body, size):\n",
    "    grams = [' '.join(x) for x in ngrams(text_headline, size)]\n",
    "    grams_hits = 0\n",
    "    grams_early_hits = 0\n",
    "    for gram in grams:\n",
    "        if gram in text_body:\n",
    "            grams_hits += 1\n",
    "        if gram in text_body[:255]:\n",
    "            grams_early_hits += 1\n",
    "    features.append(grams_hits)\n",
    "    features.append(grams_early_hits)\n",
    "    return features\n",
    "\n",
    "\n",
    "def hand_features(headlines, bodies):\n",
    "    def binary_co_occurence(headline, body):\n",
    "        # Count how many times a token in the title\n",
    "        # appears in the body text.\n",
    "        bin_count = 0\n",
    "        bin_count_early = 0\n",
    "        for headline_token in clean(headline).split(\" \"):\n",
    "            if headline_token in clean(body):\n",
    "                bin_count += 1\n",
    "            if headline_token in clean(body)[:255]:\n",
    "                bin_count_early += 1\n",
    "        return [bin_count, bin_count_early]\n",
    "\n",
    "    def binary_co_occurence_stops(headline, body):\n",
    "        # Count how many times a token in the title\n",
    "        # appears in the body text. Stopwords in the title\n",
    "        # are ignored.\n",
    "        bin_count = 0\n",
    "        bin_count_early = 0\n",
    "        for headline_token in remove_stopwords(clean(headline).split(\" \")):\n",
    "            if headline_token in clean(body):\n",
    "                bin_count += 1\n",
    "                bin_count_early += 1\n",
    "        return [bin_count, bin_count_early]\n",
    "\n",
    "    def count_grams(headline, body):\n",
    "        # Count how many times an n-gram of the title\n",
    "        # appears in the entire body, and intro paragraph\n",
    "\n",
    "        clean_body = clean(body)\n",
    "        clean_headline = clean(headline)\n",
    "        features = []\n",
    "        features = append_chargrams(features, clean_headline, clean_body, 2)\n",
    "        features = append_chargrams(features, clean_headline, clean_body, 8)\n",
    "        features = append_chargrams(features, clean_headline, clean_body, 4)\n",
    "        features = append_chargrams(features, clean_headline, clean_body, 16)\n",
    "        features = append_ngrams(features, clean_headline, clean_body, 2)\n",
    "        features = append_ngrams(features, clean_headline, clean_body, 3)\n",
    "        features = append_ngrams(features, clean_headline, clean_body, 4)\n",
    "        features = append_ngrams(features, clean_headline, clean_body, 5)\n",
    "        features = append_ngrams(features, clean_headline, clean_body, 6)\n",
    "        return features\n",
    "\n",
    "    def other_feature(headline, body):\n",
    "        features=[]\n",
    "        features= word_overlap_features(features, headline, body)\n",
    "        return features\n",
    "    X = []\n",
    "    for i, (headline, body) in tqdm(enumerate(zip(headlines, bodies))):\n",
    "        lst= binary_co_occurence(headline, body) + binary_co_occurence_stops(headline, body) + count_grams(headline, body)+ other_feature(headline, body)\n",
    "        X.append(lst)\n",
    "\n",
    "\n",
    "    X =np.array(X)\n",
    "    return X"
   ]
  },
  {
   "cell_type": "code",
   "execution_count": 24,
   "metadata": {},
   "outputs": [
    {
     "name": "stderr",
     "output_type": "stream",
     "text": [
      "[nltk_data] Downloading package omw-1.4 to\n",
      "[nltk_data]     /Users/vidushibhargava/nltk_data...\n"
     ]
    },
    {
     "data": {
      "text/plain": [
       "True"
      ]
     },
     "execution_count": 24,
     "metadata": {},
     "output_type": "execute_result"
    }
   ],
   "source": [
    "import nltk\n",
    "nltk.download('omw-1.4')"
   ]
  },
  {
   "cell_type": "code",
   "execution_count": 25,
   "metadata": {
    "execution": {
     "iopub.execute_input": "2023-04-16T23:24:10.049819Z",
     "iopub.status.busy": "2023-04-16T23:24:10.049387Z",
     "iopub.status.idle": "2023-04-16T23:36:25.132194Z",
     "shell.execute_reply": "2023-04-16T23:36:25.131163Z",
     "shell.execute_reply.started": "2023-04-16T23:24:10.049729Z"
    }
   },
   "outputs": [
    {
     "name": "stderr",
     "output_type": "stream",
     "text": [
      "49972it [06:10, 135.03it/s]\n",
      "25413it [03:24, 124.08it/s]\n"
     ]
    }
   ],
   "source": [
    "train_handF= hand_features(trainFile['Headline'].tolist(), trainFile['articleBody'].tolist())\n",
    "test_handF=hand_features(testFile['Headline'].tolist(), testFile['articleBody'].tolist())"
   ]
  },
  {
   "cell_type": "code",
   "execution_count": 26,
   "metadata": {
    "execution": {
     "iopub.execute_input": "2023-04-16T23:36:25.134273Z",
     "iopub.status.busy": "2023-04-16T23:36:25.133677Z",
     "iopub.status.idle": "2023-04-16T23:36:25.139370Z",
     "shell.execute_reply": "2023-04-16T23:36:25.137865Z",
     "shell.execute_reply.started": "2023-04-16T23:36:25.134205Z"
    }
   },
   "outputs": [],
   "source": [
    "from scipy.sparse import  hstack"
   ]
  },
  {
   "cell_type": "code",
   "execution_count": 27,
   "metadata": {
    "execution": {
     "iopub.execute_input": "2023-04-16T23:36:25.141432Z",
     "iopub.status.busy": "2023-04-16T23:36:25.141052Z",
     "iopub.status.idle": "2023-04-16T23:36:25.292436Z",
     "shell.execute_reply": "2023-04-16T23:36:25.291551Z",
     "shell.execute_reply.started": "2023-04-16T23:36:25.141360Z"
    }
   },
   "outputs": [],
   "source": [
    "train_final= hstack([train_head_vec,train_body_vec]).toarray()\n"
   ]
  },
  {
   "cell_type": "code",
   "execution_count": 28,
   "metadata": {
    "execution": {
     "iopub.execute_input": "2023-04-16T23:36:25.294023Z",
     "iopub.status.busy": "2023-04-16T23:36:25.293722Z",
     "iopub.status.idle": "2023-04-16T23:36:25.363501Z",
     "shell.execute_reply": "2023-04-16T23:36:25.362497Z",
     "shell.execute_reply.started": "2023-04-16T23:36:25.293928Z"
    }
   },
   "outputs": [],
   "source": [
    "test_final= hstack([test_head_vec,test_body_vec]).toarray()"
   ]
  },
  {
   "cell_type": "code",
   "execution_count": 29,
   "metadata": {
    "execution": {
     "iopub.execute_input": "2023-04-16T23:36:25.365350Z",
     "iopub.status.busy": "2023-04-16T23:36:25.364990Z",
     "iopub.status.idle": "2023-04-16T23:36:25.486726Z",
     "shell.execute_reply": "2023-04-16T23:36:25.485746Z",
     "shell.execute_reply.started": "2023-04-16T23:36:25.365280Z"
    }
   },
   "outputs": [],
   "source": [
    "train_final =np.concatenate((train_final,train_handF), axis=1)\n",
    "test_final =np.concatenate((test_final,test_handF), axis=1)"
   ]
  },
  {
   "cell_type": "code",
   "execution_count": 30,
   "metadata": {
    "execution": {
     "iopub.execute_input": "2023-04-16T23:36:25.488996Z",
     "iopub.status.busy": "2023-04-16T23:36:25.488259Z",
     "iopub.status.idle": "2023-04-16T23:36:25.494970Z",
     "shell.execute_reply": "2023-04-16T23:36:25.493956Z",
     "shell.execute_reply.started": "2023-04-16T23:36:25.488848Z"
    }
   },
   "outputs": [
    {
     "name": "stdout",
     "output_type": "stream",
     "text": [
      "<class 'numpy.ndarray'> (49972, 187) (25413, 187)\n"
     ]
    }
   ],
   "source": [
    "print(type(train_final), train_final.shape, test_final.shape)"
   ]
  },
  {
   "cell_type": "code",
   "execution_count": 31,
   "metadata": {
    "execution": {
     "iopub.execute_input": "2023-04-15T21:09:42.109003Z",
     "iopub.status.busy": "2023-04-15T21:09:42.108788Z",
     "iopub.status.idle": "2023-04-15T21:09:42.138968Z",
     "shell.execute_reply": "2023-04-15T21:09:42.137615Z",
     "shell.execute_reply.started": "2023-04-15T21:09:42.108957Z"
    }
   },
   "outputs": [
    {
     "data": {
      "text/html": [
       "<div>\n",
       "<style scoped>\n",
       "    .dataframe tbody tr th:only-of-type {\n",
       "        vertical-align: middle;\n",
       "    }\n",
       "\n",
       "    .dataframe tbody tr th {\n",
       "        vertical-align: top;\n",
       "    }\n",
       "\n",
       "    .dataframe thead th {\n",
       "        text-align: right;\n",
       "    }\n",
       "</style>\n",
       "<table border=\"1\" class=\"dataframe\">\n",
       "  <thead>\n",
       "    <tr style=\"text-align: right;\">\n",
       "      <th></th>\n",
       "      <th>Body ID</th>\n",
       "      <th>articleBody</th>\n",
       "      <th>Headline</th>\n",
       "      <th>Stance</th>\n",
       "    </tr>\n",
       "  </thead>\n",
       "  <tbody>\n",
       "    <tr>\n",
       "      <th>0</th>\n",
       "      <td>0</td>\n",
       "      <td>A small meteorite crashed into a wooded area i...</td>\n",
       "      <td>Soldier shot, Parliament locked down after gun...</td>\n",
       "      <td>unrelated</td>\n",
       "    </tr>\n",
       "    <tr>\n",
       "      <th>1</th>\n",
       "      <td>0</td>\n",
       "      <td>A small meteorite crashed into a wooded area i...</td>\n",
       "      <td>Tourist dubbed Spider Man after spider burro...</td>\n",
       "      <td>unrelated</td>\n",
       "    </tr>\n",
       "    <tr>\n",
       "      <th>2</th>\n",
       "      <td>0</td>\n",
       "      <td>A small meteorite crashed into a wooded area i...</td>\n",
       "      <td>Luke Somers 'killed in failed rescue attempt i...</td>\n",
       "      <td>unrelated</td>\n",
       "    </tr>\n",
       "    <tr>\n",
       "      <th>3</th>\n",
       "      <td>0</td>\n",
       "      <td>A small meteorite crashed into a wooded area i...</td>\n",
       "      <td>BREAKING: Soldier shot at War Memorial in Ottawa</td>\n",
       "      <td>unrelated</td>\n",
       "    </tr>\n",
       "    <tr>\n",
       "      <th>4</th>\n",
       "      <td>0</td>\n",
       "      <td>A small meteorite crashed into a wooded area i...</td>\n",
       "      <td>Giant 8ft 9in catfish weighing 19 stone caught...</td>\n",
       "      <td>unrelated</td>\n",
       "    </tr>\n",
       "  </tbody>\n",
       "</table>\n",
       "</div>"
      ],
      "text/plain": [
       "   Body ID                                        articleBody  \\\n",
       "0        0  A small meteorite crashed into a wooded area i...   \n",
       "1        0  A small meteorite crashed into a wooded area i...   \n",
       "2        0  A small meteorite crashed into a wooded area i...   \n",
       "3        0  A small meteorite crashed into a wooded area i...   \n",
       "4        0  A small meteorite crashed into a wooded area i...   \n",
       "\n",
       "                                            Headline     Stance  \n",
       "0  Soldier shot, Parliament locked down after gun...  unrelated  \n",
       "1  Tourist dubbed Spider Man after spider burro...  unrelated  \n",
       "2  Luke Somers 'killed in failed rescue attempt i...  unrelated  \n",
       "3   BREAKING: Soldier shot at War Memorial in Ottawa  unrelated  \n",
       "4  Giant 8ft 9in catfish weighing 19 stone caught...  unrelated  "
      ]
     },
     "execution_count": 31,
     "metadata": {},
     "output_type": "execute_result"
    }
   ],
   "source": [
    "trainFile.head()"
   ]
  },
  {
   "cell_type": "code",
   "execution_count": 32,
   "metadata": {
    "execution": {
     "iopub.execute_input": "2023-04-16T23:36:25.496563Z",
     "iopub.status.busy": "2023-04-16T23:36:25.496313Z",
     "iopub.status.idle": "2023-04-16T23:36:25.508884Z",
     "shell.execute_reply": "2023-04-16T23:36:25.507808Z",
     "shell.execute_reply.started": "2023-04-16T23:36:25.496520Z"
    }
   },
   "outputs": [],
   "source": [
    "train_labels= trainFile['Stance'].copy()\n",
    "test_labels= testFile['Stance'].copy()"
   ]
  },
  {
   "cell_type": "code",
   "execution_count": 32,
   "metadata": {
    "execution": {
     "iopub.execute_input": "2023-04-17T01:34:39.839907Z",
     "iopub.status.busy": "2023-04-17T01:34:39.839526Z",
     "iopub.status.idle": "2023-04-17T01:34:39.846746Z",
     "shell.execute_reply": "2023-04-17T01:34:39.845767Z",
     "shell.execute_reply.started": "2023-04-17T01:34:39.839854Z"
    }
   },
   "outputs": [
    {
     "data": {
      "text/plain": [
       "(25413,)"
      ]
     },
     "execution_count": 32,
     "metadata": {},
     "output_type": "execute_result"
    }
   ],
   "source": [
    "test_labels.shape"
   ]
  },
  {
   "cell_type": "code",
   "execution_count": 35,
   "metadata": {
    "execution": {
     "iopub.execute_input": "2023-04-17T01:36:10.551809Z",
     "iopub.status.busy": "2023-04-17T01:36:10.551379Z",
     "iopub.status.idle": "2023-04-17T01:36:10.558672Z",
     "shell.execute_reply": "2023-04-17T01:36:10.556836Z",
     "shell.execute_reply.started": "2023-04-17T01:36:10.551737Z"
    }
   },
   "outputs": [],
   "source": [
    "#test_labels_array = test_labels.values\n",
    "\n",
    "# Reshape numpy array\n",
    "#test_labels_reshaped = test_labels_array.reshape(-1, 1)"
   ]
  },
  {
   "cell_type": "markdown",
   "metadata": {},
   "source": [
    "# Naive Bayes"
   ]
  },
  {
   "cell_type": "code",
   "execution_count": 36,
   "metadata": {
    "execution": {
     "iopub.execute_input": "2023-04-16T16:46:20.598816Z",
     "iopub.status.busy": "2023-04-16T16:46:20.598444Z",
     "iopub.status.idle": "2023-04-16T16:46:20.604165Z",
     "shell.execute_reply": "2023-04-16T16:46:20.602849Z",
     "shell.execute_reply.started": "2023-04-16T16:46:20.598758Z"
    }
   },
   "outputs": [],
   "source": [
    "from sklearn.metrics import accuracy_score"
   ]
  },
  {
   "cell_type": "code",
   "execution_count": 37,
   "metadata": {
    "execution": {
     "iopub.execute_input": "2023-04-15T14:40:57.780916Z",
     "iopub.status.busy": "2023-04-15T14:40:57.780554Z",
     "iopub.status.idle": "2023-04-15T14:40:57.933202Z",
     "shell.execute_reply": "2023-04-15T14:40:57.932575Z",
     "shell.execute_reply.started": "2023-04-15T14:40:57.780822Z"
    }
   },
   "outputs": [
    {
     "data": {
      "text/plain": [
       "MultinomialNB(alpha=0.34)"
      ]
     },
     "execution_count": 37,
     "metadata": {},
     "output_type": "execute_result"
    }
   ],
   "source": [
    "from sklearn.naive_bayes import MultinomialNB\n",
    "\n",
    "mnb = MultinomialNB(alpha=0.34)\n",
    "mnb.fit(train_final, train_labels)"
   ]
  },
  {
   "cell_type": "code",
   "execution_count": 38,
   "metadata": {
    "execution": {
     "iopub.execute_input": "2023-04-15T14:40:57.935658Z",
     "iopub.status.busy": "2023-04-15T14:40:57.935200Z",
     "iopub.status.idle": "2023-04-15T14:40:57.978925Z",
     "shell.execute_reply": "2023-04-15T14:40:57.978348Z",
     "shell.execute_reply.started": "2023-04-15T14:40:57.935599Z"
    }
   },
   "outputs": [
    {
     "data": {
      "text/plain": [
       "0.8256404202573486"
      ]
     },
     "execution_count": 38,
     "metadata": {},
     "output_type": "execute_result"
    }
   ],
   "source": [
    "#testing naive bayes\n",
    "prediction = mnb.predict(test_final)\n",
    "accuracy_score(test_labels,prediction)"
   ]
  },
  {
   "cell_type": "code",
   "execution_count": 39,
   "metadata": {
    "execution": {
     "iopub.execute_input": "2023-04-15T14:40:57.980280Z",
     "iopub.status.busy": "2023-04-15T14:40:57.979894Z",
     "iopub.status.idle": "2023-04-15T14:40:57.990405Z",
     "shell.execute_reply": "2023-04-15T14:40:57.989889Z",
     "shell.execute_reply.started": "2023-04-15T14:40:57.980239Z"
    }
   },
   "outputs": [
    {
     "data": {
      "text/plain": [
       "array(['agree', 'disagree', 'discuss', 'unrelated'], dtype='<U9')"
      ]
     },
     "execution_count": 39,
     "metadata": {},
     "output_type": "execute_result"
    }
   ],
   "source": [
    "np.unique(prediction)"
   ]
  },
  {
   "cell_type": "code",
   "execution_count": 41,
   "metadata": {},
   "outputs": [
    {
     "name": "stdout",
     "output_type": "stream",
     "text": [
      "Collecting matplotlib\n",
      "  Downloading matplotlib-3.3.4-cp36-cp36m-macosx_10_9_x86_64.whl (8.5 MB)\n",
      "\u001b[K     |████████████████████████████████| 8.5 MB 3.1 MB/s eta 0:00:01\n",
      "\u001b[?25hRequirement already satisfied: pyparsing!=2.0.4,!=2.1.2,!=2.1.6,>=2.0.3 in ./opt/anaconda3/envs/env_pytorch/lib/python3.6/site-packages (from matplotlib) (3.0.4)\n",
      "Collecting cycler>=0.10\n",
      "  Using cached cycler-0.11.0-py3-none-any.whl (6.4 kB)\n",
      "Collecting kiwisolver>=1.0.1\n",
      "  Downloading kiwisolver-1.3.1-cp36-cp36m-macosx_10_9_x86_64.whl (61 kB)\n",
      "\u001b[K     |████████████████████████████████| 61 kB 4.4 MB/s eta 0:00:01\n",
      "\u001b[?25hRequirement already satisfied: python-dateutil>=2.1 in ./opt/anaconda3/envs/env_pytorch/lib/python3.6/site-packages (from matplotlib) (2.8.2)\n",
      "Requirement already satisfied: pillow>=6.2.0 in ./opt/anaconda3/envs/env_pytorch/lib/python3.6/site-packages (from matplotlib) (8.4.0)\n",
      "Requirement already satisfied: numpy>=1.15 in ./opt/anaconda3/envs/env_pytorch/lib/python3.6/site-packages (from matplotlib) (1.19.5)\n",
      "Requirement already satisfied: six>=1.5 in ./opt/anaconda3/envs/env_pytorch/lib/python3.6/site-packages (from python-dateutil>=2.1->matplotlib) (1.15.0)\n",
      "Installing collected packages: kiwisolver, cycler, matplotlib\n",
      "Successfully installed cycler-0.11.0 kiwisolver-1.3.1 matplotlib-3.3.4\n",
      "Note: you may need to restart the kernel to use updated packages.\n"
     ]
    }
   ],
   "source": [
    "pip install matplotlib"
   ]
  },
  {
   "cell_type": "code",
   "execution_count": 42,
   "metadata": {
    "execution": {
     "iopub.execute_input": "2023-04-15T23:12:41.775384Z",
     "iopub.status.busy": "2023-04-15T23:12:41.775091Z",
     "iopub.status.idle": "2023-04-15T23:12:41.780066Z",
     "shell.execute_reply": "2023-04-15T23:12:41.779019Z",
     "shell.execute_reply.started": "2023-04-15T23:12:41.775339Z"
    }
   },
   "outputs": [],
   "source": [
    "from sklearn.metrics import confusion_matrix\n",
    "from sklearn.utils.multiclass import unique_labels\n",
    "import matplotlib.pyplot as plt"
   ]
  },
  {
   "cell_type": "code",
   "execution_count": 43,
   "metadata": {
    "execution": {
     "iopub.execute_input": "2023-04-15T14:40:57.999965Z",
     "iopub.status.busy": "2023-04-15T14:40:57.998940Z",
     "iopub.status.idle": "2023-04-15T14:40:58.090368Z",
     "shell.execute_reply": "2023-04-15T14:40:58.089771Z",
     "shell.execute_reply.started": "2023-04-15T14:40:57.999922Z"
    }
   },
   "outputs": [],
   "source": [
    "matrix1 = confusion_matrix(test_labels, prediction)"
   ]
  },
  {
   "cell_type": "code",
   "execution_count": 44,
   "metadata": {
    "execution": {
     "iopub.execute_input": "2023-04-15T14:40:58.091596Z",
     "iopub.status.busy": "2023-04-15T14:40:58.091357Z",
     "iopub.status.idle": "2023-04-15T14:40:58.099206Z",
     "shell.execute_reply": "2023-04-15T14:40:58.098069Z",
     "shell.execute_reply.started": "2023-04-15T14:40:58.091548Z"
    }
   },
   "outputs": [
    {
     "data": {
      "text/plain": [
       "array([[  749,    80,   828,   246],\n",
       "       [  210,    31,   258,   198],\n",
       "       [  847,    93,  2856,   668],\n",
       "       [  217,    57,   729, 17346]])"
      ]
     },
     "execution_count": 44,
     "metadata": {},
     "output_type": "execute_result"
    }
   ],
   "source": [
    "matrix1"
   ]
  },
  {
   "cell_type": "code",
   "execution_count": 45,
   "metadata": {
    "execution": {
     "iopub.execute_input": "2023-04-15T23:12:43.327738Z",
     "iopub.status.busy": "2023-04-15T23:12:43.327413Z",
     "iopub.status.idle": "2023-04-15T23:12:43.339534Z",
     "shell.execute_reply": "2023-04-15T23:12:43.338716Z",
     "shell.execute_reply.started": "2023-04-15T23:12:43.327685Z"
    }
   },
   "outputs": [],
   "source": [
    "def plot_confusion_matrix(cm,\n",
    "                          target_names,\n",
    "                          title='Confusion matrix',\n",
    "                          cmap=None,\n",
    "                          normalize=True):\n",
    "    \"\"\"\n",
    "    given a sklearn confusion matrix (cm), make a nice plot\n",
    "\n",
    "    Arguments\n",
    "    ---------\n",
    "    cm:           confusion matrix from sklearn.metrics.confusion_matrix\n",
    "\n",
    "    target_names: given classification classes such as [0, 1, 2]\n",
    "                  the class names, for example: ['high', 'medium', 'low']\n",
    "\n",
    "    title:        the text to display at the top of the matrix\n",
    "\n",
    "    cmap:         the gradient of the values displayed from matplotlib.pyplot.cm\n",
    "                  see http://matplotlib.org/examples/color/colormaps_reference.html\n",
    "                  plt.get_cmap('jet') or plt.cm.Blues\n",
    "\n",
    "    normalize:    If False, plot the raw numbers\n",
    "                  If True, plot the proportions\n",
    "\n",
    "    Usage\n",
    "    -----\n",
    "    plot_confusion_matrix(cm           = cm,                  # confusion matrix created by\n",
    "                                                              # sklearn.metrics.confusion_matrix\n",
    "                          normalize    = True,                # show proportions\n",
    "                          target_names = y_labels_vals,       # list of names of the classes\n",
    "                          title        = best_estimator_name) # title of graph\n",
    "\n",
    "    Citiation\n",
    "    ---------\n",
    "    http://scikit-learn.org/stable/auto_examples/model_selection/plot_confusion_matrix.html\n",
    "\n",
    "    \"\"\"\n",
    "    import matplotlib.pyplot as plt\n",
    "    import numpy as np\n",
    "    import itertools\n",
    "\n",
    "    accuracy = np.trace(cm) / float(np.sum(cm))\n",
    "    misclass = 1 - accuracy\n",
    "\n",
    "    if cmap is None:\n",
    "        cmap = plt.get_cmap('Blues')\n",
    "\n",
    "    plt.figure(figsize=(8, 6))\n",
    "    plt.imshow(cm, interpolation='nearest', cmap=cmap)\n",
    "    plt.title(title)\n",
    "    plt.colorbar()\n",
    "\n",
    "    if target_names is not None:\n",
    "        tick_marks = np.arange(len(target_names))\n",
    "        plt.xticks(tick_marks, target_names, rotation=45)\n",
    "        plt.yticks(tick_marks, target_names)\n",
    "\n",
    "    if normalize:\n",
    "        cm = cm.astype('float') / cm.sum(axis=1)[:, np.newaxis]\n",
    "\n",
    "\n",
    "    thresh = cm.max() / 1.5 if normalize else cm.max() / 2\n",
    "    for i, j in itertools.product(range(cm.shape[0]), range(cm.shape[1])):\n",
    "        if normalize:\n",
    "            plt.text(j, i, \"{:0.4f}\".format(cm[i, j]),\n",
    "                     horizontalalignment=\"center\",\n",
    "                     color=\"white\" if cm[i, j] > thresh else \"black\")\n",
    "        else:\n",
    "            plt.text(j, i, \"{:,}\".format(cm[i, j]),\n",
    "                     horizontalalignment=\"center\",\n",
    "                     color=\"white\" if cm[i, j] > thresh else \"black\")\n",
    "\n",
    "\n",
    "    plt.tight_layout()\n",
    "    plt.ylabel('True label')\n",
    "    plt.xlabel('Predicted label\\naccuracy={:0.4f}; misclass={:0.4f}'.format(accuracy, misclass))\n",
    "    plt.show()"
   ]
  },
  {
   "cell_type": "code",
   "execution_count": 46,
   "metadata": {
    "execution": {
     "iopub.execute_input": "2023-04-15T14:40:58.115007Z",
     "iopub.status.busy": "2023-04-15T14:40:58.114691Z",
     "iopub.status.idle": "2023-04-15T14:40:58.499665Z",
     "shell.execute_reply": "2023-04-15T14:40:58.498580Z",
     "shell.execute_reply.started": "2023-04-15T14:40:58.114953Z"
    }
   },
   "outputs": [
    {
     "data": {
      "image/png": "[encoded data removed]",
      "text/plain": [
       "<Figure size 576x432 with 2 Axes>"
      ]
     },
     "metadata": {
      "needs_background": "light"
     },
     "output_type": "display_data"
    }
   ],
   "source": [
    "plot_confusion_matrix(cm=matrix1,target_names=['agree', 'disagree', 'discuss', 'unrelated'])"
   ]
  },
  {
   "cell_type": "markdown",
   "metadata": {
    "execution": {
     "iopub.execute_input": "2023-04-15T15:43:22.668390Z",
     "iopub.status.busy": "2023-04-15T15:43:22.668108Z",
     "iopub.status.idle": "2023-04-15T15:43:22.711435Z",
     "shell.execute_reply": "2023-04-15T15:43:22.710013Z",
     "shell.execute_reply.started": "2023-04-15T15:43:22.668342Z"
    }
   },
   "source": [
    "# Random Forest"
   ]
  },
  {
   "cell_type": "code",
   "execution_count": 50,
   "metadata": {},
   "outputs": [],
   "source": [
    "from sklearn.ensemble import RandomForestClassifier"
   ]
  },
  {
   "cell_type": "code",
   "execution_count": 47,
   "metadata": {
    "execution": {
     "iopub.execute_input": "2023-04-16T16:59:52.542693Z",
     "iopub.status.busy": "2023-04-16T16:59:52.541922Z",
     "iopub.status.idle": "2023-04-16T16:59:52.550696Z",
     "shell.execute_reply": "2023-04-16T16:59:52.549425Z",
     "shell.execute_reply.started": "2023-04-16T16:59:52.542613Z"
    }
   },
   "outputs": [],
   "source": [
    "def report(results, n_top=3):\n",
    "    for i in range(1, n_top + 1):\n",
    "        candidates = np.flatnonzero(results['rank_test_score'] == i)\n",
    "        for candidate in candidates:\n",
    "            print(\"Model with rank: {0}\".format(i))\n",
    "            print(\"Mean validation score: {0:.5f} (std: {1:.5f})\".format(\n",
    "                  results['mean_test_score'][candidate],\n",
    "                  results['std_test_score'][candidate]))\n",
    "            print(\"Parameters: {0}\".format(results['params'][candidate]))\n",
    "            print(\"\")"
   ]
  },
  {
   "cell_type": "code",
   "execution_count": 48,
   "metadata": {
    "execution": {
     "iopub.execute_input": "2023-04-16T16:59:54.671149Z",
     "iopub.status.busy": "2023-04-16T16:59:54.670782Z",
     "iopub.status.idle": "2023-04-16T16:59:54.679120Z",
     "shell.execute_reply": "2023-04-16T16:59:54.678015Z",
     "shell.execute_reply.started": "2023-04-16T16:59:54.671093Z"
    }
   },
   "outputs": [],
   "source": [
    "param_dist = {\"n_estimators\":[100,200,300,500,700,1000],\n",
    "              \"max_features\": [20,40,60,80,100,120,140,160,187],\n",
    "              \"bootstrap\": [True, False],\n",
    "              'class_weight':[None,'balanced'], \n",
    "                'criterion':['entropy','gini'],\n",
    "                'max_depth':[None,5,10,15,20,30,50,70],\n",
    "                'min_samples_leaf':[1,2,5,10,15,20], \n",
    "                'min_samples_split':[2,5,10,15,20]\n",
    "                  }"
   ]
  },
  {
   "cell_type": "code",
   "execution_count": 51,
   "metadata": {
    "execution": {
     "iopub.execute_input": "2023-04-16T16:59:56.902778Z",
     "iopub.status.busy": "2023-04-16T16:59:56.902090Z",
     "iopub.status.idle": "2023-04-16T16:59:56.908620Z",
     "shell.execute_reply": "2023-04-16T16:59:56.907317Z",
     "shell.execute_reply.started": "2023-04-16T16:59:56.902703Z"
    }
   },
   "outputs": [],
   "source": [
    "clf = RandomForestClassifier()"
   ]
  },
  {
   "cell_type": "code",
   "execution_count": 52,
   "metadata": {
    "execution": {
     "iopub.execute_input": "2023-04-16T16:59:58.736170Z",
     "iopub.status.busy": "2023-04-16T16:59:58.735481Z",
     "iopub.status.idle": "2023-04-16T16:59:58.740335Z",
     "shell.execute_reply": "2023-04-16T16:59:58.739586Z",
     "shell.execute_reply.started": "2023-04-16T16:59:58.735754Z"
    }
   },
   "outputs": [],
   "source": [
    "from sklearn.model_selection import RandomizedSearchCV"
   ]
  },
  {
   "cell_type": "code",
   "execution_count": 53,
   "metadata": {
    "execution": {
     "iopub.execute_input": "2023-04-16T17:00:00.887691Z",
     "iopub.status.busy": "2023-04-16T17:00:00.887081Z",
     "iopub.status.idle": "2023-04-16T17:00:00.892962Z",
     "shell.execute_reply": "2023-04-16T17:00:00.892028Z",
     "shell.execute_reply.started": "2023-04-16T17:00:00.887638Z"
    }
   },
   "outputs": [],
   "source": [
    "# run randomized search\n",
    "n_iter_search = 10\n",
    "# n_iter parameter of RandomizedSeacrhCV controls, how many \n",
    "# parameter combination will be tried; out of all possible given values\n",
    "\n",
    "random_search = RandomizedSearchCV(clf, param_distributions=param_dist,\n",
    "                                   n_iter=n_iter_search,\n",
    "                                   scoring='f1_micro',\n",
    "                                   cv=10,\n",
    "                                  n_jobs=-1,verbose=20)"
   ]
  },
  {
   "cell_type": "code",
   "execution_count": 54,
   "metadata": {
    "execution": {
     "iopub.execute_input": "2023-04-15T15:50:51.319251Z",
     "iopub.status.busy": "2023-04-15T15:50:51.318992Z",
     "iopub.status.idle": "2023-04-15T15:50:51.333239Z",
     "shell.execute_reply": "2023-04-15T15:50:51.331941Z",
     "shell.execute_reply.started": "2023-04-15T15:50:51.319207Z"
    }
   },
   "outputs": [
    {
     "data": {
      "text/plain": [
       "unrelated    36545\n",
       "discuss       8909\n",
       "agree         3678\n",
       "disagree       840\n",
       "Name: Stance, dtype: int64"
      ]
     },
     "execution_count": 54,
     "metadata": {},
     "output_type": "execute_result"
    }
   ],
   "source": [
    "train_labels.value_counts()"
   ]
  },
  {
   "cell_type": "code",
   "execution_count": 55,
   "metadata": {
    "execution": {
     "iopub.execute_input": "2023-04-15T15:56:13.191984Z",
     "iopub.status.busy": "2023-04-15T15:56:13.191610Z",
     "iopub.status.idle": "2023-04-15T15:56:13.198354Z",
     "shell.execute_reply": "2023-04-15T15:56:13.197044Z",
     "shell.execute_reply.started": "2023-04-15T15:56:13.191927Z"
    }
   },
   "outputs": [
    {
     "data": {
      "text/plain": [
       "(49972, 187)"
      ]
     },
     "execution_count": 55,
     "metadata": {},
     "output_type": "execute_result"
    }
   ],
   "source": [
    "train_final.shape"
   ]
  },
  {
   "cell_type": "code",
   "execution_count": 56,
   "metadata": {
    "execution": {
     "iopub.execute_input": "2023-04-15T15:54:38.144037Z",
     "iopub.status.busy": "2023-04-15T15:54:38.143711Z",
     "iopub.status.idle": "2023-04-15T15:54:38.159011Z",
     "shell.execute_reply": "2023-04-15T15:54:38.157582Z",
     "shell.execute_reply.started": "2023-04-15T15:54:38.143980Z"
    }
   },
   "outputs": [
    {
     "data": {
      "text/plain": [
       "0        0\n",
       "1        0\n",
       "2        0\n",
       "3        0\n",
       "4        0\n",
       "        ..\n",
       "49967    2\n",
       "49968    2\n",
       "49969    2\n",
       "49970    2\n",
       "49971    2\n",
       "Name: Stance, Length: 49972, dtype: int64"
      ]
     },
     "execution_count": 56,
     "metadata": {},
     "output_type": "execute_result"
    }
   ],
   "source": [
    "label_mapping = {'unrelated': 0, 'discuss': 1, 'agree': 2, 'disagree': 3}\n",
    "train_labels = train_labels.map(label_mapping)\n",
    "train_labels"
   ]
  },
  {
   "cell_type": "code",
   "execution_count": 60,
   "metadata": {},
   "outputs": [
    {
     "data": {
      "text/plain": [
       "0        0\n",
       "1        2\n",
       "2        0\n",
       "3        0\n",
       "4        0\n",
       "        ..\n",
       "25408    3\n",
       "25409    2\n",
       "25410    3\n",
       "25411    3\n",
       "25412    2\n",
       "Name: Stance, Length: 25413, dtype: int64"
      ]
     },
     "execution_count": 60,
     "metadata": {},
     "output_type": "execute_result"
    }
   ],
   "source": [
    "#label_mapping = {'unrelated': 0, 'discuss': 1, 'agree': 2, 'disagree': 3}\n",
    "test_labels = test_labels.map(label_mapping)\n",
    "test_labels"
   ]
  },
  {
   "cell_type": "code",
   "execution_count": 53,
   "metadata": {
    "execution": {
     "iopub.execute_input": "2023-04-15T16:09:09.643534Z",
     "iopub.status.busy": "2023-04-15T16:09:09.643248Z",
     "iopub.status.idle": "2023-04-15T19:05:31.465717Z",
     "shell.execute_reply": "2023-04-15T19:05:31.465181Z",
     "shell.execute_reply.started": "2023-04-15T16:09:09.643482Z"
    }
   },
   "outputs": [
    {
     "name": "stdout",
     "output_type": "stream",
     "text": [
      "Fitting 10 folds for each of 10 candidates, totalling 100 fits\n"
     ]
    },
    {
     "name": "stderr",
     "output_type": "stream",
     "text": [
      "[Parallel(n_jobs=-1)]: Using backend LokyBackend with 4 concurrent workers.\n",
      "[Parallel(n_jobs=-1)]: Done   1 tasks      | elapsed: 16.0min\n",
      "[Parallel(n_jobs=-1)]: Done   2 tasks      | elapsed: 16.8min\n",
      "[Parallel(n_jobs=-1)]: Done   3 tasks      | elapsed: 16.8min\n",
      "[Parallel(n_jobs=-1)]: Done   4 tasks      | elapsed: 17.6min\n",
      "[Parallel(n_jobs=-1)]: Done   5 tasks      | elapsed: 31.3min\n",
      "[Parallel(n_jobs=-1)]: Done   6 tasks      | elapsed: 33.3min\n",
      "[Parallel(n_jobs=-1)]: Done   7 tasks      | elapsed: 33.7min\n",
      "[Parallel(n_jobs=-1)]: Done   8 tasks      | elapsed: 33.9min\n",
      "[Parallel(n_jobs=-1)]: Done   9 tasks      | elapsed: 37.5min\n",
      "[Parallel(n_jobs=-1)]: Done  10 tasks      | elapsed: 37.8min\n",
      "[Parallel(n_jobs=-1)]: Done  11 tasks      | elapsed: 41.4min\n",
      "[Parallel(n_jobs=-1)]: Done  12 tasks      | elapsed: 41.8min\n",
      "[Parallel(n_jobs=-1)]: Done  13 tasks      | elapsed: 45.5min\n",
      "[Parallel(n_jobs=-1)]: Done  14 tasks      | elapsed: 45.9min\n",
      "[Parallel(n_jobs=-1)]: Done  15 tasks      | elapsed: 47.9min\n",
      "[Parallel(n_jobs=-1)]: Done  16 tasks      | elapsed: 48.9min\n",
      "[Parallel(n_jobs=-1)]: Done  17 tasks      | elapsed: 49.4min\n",
      "[Parallel(n_jobs=-1)]: Done  18 tasks      | elapsed: 49.8min\n",
      "[Parallel(n_jobs=-1)]: Done  19 tasks      | elapsed: 51.7min\n",
      "[Parallel(n_jobs=-1)]: Done  20 tasks      | elapsed: 52.6min\n",
      "[Parallel(n_jobs=-1)]: Done  21 tasks      | elapsed: 57.7min\n",
      "[Parallel(n_jobs=-1)]: Done  22 tasks      | elapsed: 58.2min\n",
      "[Parallel(n_jobs=-1)]: Done  23 tasks      | elapsed: 60.1min\n",
      "[Parallel(n_jobs=-1)]: Done  24 tasks      | elapsed: 61.0min\n",
      "[Parallel(n_jobs=-1)]: Done  25 tasks      | elapsed: 66.3min\n",
      "[Parallel(n_jobs=-1)]: Done  26 tasks      | elapsed: 66.8min\n",
      "[Parallel(n_jobs=-1)]: Done  27 tasks      | elapsed: 68.6min\n",
      "[Parallel(n_jobs=-1)]: Done  28 tasks      | elapsed: 69.5min\n",
      "[Parallel(n_jobs=-1)]: Done  31 tasks      | elapsed: 83.0min\n",
      "[Parallel(n_jobs=-1)]: Done  32 tasks      | elapsed: 84.0min\n",
      "[Parallel(n_jobs=-1)]: Done  33 tasks      | elapsed: 89.4min\n",
      "/opt/conda/lib/python3.6/site-packages/sklearn/externals/joblib/externals/loky/process_executor.py:706: UserWarning: A worker stopped while some jobs were given to the executor. This can be caused by a too short worker timeout or by a memory leak.\n",
      "  \"timeout or by a memory leak.\", UserWarning\n",
      "[Parallel(n_jobs=-1)]: Done  34 tasks      | elapsed: 89.6min\n",
      "[Parallel(n_jobs=-1)]: Done  35 tasks      | elapsed: 97.6min\n",
      "[Parallel(n_jobs=-1)]: Done  36 tasks      | elapsed: 98.7min\n",
      "[Parallel(n_jobs=-1)]: Done  37 tasks      | elapsed: 104.1min\n",
      "[Parallel(n_jobs=-1)]: Done  38 tasks      | elapsed: 104.2min\n",
      "[Parallel(n_jobs=-1)]: Done  39 tasks      | elapsed: 111.9min\n",
      "[Parallel(n_jobs=-1)]: Done  40 tasks      | elapsed: 112.2min\n",
      "[Parallel(n_jobs=-1)]: Done  41 tasks      | elapsed: 112.4min\n",
      "[Parallel(n_jobs=-1)]: Done  42 tasks      | elapsed: 113.0min\n",
      "[Parallel(n_jobs=-1)]: Done  43 tasks      | elapsed: 119.8min\n",
      "[Parallel(n_jobs=-1)]: Done  44 tasks      | elapsed: 120.2min\n",
      "[Parallel(n_jobs=-1)]: Done  45 tasks      | elapsed: 120.6min\n",
      "[Parallel(n_jobs=-1)]: Done  46 tasks      | elapsed: 121.3min\n",
      "[Parallel(n_jobs=-1)]: Done  47 tasks      | elapsed: 127.8min\n",
      "[Parallel(n_jobs=-1)]: Done  48 tasks      | elapsed: 128.1min\n",
      "[Parallel(n_jobs=-1)]: Done  49 tasks      | elapsed: 128.5min\n",
      "[Parallel(n_jobs=-1)]: Done  50 tasks      | elapsed: 128.8min\n",
      "[Parallel(n_jobs=-1)]: Done  51 tasks      | elapsed: 133.3min\n",
      "[Parallel(n_jobs=-1)]: Done  52 tasks      | elapsed: 133.6min\n",
      "[Parallel(n_jobs=-1)]: Done  53 tasks      | elapsed: 134.0min\n",
      "[Parallel(n_jobs=-1)]: Done  54 tasks      | elapsed: 134.4min\n",
      "[Parallel(n_jobs=-1)]: Done  55 tasks      | elapsed: 139.1min\n",
      "[Parallel(n_jobs=-1)]: Done  56 tasks      | elapsed: 139.4min\n",
      "[Parallel(n_jobs=-1)]: Done  57 tasks      | elapsed: 139.5min\n",
      "[Parallel(n_jobs=-1)]: Done  58 tasks      | elapsed: 140.1min\n",
      "[Parallel(n_jobs=-1)]: Done  63 tasks      | elapsed: 149.8min\n",
      "[Parallel(n_jobs=-1)]: Done  64 tasks      | elapsed: 149.9min\n",
      "[Parallel(n_jobs=-1)]: Done  65 tasks      | elapsed: 149.9min\n",
      "[Parallel(n_jobs=-1)]: Done  66 tasks      | elapsed: 150.4min\n",
      "[Parallel(n_jobs=-1)]: Done  67 tasks      | elapsed: 155.1min\n",
      "[Parallel(n_jobs=-1)]: Done  68 tasks      | elapsed: 155.2min\n",
      "[Parallel(n_jobs=-1)]: Done  69 tasks      | elapsed: 155.2min\n",
      "[Parallel(n_jobs=-1)]: Done  70 tasks      | elapsed: 155.4min\n",
      "[Parallel(n_jobs=-1)]: Done  71 tasks      | elapsed: 156.6min\n",
      "[Parallel(n_jobs=-1)]: Done  72 tasks      | elapsed: 156.7min\n",
      "[Parallel(n_jobs=-1)]: Done  73 tasks      | elapsed: 156.7min\n",
      "[Parallel(n_jobs=-1)]: Done  74 tasks      | elapsed: 156.9min\n",
      "[Parallel(n_jobs=-1)]: Done  75 tasks      | elapsed: 158.1min\n",
      "[Parallel(n_jobs=-1)]: Done  76 tasks      | elapsed: 158.2min\n",
      "[Parallel(n_jobs=-1)]: Done  77 tasks      | elapsed: 158.2min\n",
      "[Parallel(n_jobs=-1)]: Done  78 tasks      | elapsed: 158.3min\n",
      "[Parallel(n_jobs=-1)]: Done  79 tasks      | elapsed: 159.6min\n",
      "[Parallel(n_jobs=-1)]: Done  80 tasks      | elapsed: 159.6min\n",
      "[Parallel(n_jobs=-1)]: Done  81 tasks      | elapsed: 162.3min\n",
      "[Parallel(n_jobs=-1)]: Done  82 tasks      | elapsed: 162.4min\n",
      "[Parallel(n_jobs=-1)]: Done  83 tasks      | elapsed: 163.6min\n",
      "[Parallel(n_jobs=-1)]: Done  84 tasks      | elapsed: 163.7min\n",
      "[Parallel(n_jobs=-1)]: Done  85 tasks      | elapsed: 166.4min\n",
      "[Parallel(n_jobs=-1)]: Done  86 tasks      | elapsed: 166.5min\n",
      "[Parallel(n_jobs=-1)]: Done  87 tasks      | elapsed: 167.8min\n",
      "[Parallel(n_jobs=-1)]: Done  88 tasks      | elapsed: 167.8min\n",
      "[Parallel(n_jobs=-1)]: Done  89 tasks      | elapsed: 170.2min\n",
      "[Parallel(n_jobs=-1)]: Done  90 tasks      | elapsed: 170.2min\n",
      "[Parallel(n_jobs=-1)]: Done  91 tasks      | elapsed: 170.5min\n",
      "[Parallel(n_jobs=-1)]: Done  92 tasks      | elapsed: 170.5min\n",
      "[Parallel(n_jobs=-1)]: Done  93 tasks      | elapsed: 172.5min\n",
      "[Parallel(n_jobs=-1)]: Done 100 out of 100 | elapsed: 175.2min finished\n"
     ]
    },
    {
     "data": {
      "text/plain": [
       "RandomizedSearchCV(cv=10, error_score='raise-deprecating',\n",
       "          estimator=RandomForestClassifier(bootstrap=True, class_weight=None, criterion='gini',\n",
       "            max_depth=None, max_features='auto', max_leaf_nodes=None,\n",
       "            min_impurity_decrease=0.0, min_impurity_split=None,\n",
       "            min_samples_leaf=1, min_samples_split=2,\n",
       "            min_weight_fraction_leaf=0.0, n_estimators='warn', n_jobs=None,\n",
       "            oob_score=False, random_state=None, verbose=0,\n",
       "            warm_start=False),\n",
       "          fit_params=None, iid='warn', n_iter=10, n_jobs=-1,\n",
       "          param_distributions={'n_estimators': [100, 200, 300, 500, 700, 1000], 'max_features': [20, 40, 60, 80, 100, 120, 140, 160, 187], 'bootstrap': [True, False], 'class_weight': [None, 'balanced'], 'criterion': ['entropy', 'gini'], 'max_depth': [None, 5, 10, 15, 20, 30, 50, 70], 'min_samples_leaf': [1, 2, 5, 10, 15, 20], 'min_samples_split': [2, 5, 10, 15, 20]},\n",
       "          pre_dispatch='2*n_jobs', random_state=None, refit=True,\n",
       "          return_train_score='warn', scoring='f1_micro', verbose=20)"
      ]
     },
     "execution_count": 53,
     "metadata": {},
     "output_type": "execute_result"
    }
   ],
   "source": [
    "random_search.fit(train_final,train_labels)"
   ]
  },
  {
   "cell_type": "code",
   "execution_count": 54,
   "metadata": {
    "execution": {
     "iopub.execute_input": "2023-04-15T19:31:26.206494Z",
     "iopub.status.busy": "2023-04-15T19:31:26.206234Z",
     "iopub.status.idle": "2023-04-15T19:31:26.214186Z",
     "shell.execute_reply": "2023-04-15T19:31:26.213414Z",
     "shell.execute_reply.started": "2023-04-15T19:31:26.206456Z"
    }
   },
   "outputs": [
    {
     "name": "stdout",
     "output_type": "stream",
     "text": [
      "Model with rank: 1\n",
      "Mean validation score: 0.89134 (std: 0.00654)\n",
      "Parameters: {'n_estimators': 100, 'min_samples_split': 10, 'min_samples_leaf': 15, 'max_features': 60, 'max_depth': 30, 'criterion': 'entropy', 'class_weight': None, 'bootstrap': False}\n",
      "\n",
      "Model with rank: 2\n",
      "Mean validation score: 0.88898 (std: 0.00752)\n",
      "Parameters: {'n_estimators': 100, 'min_samples_split': 15, 'min_samples_leaf': 5, 'max_features': 100, 'max_depth': 30, 'criterion': 'gini', 'class_weight': None, 'bootstrap': True}\n",
      "\n",
      "Model with rank: 3\n",
      "Mean validation score: 0.88890 (std: 0.01067)\n",
      "Parameters: {'n_estimators': 500, 'min_samples_split': 20, 'min_samples_leaf': 1, 'max_features': 60, 'max_depth': 30, 'criterion': 'entropy', 'class_weight': None, 'bootstrap': False}\n",
      "\n",
      "Model with rank: 4\n",
      "Mean validation score: 0.88860 (std: 0.00838)\n",
      "Parameters: {'n_estimators': 200, 'min_samples_split': 10, 'min_samples_leaf': 5, 'max_features': 100, 'max_depth': 70, 'criterion': 'gini', 'class_weight': None, 'bootstrap': True}\n",
      "\n",
      "Model with rank: 5\n",
      "Mean validation score: 0.88834 (std: 0.00726)\n",
      "Parameters: {'n_estimators': 1000, 'min_samples_split': 5, 'min_samples_leaf': 15, 'max_features': 60, 'max_depth': 15, 'criterion': 'gini', 'class_weight': None, 'bootstrap': False}\n",
      "\n"
     ]
    }
   ],
   "source": [
    "report(random_search.cv_results_,5)"
   ]
  },
  {
   "cell_type": "code",
   "execution_count": 62,
   "metadata": {
    "execution": {
     "iopub.execute_input": "2023-04-16T17:00:13.544028Z",
     "iopub.status.busy": "2023-04-16T17:00:13.543442Z",
     "iopub.status.idle": "2023-04-16T17:01:56.914357Z",
     "shell.execute_reply": "2023-04-16T17:01:56.913263Z",
     "shell.execute_reply.started": "2023-04-16T17:00:13.543930Z"
    }
   },
   "outputs": [
    {
     "name": "stdout",
     "output_type": "stream",
     "text": [
      "Accuracy: 0.8623145634124267\n"
     ]
    }
   ],
   "source": [
    "from sklearn.metrics import accuracy_score\n",
    "from sklearn.ensemble import RandomForestClassifier\n",
    "rf = RandomForestClassifier(n_estimators=100, min_samples_split=10, min_samples_leaf=15, \n",
    "                            max_features=60, max_depth=30, criterion='entropy', \n",
    "                            class_weight=None, bootstrap=False)\n",
    "rf.fit(train_final,train_labels)\n",
    "y_pred = rf.predict(test_final)\n",
    "#accuracy = rf.score(test_final,test_labels)\n",
    "accuracy = accuracy_score(y_pred,test_labels)\n",
    "print(\"Accuracy:\", accuracy)"
   ]
  },
  {
   "cell_type": "code",
   "execution_count": 61,
   "metadata": {},
   "outputs": [
    {
     "data": {
      "text/plain": [
       "array([0, 1, 0, ..., 0, 0, 1])"
      ]
     },
     "execution_count": 61,
     "metadata": {},
     "output_type": "execute_result"
    }
   ],
   "source": [
    "#y_pred"
   ]
  },
  {
   "cell_type": "code",
   "execution_count": 64,
   "metadata": {
    "execution": {
     "iopub.execute_input": "2023-04-15T21:11:48.114943Z",
     "iopub.status.busy": "2023-04-15T21:11:48.114444Z",
     "iopub.status.idle": "2023-04-15T21:11:49.978906Z",
     "shell.execute_reply": "2023-04-15T21:11:49.978225Z",
     "shell.execute_reply.started": "2023-04-15T21:11:48.114875Z"
    }
   },
   "outputs": [
    {
     "data": {
      "image/png": "[encoded data removed]",
      "text/plain": [
       "<Figure size 432x288 with 1 Axes>"
      ]
     },
     "metadata": {
      "needs_background": "light"
     },
     "output_type": "display_data"
    }
   ],
   "source": [
    "import matplotlib.pyplot as plt\n",
    "feature_importances = rf.feature_importances_\n",
    "sorted_idx = feature_importances.argsort()[::-1]\n",
    "plt.bar(range(len(feature_importances)), feature_importances[sorted_idx])\n",
    "plt.xticks(range(len(feature_importances)), sorted_idx)\n",
    "plt.xlabel('Feature Index')\n",
    "plt.ylabel('Feature Importance')\n",
    "plt.title('Random Forest Feature Importances')\n",
    "plt.show()"
   ]
  },
  {
   "cell_type": "code",
   "execution_count": 65,
   "metadata": {},
   "outputs": [
    {
     "data": {
      "text/plain": [
       "array([4.44310968e-05, 0.00000000e+00, 1.46516612e-05, 5.71422913e-04,\n",
       "       1.71387460e-03, 2.61978927e-03, 1.15754147e-04, 7.29263375e-06,\n",
       "       4.22536294e-03, 5.94316400e-06, 4.44892540e-04, 0.00000000e+00,\n",
       "       0.00000000e+00, 1.50872847e-03, 3.42232526e-05, 3.26830311e-06,\n",
       "       9.86775874e-05, 6.44098551e-04, 0.00000000e+00, 2.36665020e-05,\n",
       "       0.00000000e+00, 0.00000000e+00, 1.89482269e-04, 5.17131637e-05,\n",
       "       2.67171282e-03, 1.16380604e-03, 0.00000000e+00, 1.31755834e-03,\n",
       "       5.12680999e-05, 3.67230574e-05, 7.91240108e-04, 0.00000000e+00,\n",
       "       1.80796035e-04, 1.53452820e-06, 0.00000000e+00, 0.00000000e+00,\n",
       "       1.05936714e-03, 1.76568802e-05, 2.18356704e-04, 0.00000000e+00,\n",
       "       5.57773998e-04, 2.27824816e-05, 3.77002950e-05, 0.00000000e+00,\n",
       "       1.39588331e-04, 0.00000000e+00, 1.66024609e-06, 0.00000000e+00,\n",
       "       0.00000000e+00, 0.00000000e+00, 1.22049552e-03, 1.83663547e-05,\n",
       "       6.12064528e-04, 1.66061918e-04, 2.53217102e-02, 0.00000000e+00,\n",
       "       1.33937816e-06, 2.03114353e-04, 3.87361968e-06, 6.68300123e-06,\n",
       "       0.00000000e+00, 7.92354091e-04, 6.30959031e-06, 8.71391981e-06,\n",
       "       7.59024076e-04, 9.18089625e-06, 0.00000000e+00, 0.00000000e+00,\n",
       "       0.00000000e+00, 2.77595545e-03, 5.98058642e-04, 4.26309396e-04,\n",
       "       0.00000000e+00, 0.00000000e+00, 0.00000000e+00, 1.06568851e-04,\n",
       "       4.68187127e-05, 2.97619803e-04, 6.45891925e-06, 0.00000000e+00,\n",
       "       8.64347567e-04, 5.06620750e-03, 1.98912910e-03, 2.63578105e-03,\n",
       "       1.68087123e-03, 5.82476137e-03, 9.94093442e-04, 9.36582394e-04,\n",
       "       2.48386373e-03, 2.37340911e-03, 7.74141264e-04, 6.45087375e-04,\n",
       "       1.19744058e-03, 1.25042586e-03, 8.68634575e-04, 1.01296357e-03,\n",
       "       8.01713675e-04, 2.95896336e-03, 8.61231222e-04, 7.84788929e-03,\n",
       "       4.16363566e-03, 8.83358421e-04, 3.23678318e-03, 1.47627025e-03,\n",
       "       6.59973645e-03, 2.48917283e-03, 1.20629308e-03, 1.33755037e-03,\n",
       "       2.80484589e-03, 2.29302625e-03, 2.19162168e-03, 1.18804847e-03,\n",
       "       1.02752084e-03, 1.67504837e-03, 3.73186951e-03, 6.05623473e-04,\n",
       "       2.72215057e-03, 1.99195357e-03, 1.43097987e-03, 3.37162172e-04,\n",
       "       2.87728254e-03, 3.62087991e-03, 1.02305332e-03, 1.29472382e-03,\n",
       "       1.29046342e-03, 4.36622224e-03, 2.85606425e-03, 1.49026414e-03,\n",
       "       9.83674568e-04, 9.24429853e-04, 1.56948879e-03, 3.30894983e-03,\n",
       "       2.24697893e-03, 3.91100604e-03, 8.99649932e-03, 6.93619339e-03,\n",
       "       1.64044121e-03, 2.00423108e-03, 1.47828386e-03, 1.42973018e-03,\n",
       "       6.71052143e-04, 4.62645889e-03, 6.23317765e-03, 1.94065399e-03,\n",
       "       4.24053613e-03, 3.25929642e-03, 4.47044525e-03, 1.10921531e-03,\n",
       "       9.44076806e-04, 1.49333274e-03, 3.31167169e-03, 1.88473283e-03,\n",
       "       6.98131979e-04, 1.37886149e-03, 1.21565213e-03, 8.43902463e-04,\n",
       "       2.01451022e-03, 3.05472408e-03, 2.33274559e-03, 5.56490981e-03,\n",
       "       2.03614563e-02, 2.85629875e-02, 2.24674040e-01, 2.21408869e-01,\n",
       "       3.22360937e-02, 3.87067448e-03, 1.82787819e-03, 0.00000000e+00,\n",
       "       0.00000000e+00, 0.00000000e+00, 0.00000000e+00, 0.00000000e+00,\n",
       "       0.00000000e+00, 0.00000000e+00, 0.00000000e+00, 0.00000000e+00,\n",
       "       4.56428425e-02, 1.11969271e-01, 8.93818122e-03, 1.74792010e-03,\n",
       "       1.03341519e-03, 6.08594520e-04, 7.78577691e-04, 1.58184433e-05,\n",
       "       3.64184962e-04, 0.00000000e+00, 4.99881788e-02])"
      ]
     },
     "execution_count": 65,
     "metadata": {},
     "output_type": "execute_result"
    }
   ],
   "source": [
    "#feature_importances"
   ]
  },
  {
   "cell_type": "code",
   "execution_count": 24,
   "metadata": {
    "execution": {
     "iopub.execute_input": "2023-04-15T21:12:08.564612Z",
     "iopub.status.busy": "2023-04-15T21:12:08.564141Z",
     "iopub.status.idle": "2023-04-15T21:12:08.570906Z",
     "shell.execute_reply": "2023-04-15T21:12:08.570143Z",
     "shell.execute_reply.started": "2023-04-15T21:12:08.564569Z"
    }
   },
   "outputs": [
    {
     "data": {
      "text/plain": [
       "array([163, 162, 177, 176, 186, 164,  54, 160, 161, 178, 134,  99, 135,\n",
       "       104,  85, 142, 179, 159,  81, 141, 146, 144, 125,   8, 100, 133,\n",
       "       165, 114, 131, 150, 121, 102, 145, 126,  97, 157,  83, 116,  69,\n",
       "       120,  88, 108,   5,  24, 105,  89, 158, 132, 109, 156,  82, 117,\n",
       "       143, 137, 136, 110,  84, 166, 151, 149, 118, 113, 139, 138, 130,\n",
       "        50,  13, 123, 153, 103,  25, 127, 107, 106, 154,  93, 124, 112,\n",
       "        92,  36,   4,  95, 147, 128,  27,  86, 111, 180,  30, 122, 101,\n",
       "        87,  94, 148,  64,  96,  61,  90,  80,  98, 129,  40, 140,  52,\n",
       "       155, 152, 181, 115,  70,  17,   3,  91,  10,  77,  22, 119,  71,\n",
       "        44,  57,  38, 184,  53,  32,  16,  75,   6,  28,   0,  14, 182,\n",
       "        29,  23,  76,  41,  19,  42,  78,  37,  56, 183,   9,  58,   7,\n",
       "        59,  51,  15,  62,  63,  48, 185,  65,  33,  20,  46,  35, 167,\n",
       "       172, 171,   1,   2,  12, 169,  11, 168, 170,  18,  60, 174,  79,\n",
       "        21,  43,  45,  66,  39,  67,  47,  68,  34, 173,  31,  72,  73,\n",
       "        74,  26,  49, 175,  55])"
      ]
     },
     "execution_count": 24,
     "metadata": {},
     "output_type": "execute_result"
    }
   ],
   "source": [
    "#sorted_idx"
   ]
  },
  {
   "cell_type": "code",
   "execution_count": 66,
   "metadata": {
    "execution": {
     "iopub.execute_input": "2023-04-15T21:19:47.944399Z",
     "iopub.status.busy": "2023-04-15T21:19:47.944071Z",
     "iopub.status.idle": "2023-04-15T21:19:48.026031Z",
     "shell.execute_reply": "2023-04-15T21:19:48.025024Z",
     "shell.execute_reply.started": "2023-04-15T21:19:47.944329Z"
    }
   },
   "outputs": [],
   "source": [
    "matrix2 = confusion_matrix(test_labels, y_pred)"
   ]
  },
  {
   "cell_type": "code",
   "execution_count": 67,
   "metadata": {
    "execution": {
     "iopub.execute_input": "2023-04-15T21:19:50.231919Z",
     "iopub.status.busy": "2023-04-15T21:19:50.231606Z",
     "iopub.status.idle": "2023-04-15T21:19:50.591308Z",
     "shell.execute_reply": "2023-04-15T21:19:50.590578Z",
     "shell.execute_reply.started": "2023-04-15T21:19:50.231868Z"
    }
   },
   "outputs": [
    {
     "data": {
      "image/png": "[encoded data removed]",
      "text/plain": [
       "<Figure size 576x432 with 2 Axes>"
      ]
     },
     "metadata": {
      "needs_background": "light"
     },
     "output_type": "display_data"
    }
   ],
   "source": [
    "plot_confusion_matrix(cm=matrix2,target_names=['agree', 'disagree', 'discuss', 'unrelated'])\n"
   ]
  },
  {
   "cell_type": "code",
   "execution_count": 1,
   "metadata": {
    "execution": {
     "iopub.execute_input": "2023-04-15T22:41:43.845990Z",
     "iopub.status.busy": "2023-04-15T22:41:43.845682Z",
     "iopub.status.idle": "2023-04-15T22:41:44.655515Z",
     "shell.execute_reply": "2023-04-15T22:41:44.654521Z",
     "shell.execute_reply.started": "2023-04-15T22:41:43.845934Z"
    }
   },
   "outputs": [],
   "source": [
    "from sklearn.model_selection import cross_val_score"
   ]
  },
  {
   "cell_type": "code",
   "execution_count": 2,
   "metadata": {
    "execution": {
     "iopub.execute_input": "2023-04-15T22:41:47.741284Z",
     "iopub.status.busy": "2023-04-15T22:41:47.740990Z",
     "iopub.status.idle": "2023-04-15T22:41:47.781978Z",
     "shell.execute_reply": "2023-04-15T22:41:47.780781Z",
     "shell.execute_reply.started": "2023-04-15T22:41:47.741247Z"
    }
   },
   "outputs": [
    {
     "data": {
      "text/plain": [
       "\u001b[0;31mSignature:\u001b[0m \u001b[0mcross_val_score\u001b[0m\u001b[0;34m(\u001b[0m\u001b[0mestimator\u001b[0m\u001b[0;34m,\u001b[0m \u001b[0mX\u001b[0m\u001b[0;34m,\u001b[0m \u001b[0my\u001b[0m\u001b[0;34m=\u001b[0m\u001b[0;32mNone\u001b[0m\u001b[0;34m,\u001b[0m \u001b[0mgroups\u001b[0m\u001b[0;34m=\u001b[0m\u001b[0;32mNone\u001b[0m\u001b[0;34m,\u001b[0m \u001b[0mscoring\u001b[0m\u001b[0;34m=\u001b[0m\u001b[0;32mNone\u001b[0m\u001b[0;34m,\u001b[0m \u001b[0mcv\u001b[0m\u001b[0;34m=\u001b[0m\u001b[0;34m'warn'\u001b[0m\u001b[0;34m,\u001b[0m \u001b[0mn_jobs\u001b[0m\u001b[0;34m=\u001b[0m\u001b[0;32mNone\u001b[0m\u001b[0;34m,\u001b[0m \u001b[0mverbose\u001b[0m\u001b[0;34m=\u001b[0m\u001b[0;36m0\u001b[0m\u001b[0;34m,\u001b[0m \u001b[0mfit_params\u001b[0m\u001b[0;34m=\u001b[0m\u001b[0;32mNone\u001b[0m\u001b[0;34m,\u001b[0m \u001b[0mpre_dispatch\u001b[0m\u001b[0;34m=\u001b[0m\u001b[0;34m'2*n_jobs'\u001b[0m\u001b[0;34m,\u001b[0m \u001b[0merror_score\u001b[0m\u001b[0;34m=\u001b[0m\u001b[0;34m'raise-deprecating'\u001b[0m\u001b[0;34m)\u001b[0m\u001b[0;34m\u001b[0m\u001b[0m\n",
       "\u001b[0;31mDocstring:\u001b[0m\n",
       "Evaluate a score by cross-validation\n",
       "\n",
       "Read more in the :ref:`User Guide <cross_validation>`.\n",
       "\n",
       "Parameters\n",
       "----------\n",
       "estimator : estimator object implementing 'fit'\n",
       "    The object to use to fit the data.\n",
       "\n",
       "X : array-like\n",
       "    The data to fit. Can be for example a list, or an array.\n",
       "\n",
       "y : array-like, optional, default: None\n",
       "    The target variable to try to predict in the case of\n",
       "    supervised learning.\n",
       "\n",
       "groups : array-like, with shape (n_samples,), optional\n",
       "    Group labels for the samples used while splitting the dataset into\n",
       "    train/test set.\n",
       "\n",
       "scoring : string, callable or None, optional, default: None\n",
       "    A string (see model evaluation documentation) or\n",
       "    a scorer callable object / function with signature\n",
       "    ``scorer(estimator, X, y)``.\n",
       "\n",
       "cv : int, cross-validation generator or an iterable, optional\n",
       "    Determines the cross-validation splitting strategy.\n",
       "    Possible inputs for cv are:\n",
       "\n",
       "    - None, to use the default 3-fold cross validation,\n",
       "    - integer, to specify the number of folds in a `(Stratified)KFold`,\n",
       "    - :term:`CV splitter`,\n",
       "    - An iterable yielding (train, test) splits as arrays of indices.\n",
       "\n",
       "    For integer/None inputs, if the estimator is a classifier and ``y`` is\n",
       "    either binary or multiclass, :class:`StratifiedKFold` is used. In all\n",
       "    other cases, :class:`KFold` is used.\n",
       "\n",
       "    Refer :ref:`User Guide <cross_validation>` for the various\n",
       "    cross-validation strategies that can be used here.\n",
       "\n",
       "    .. versionchanged:: 0.20\n",
       "        ``cv`` default value if None will change from 3-fold to 5-fold\n",
       "        in v0.22.\n",
       "\n",
       "n_jobs : int or None, optional (default=None)\n",
       "    The number of CPUs to use to do the computation.\n",
       "    ``None`` means 1 unless in a :obj:`joblib.parallel_backend` context.\n",
       "    ``-1`` means using all processors. See :term:`Glossary <n_jobs>`\n",
       "    for more details.\n",
       "\n",
       "verbose : integer, optional\n",
       "    The verbosity level.\n",
       "\n",
       "fit_params : dict, optional\n",
       "    Parameters to pass to the fit method of the estimator.\n",
       "\n",
       "pre_dispatch : int, or string, optional\n",
       "    Controls the number of jobs that get dispatched during parallel\n",
       "    execution. Reducing this number can be useful to avoid an\n",
       "    explosion of memory consumption when more jobs get dispatched\n",
       "    than CPUs can process. This parameter can be:\n",
       "\n",
       "        - None, in which case all the jobs are immediately\n",
       "          created and spawned. Use this for lightweight and\n",
       "          fast-running jobs, to avoid delays due to on-demand\n",
       "          spawning of the jobs\n",
       "\n",
       "        - An int, giving the exact number of total jobs that are\n",
       "          spawned\n",
       "\n",
       "        - A string, giving an expression as a function of n_jobs,\n",
       "          as in '2*n_jobs'\n",
       "\n",
       "error_score : 'raise' | 'raise-deprecating' or numeric\n",
       "    Value to assign to the score if an error occurs in estimator fitting.\n",
       "    If set to 'raise', the error is raised.\n",
       "    If set to 'raise-deprecating', a FutureWarning is printed before the\n",
       "    error is raised.\n",
       "    If a numeric value is given, FitFailedWarning is raised. This parameter\n",
       "    does not affect the refit step, which will always raise the error.\n",
       "    Default is 'raise-deprecating' but from version 0.22 it will change\n",
       "    to np.nan.\n",
       "\n",
       "Returns\n",
       "-------\n",
       "scores : array of float, shape=(len(list(cv)),)\n",
       "    Array of scores of the estimator for each run of the cross validation.\n",
       "\n",
       "Examples\n",
       "--------\n",
       ">>> from sklearn import datasets, linear_model\n",
       ">>> from sklearn.model_selection import cross_val_score\n",
       ">>> diabetes = datasets.load_diabetes()\n",
       ">>> X = diabetes.data[:150]\n",
       ">>> y = diabetes.target[:150]\n",
       ">>> lasso = linear_model.Lasso()\n",
       ">>> print(cross_val_score(lasso, X, y, cv=3))  # doctest: +ELLIPSIS\n",
       "[0.33150734 0.08022311 0.03531764]\n",
       "\n",
       "See Also\n",
       "---------\n",
       ":func:`sklearn.model_selection.cross_validate`:\n",
       "    To run cross-validation on multiple metrics and also to return\n",
       "    train scores, fit times and score times.\n",
       "\n",
       ":func:`sklearn.model_selection.cross_val_predict`:\n",
       "    Get predictions from each split of cross-validation for diagnostic\n",
       "    purposes.\n",
       "\n",
       ":func:`sklearn.metrics.make_scorer`:\n",
       "    Make a scorer from a performance metric or loss function.\n",
       "\u001b[0;31mFile:\u001b[0m      /opt/conda/lib/python3.6/site-packages/sklearn/model_selection/_validation.py\n",
       "\u001b[0;31mType:\u001b[0m      function\n"
      ]
     },
     "metadata": {},
     "output_type": "display_data"
    }
   ],
   "source": [
    "cross_val_score?"
   ]
  },
  {
   "cell_type": "code",
   "execution_count": 68,
   "metadata": {
    "execution": {
     "iopub.execute_input": "2023-04-16T15:31:10.392453Z",
     "iopub.status.busy": "2023-04-16T15:31:10.392049Z",
     "iopub.status.idle": "2023-04-16T15:31:10.397365Z",
     "shell.execute_reply": "2023-04-16T15:31:10.396137Z",
     "shell.execute_reply.started": "2023-04-16T15:31:10.392397Z"
    }
   },
   "outputs": [],
   "source": [
    "from sklearn.neighbors import KNeighborsClassifier\n",
    "from sklearn.svm import SVC"
   ]
  },
  {
   "cell_type": "code",
   "execution_count": 69,
   "metadata": {
    "execution": {
     "iopub.execute_input": "2023-04-16T15:31:12.204838Z",
     "iopub.status.busy": "2023-04-16T15:31:12.204523Z",
     "iopub.status.idle": "2023-04-16T15:31:12.209399Z",
     "shell.execute_reply": "2023-04-16T15:31:12.208227Z",
     "shell.execute_reply.started": "2023-04-16T15:31:12.204782Z"
    }
   },
   "outputs": [],
   "source": [
    "knn=KNeighborsClassifier(n_neighbors=100)\n",
    "svm=SVC()"
   ]
  },
  {
   "cell_type": "code",
   "execution_count": 26,
   "metadata": {
    "execution": {
     "iopub.execute_input": "2023-04-15T23:05:58.639685Z",
     "iopub.status.busy": "2023-04-15T23:05:58.639386Z",
     "iopub.status.idle": "2023-04-15T23:06:55.939723Z",
     "shell.execute_reply": "2023-04-15T23:06:55.938619Z",
     "shell.execute_reply.started": "2023-04-15T23:05:58.639638Z"
    }
   },
   "outputs": [
    {
     "data": {
      "text/plain": [
       "array([0.87034814, 0.87394958, 0.86994798, 0.8747499 , 0.85614246,\n",
       "       0.85951571, 0.86471883, 0.86091655, 0.87770216, 0.86406406])"
      ]
     },
     "execution_count": 26,
     "metadata": {},
     "output_type": "execute_result"
    }
   ],
   "source": [
    "cross_val_score(knn,train_final,train_labels,cv=10,scoring='f1_micro',n_jobs=-1)"
   ]
  },
  {
   "cell_type": "code",
   "execution_count": 70,
   "metadata": {
    "execution": {
     "iopub.execute_input": "2023-04-15T23:09:38.898413Z",
     "iopub.status.busy": "2023-04-15T23:09:38.898072Z",
     "iopub.status.idle": "2023-04-15T23:09:39.793010Z",
     "shell.execute_reply": "2023-04-15T23:09:39.792033Z",
     "shell.execute_reply.started": "2023-04-15T23:09:38.898373Z"
    }
   },
   "outputs": [
    {
     "data": {
      "text/plain": [
       "KNeighborsClassifier(n_neighbors=100)"
      ]
     },
     "execution_count": 70,
     "metadata": {},
     "output_type": "execute_result"
    }
   ],
   "source": [
    "knn.fit(train_final,train_labels)"
   ]
  },
  {
   "cell_type": "code",
   "execution_count": 71,
   "metadata": {
    "execution": {
     "iopub.execute_input": "2023-04-15T23:17:27.254689Z",
     "iopub.status.busy": "2023-04-15T23:17:27.254379Z",
     "iopub.status.idle": "2023-04-15T23:18:29.430062Z",
     "shell.execute_reply": "2023-04-15T23:18:29.428845Z",
     "shell.execute_reply.started": "2023-04-15T23:17:27.254640Z"
    }
   },
   "outputs": [
    {
     "data": {
      "text/plain": [
       "0.8485814346987762"
      ]
     },
     "execution_count": 71,
     "metadata": {},
     "output_type": "execute_result"
    }
   ],
   "source": [
    "knn_prediction = knn.predict(test_final)\n",
    "accuracy_score(test_labels,knn_prediction)"
   ]
  },
  {
   "cell_type": "code",
   "execution_count": 72,
   "metadata": {
    "execution": {
     "iopub.execute_input": "2023-04-15T23:18:29.432243Z",
     "iopub.status.busy": "2023-04-15T23:18:29.431614Z",
     "iopub.status.idle": "2023-04-15T23:18:29.532890Z",
     "shell.execute_reply": "2023-04-15T23:18:29.531831Z",
     "shell.execute_reply.started": "2023-04-15T23:18:29.432102Z"
    }
   },
   "outputs": [],
   "source": [
    "matrix3 = confusion_matrix(test_labels, knn_prediction)"
   ]
  },
  {
   "cell_type": "code",
   "execution_count": 73,
   "metadata": {
    "execution": {
     "iopub.execute_input": "2023-04-15T23:18:29.534501Z",
     "iopub.status.busy": "2023-04-15T23:18:29.534147Z",
     "iopub.status.idle": "2023-04-15T23:18:30.119366Z",
     "shell.execute_reply": "2023-04-15T23:18:30.118436Z",
     "shell.execute_reply.started": "2023-04-15T23:18:29.534445Z"
    }
   },
   "outputs": [
    {
     "data": {
      "image/png": "[encoded data removed]",
      "text/plain": [
       "<Figure size 576x432 with 2 Axes>"
      ]
     },
     "metadata": {
      "needs_background": "light"
     },
     "output_type": "display_data"
    }
   ],
   "source": [
    "plot_confusion_matrix(cm=matrix3,target_names=['agree', 'disagree', 'discuss', 'unrelated'])"
   ]
  },
  {
   "cell_type": "code",
   "execution_count": 74,
   "metadata": {
    "execution": {
     "iopub.execute_input": "2023-04-16T16:46:35.438636Z",
     "iopub.status.busy": "2023-04-16T16:46:35.438234Z",
     "iopub.status.idle": "2023-04-16T16:53:20.857442Z",
     "shell.execute_reply": "2023-04-16T16:53:20.856656Z",
     "shell.execute_reply.started": "2023-04-16T16:46:35.438558Z"
    }
   },
   "outputs": [
    {
     "data": {
      "text/plain": [
       "0.856175972927242"
      ]
     },
     "execution_count": 74,
     "metadata": {},
     "output_type": "execute_result"
    }
   ],
   "source": [
    "svm.fit(train_final,train_labels)\n",
    "svm_prediction = svm.predict(test_final)\n",
    "accuracy_score(test_labels,svm_prediction)"
   ]
  },
  {
   "cell_type": "code",
   "execution_count": 36,
   "metadata": {
    "execution": {
     "iopub.execute_input": "2023-04-16T17:04:46.064908Z",
     "iopub.status.busy": "2023-04-16T17:04:46.064501Z",
     "iopub.status.idle": "2023-04-16T17:04:46.155050Z",
     "shell.execute_reply": "2023-04-16T17:04:46.153641Z",
     "shell.execute_reply.started": "2023-04-16T17:04:46.064835Z"
    }
   },
   "outputs": [
    {
     "ename": "TypeError",
     "evalue": "All intermediate steps should be transformers and implement fit and transform. 'RandomForestClassifier(bootstrap=False, class_weight=None,\n            criterion='entropy', max_depth=30, max_features=60,\n            max_leaf_nodes=None, min_impurity_decrease=0.0,\n            min_impurity_split=None, min_samples_leaf=15,\n            min_samples_split=10, min_weight_fraction_leaf=0.0,\n            n_estimators=100, n_jobs=None, oob_score=False,\n            random_state=None, verbose=0, warm_start=False)' (type <class 'sklearn.ensemble.forest.RandomForestClassifier'>) doesn't",
     "output_type": "error",
     "traceback": [
      "\u001b[0;31m---------------------------------------------------------------------------\u001b[0m",
      "\u001b[0;31mTypeError\u001b[0m                                 Traceback (most recent call last)",
      "\u001b[0;32m<ipython-input-36-cc460ed22493>\u001b[0m in \u001b[0;36m<module>\u001b[0;34m()\u001b[0m\n\u001b[1;32m     30\u001b[0m     \u001b[0;34m(\u001b[0m\u001b[0;34m'neural_nets'\u001b[0m\u001b[0;34m,\u001b[0m \u001b[0mmodel\u001b[0m\u001b[0;34m)\u001b[0m\u001b[0;34m,\u001b[0m\u001b[0;34m\u001b[0m\u001b[0m\n\u001b[1;32m     31\u001b[0m     \u001b[0;34m(\u001b[0m\u001b[0;34m'knn'\u001b[0m\u001b[0;34m,\u001b[0m \u001b[0mknn\u001b[0m\u001b[0;34m)\u001b[0m\u001b[0;34m,\u001b[0m\u001b[0;34m\u001b[0m\u001b[0m\n\u001b[0;32m---> 32\u001b[0;31m     \u001b[0;34m(\u001b[0m\u001b[0;34m'svm'\u001b[0m\u001b[0;34m,\u001b[0m \u001b[0msvm\u001b[0m\u001b[0;34m)\u001b[0m\u001b[0;34m\u001b[0m\u001b[0m\n\u001b[0m\u001b[1;32m     33\u001b[0m ])\n\u001b[1;32m     34\u001b[0m \u001b[0;34m\u001b[0m\u001b[0m\n",
      "\u001b[0;32m/opt/conda/lib/python3.6/site-packages/sklearn/pipeline.py\u001b[0m in \u001b[0;36m__init__\u001b[0;34m(self, steps, memory)\u001b[0m\n\u001b[1;32m    117\u001b[0m     \u001b[0;32mdef\u001b[0m \u001b[0m__init__\u001b[0m\u001b[0;34m(\u001b[0m\u001b[0mself\u001b[0m\u001b[0;34m,\u001b[0m \u001b[0msteps\u001b[0m\u001b[0;34m,\u001b[0m \u001b[0mmemory\u001b[0m\u001b[0;34m=\u001b[0m\u001b[0;32mNone\u001b[0m\u001b[0;34m)\u001b[0m\u001b[0;34m:\u001b[0m\u001b[0;34m\u001b[0m\u001b[0m\n\u001b[1;32m    118\u001b[0m         \u001b[0mself\u001b[0m\u001b[0;34m.\u001b[0m\u001b[0msteps\u001b[0m \u001b[0;34m=\u001b[0m \u001b[0msteps\u001b[0m\u001b[0;34m\u001b[0m\u001b[0m\n\u001b[0;32m--> 119\u001b[0;31m         \u001b[0mself\u001b[0m\u001b[0;34m.\u001b[0m\u001b[0m_validate_steps\u001b[0m\u001b[0;34m(\u001b[0m\u001b[0;34m)\u001b[0m\u001b[0;34m\u001b[0m\u001b[0m\n\u001b[0m\u001b[1;32m    120\u001b[0m         \u001b[0mself\u001b[0m\u001b[0;34m.\u001b[0m\u001b[0mmemory\u001b[0m \u001b[0;34m=\u001b[0m \u001b[0mmemory\u001b[0m\u001b[0;34m\u001b[0m\u001b[0m\n\u001b[1;32m    121\u001b[0m \u001b[0;34m\u001b[0m\u001b[0m\n",
      "\u001b[0;32m/opt/conda/lib/python3.6/site-packages/sklearn/pipeline.py\u001b[0m in \u001b[0;36m_validate_steps\u001b[0;34m(self)\u001b[0m\n\u001b[1;32m    165\u001b[0m                 raise TypeError(\"All intermediate steps should be \"\n\u001b[1;32m    166\u001b[0m                                 \u001b[0;34m\"transformers and implement fit and transform.\"\u001b[0m\u001b[0;34m\u001b[0m\u001b[0m\n\u001b[0;32m--> 167\u001b[0;31m                                 \" '%s' (type %s) doesn't\" % (t, type(t)))\n\u001b[0m\u001b[1;32m    168\u001b[0m \u001b[0;34m\u001b[0m\u001b[0m\n\u001b[1;32m    169\u001b[0m         \u001b[0;31m# We allow last estimator to be None as an identity transformation\u001b[0m\u001b[0;34m\u001b[0m\u001b[0;34m\u001b[0m\u001b[0m\n",
      "\u001b[0;31mTypeError\u001b[0m: All intermediate steps should be transformers and implement fit and transform. 'RandomForestClassifier(bootstrap=False, class_weight=None,\n            criterion='entropy', max_depth=30, max_features=60,\n            max_leaf_nodes=None, min_impurity_decrease=0.0,\n            min_impurity_split=None, min_samples_leaf=15,\n            min_samples_split=10, min_weight_fraction_leaf=0.0,\n            n_estimators=100, n_jobs=None, oob_score=False,\n            random_state=None, verbose=0, warm_start=False)' (type <class 'sklearn.ensemble.forest.RandomForestClassifier'>) doesn't"
     ]
    }
   ],
   "source": [
    "from sklearn.ensemble import RandomForestClassifier\n",
    "from sklearn.naive_bayes import MultinomialNB\n",
    "from sklearn.neural_network import MLPClassifier\n",
    "from sklearn.neighbors import KNeighborsClassifier\n",
    "from sklearn.svm import SVC\n",
    "from sklearn.model_selection import cross_val_score\n",
    "from sklearn.pipeline import Pipeline\n",
    "from sklearn.model_selection import train_test_split\n",
    "from keras.layers import Input, Dense, LSTM\n",
    "from keras.models import Model\n",
    "\n",
    "# Define base models\n",
    "random_forest = rf\n",
    "naive_bayes = MultinomialNB(alpha=0.34)\n",
    "neural_nets = MLPClassifier(random_state=42)\n",
    "knn = KNeighborsClassifier(n_neighbors=100)\n",
    "inp = Input(shape=(train_final.shape[1],))\n",
    "# lstm = LSTM(150,return_sequences=True)(inp)\n",
    "lay1= Dense(200, activation= 'tanh')(inp)\n",
    "lay1= Dense(100, activation= 'sigmoid')(lay1)\n",
    "# lay1= Dropout(0.3)(lay1)\n",
    "lay2= Dense(40, activation= 'sigmoid')(lay1)\n",
    "outp= Dense(4,activation='sigmoid')(lay2)\n",
    "model= Model(inputs=[inp], outputs=[outp])\n",
    "svm = SVC()\n",
    "\n",
    "# Fit and evaluate ensemble model using cross-validation\n",
    "ensemble_model = Pipeline([\n",
    "    ('random_forest', random_forest),\n",
    "    ('neural_nets', model),\n",
    "    ('knn', knn),\n",
    "    ('svm', svm)\n",
    "])\n",
    "\n",
    "ensemble_scores = cross_val_score(ensemble_model, train_final, train_labels, cv=5)  \n",
    "ensemble_accuracy = ensemble_scores.mean() * 100\n",
    "print(f'Ensemble Model Accuracy: {ensemble_accuracy:.2f}%')\n"
   ]
  },
  {
   "cell_type": "code",
   "execution_count": 37,
   "metadata": {
    "execution": {
     "iopub.execute_input": "2023-04-15T23:20:54.546595Z",
     "iopub.status.busy": "2023-04-15T23:20:54.546289Z",
     "iopub.status.idle": "2023-04-15T23:20:54.551010Z",
     "shell.execute_reply": "2023-04-15T23:20:54.550107Z",
     "shell.execute_reply.started": "2023-04-15T23:20:54.546529Z"
    }
   },
   "outputs": [],
   "source": [
    "knn = KNeighborsClassifier(n_neighbors=5)  # You can specify the number of neighbors (k) here"
   ]
  },
  {
   "cell_type": "code",
   "execution_count": 38,
   "metadata": {
    "execution": {
     "iopub.execute_input": "2023-04-15T23:21:11.682204Z",
     "iopub.status.busy": "2023-04-15T23:21:11.681507Z",
     "iopub.status.idle": "2023-04-15T23:21:45.859897Z",
     "shell.execute_reply": "2023-04-15T23:21:45.858269Z",
     "shell.execute_reply.started": "2023-04-15T23:21:11.682135Z"
    }
   },
   "outputs": [],
   "source": [
    "scores = cross_val_score(knn, train_final, train_labels, cv=10, scoring='f1_micro', n_jobs=-1)"
   ]
  },
  {
   "cell_type": "code",
   "execution_count": 39,
   "metadata": {
    "execution": {
     "iopub.execute_input": "2023-04-15T23:21:45.863990Z",
     "iopub.status.busy": "2023-04-15T23:21:45.863735Z",
     "iopub.status.idle": "2023-04-15T23:21:45.868696Z",
     "shell.execute_reply": "2023-04-15T23:21:45.867826Z",
     "shell.execute_reply.started": "2023-04-15T23:21:45.863950Z"
    }
   },
   "outputs": [],
   "source": [
    "avg_score = scores.mean()\n",
    "std_score = scores.std()"
   ]
  },
  {
   "cell_type": "code",
   "execution_count": 20,
   "metadata": {
    "execution": {
     "iopub.execute_input": "2023-04-16T15:31:22.743375Z",
     "iopub.status.busy": "2023-04-16T15:31:22.743024Z",
     "iopub.status.idle": "2023-04-16T16:37:51.086911Z",
     "shell.execute_reply": "2023-04-16T16:37:51.032613Z",
     "shell.execute_reply.started": "2023-04-16T15:31:22.743323Z"
    }
   },
   "outputs": [
    {
     "ename": "KeyboardInterrupt",
     "evalue": "",
     "output_type": "error",
     "traceback": [
      "\u001b[0;31m---------------------------------------------------------------------------\u001b[0m",
      "\u001b[0;31mKeyboardInterrupt\u001b[0m                         Traceback (most recent call last)",
      "\u001b[0;32m<ipython-input-20-51a1e01202f6>\u001b[0m in \u001b[0;36m<module>\u001b[0;34m()\u001b[0m\n\u001b[1;32m     13\u001b[0m \u001b[0;31m# Perform grid search with cross-validation\u001b[0m\u001b[0;34m\u001b[0m\u001b[0;34m\u001b[0m\u001b[0m\n\u001b[1;32m     14\u001b[0m \u001b[0mgrid_search\u001b[0m \u001b[0;34m=\u001b[0m \u001b[0mGridSearchCV\u001b[0m\u001b[0;34m(\u001b[0m\u001b[0mknn\u001b[0m\u001b[0;34m,\u001b[0m \u001b[0mparam_grid\u001b[0m\u001b[0;34m,\u001b[0m \u001b[0mscoring\u001b[0m\u001b[0;34m=\u001b[0m\u001b[0;34m'f1_micro'\u001b[0m\u001b[0;34m,\u001b[0m \u001b[0mcv\u001b[0m\u001b[0;34m=\u001b[0m\u001b[0;36m10\u001b[0m\u001b[0;34m,\u001b[0m \u001b[0mn_jobs\u001b[0m\u001b[0;34m=\u001b[0m\u001b[0;34m-\u001b[0m\u001b[0;36m1\u001b[0m\u001b[0;34m)\u001b[0m\u001b[0;34m\u001b[0m\u001b[0m\n\u001b[0;32m---> 15\u001b[0;31m \u001b[0mgrid_search\u001b[0m\u001b[0;34m.\u001b[0m\u001b[0mfit\u001b[0m\u001b[0;34m(\u001b[0m\u001b[0mtrain_final\u001b[0m\u001b[0;34m,\u001b[0m \u001b[0mtrain_labels\u001b[0m\u001b[0;34m)\u001b[0m\u001b[0;34m\u001b[0m\u001b[0m\n\u001b[0m\u001b[1;32m     16\u001b[0m \u001b[0;34m\u001b[0m\u001b[0m\n\u001b[1;32m     17\u001b[0m \u001b[0;31m# Get the best hyperparameters and corresponding F1 score\u001b[0m\u001b[0;34m\u001b[0m\u001b[0;34m\u001b[0m\u001b[0m\n",
      "\u001b[0;32m/opt/conda/lib/python3.6/site-packages/sklearn/model_selection/_search.py\u001b[0m in \u001b[0;36mfit\u001b[0;34m(self, X, y, groups, **fit_params)\u001b[0m\n\u001b[1;32m    720\u001b[0m                 \u001b[0;32mreturn\u001b[0m \u001b[0mresults_container\u001b[0m\u001b[0;34m[\u001b[0m\u001b[0;36m0\u001b[0m\u001b[0;34m]\u001b[0m\u001b[0;34m\u001b[0m\u001b[0m\n\u001b[1;32m    721\u001b[0m \u001b[0;34m\u001b[0m\u001b[0m\n\u001b[0;32m--> 722\u001b[0;31m             \u001b[0mself\u001b[0m\u001b[0;34m.\u001b[0m\u001b[0m_run_search\u001b[0m\u001b[0;34m(\u001b[0m\u001b[0mevaluate_candidates\u001b[0m\u001b[0;34m)\u001b[0m\u001b[0;34m\u001b[0m\u001b[0m\n\u001b[0m\u001b[1;32m    723\u001b[0m \u001b[0;34m\u001b[0m\u001b[0m\n\u001b[1;32m    724\u001b[0m         \u001b[0mresults\u001b[0m \u001b[0;34m=\u001b[0m \u001b[0mresults_container\u001b[0m\u001b[0;34m[\u001b[0m\u001b[0;36m0\u001b[0m\u001b[0;34m]\u001b[0m\u001b[0;34m\u001b[0m\u001b[0m\n",
      "\u001b[0;32m/opt/conda/lib/python3.6/site-packages/sklearn/model_selection/_search.py\u001b[0m in \u001b[0;36m_run_search\u001b[0;34m(self, evaluate_candidates)\u001b[0m\n\u001b[1;32m   1189\u001b[0m     \u001b[0;32mdef\u001b[0m \u001b[0m_run_search\u001b[0m\u001b[0;34m(\u001b[0m\u001b[0mself\u001b[0m\u001b[0;34m,\u001b[0m \u001b[0mevaluate_candidates\u001b[0m\u001b[0;34m)\u001b[0m\u001b[0;34m:\u001b[0m\u001b[0;34m\u001b[0m\u001b[0m\n\u001b[1;32m   1190\u001b[0m         \u001b[0;34m\"\"\"Search all candidates in param_grid\"\"\"\u001b[0m\u001b[0;34m\u001b[0m\u001b[0m\n\u001b[0;32m-> 1191\u001b[0;31m         \u001b[0mevaluate_candidates\u001b[0m\u001b[0;34m(\u001b[0m\u001b[0mParameterGrid\u001b[0m\u001b[0;34m(\u001b[0m\u001b[0mself\u001b[0m\u001b[0;34m.\u001b[0m\u001b[0mparam_grid\u001b[0m\u001b[0;34m)\u001b[0m\u001b[0;34m)\u001b[0m\u001b[0;34m\u001b[0m\u001b[0m\n\u001b[0m\u001b[1;32m   1192\u001b[0m \u001b[0;34m\u001b[0m\u001b[0m\n\u001b[1;32m   1193\u001b[0m \u001b[0;34m\u001b[0m\u001b[0m\n",
      "\u001b[0;32m/opt/conda/lib/python3.6/site-packages/sklearn/model_selection/_search.py\u001b[0m in \u001b[0;36mevaluate_candidates\u001b[0;34m(candidate_params)\u001b[0m\n\u001b[1;32m    709\u001b[0m                                \u001b[0;32mfor\u001b[0m \u001b[0mparameters\u001b[0m\u001b[0;34m,\u001b[0m \u001b[0;34m(\u001b[0m\u001b[0mtrain\u001b[0m\u001b[0;34m,\u001b[0m \u001b[0mtest\u001b[0m\u001b[0;34m)\u001b[0m\u001b[0;34m\u001b[0m\u001b[0m\n\u001b[1;32m    710\u001b[0m                                in product(candidate_params,\n\u001b[0;32m--> 711\u001b[0;31m                                           cv.split(X, y, groups)))\n\u001b[0m\u001b[1;32m    712\u001b[0m \u001b[0;34m\u001b[0m\u001b[0m\n\u001b[1;32m    713\u001b[0m                 \u001b[0mall_candidate_params\u001b[0m\u001b[0;34m.\u001b[0m\u001b[0mextend\u001b[0m\u001b[0;34m(\u001b[0m\u001b[0mcandidate_params\u001b[0m\u001b[0;34m)\u001b[0m\u001b[0;34m\u001b[0m\u001b[0m\n",
      "\u001b[0;32m/opt/conda/lib/python3.6/site-packages/sklearn/externals/joblib/parallel.py\u001b[0m in \u001b[0;36m__call__\u001b[0;34m(self, iterable)\u001b[0m\n\u001b[1;32m    928\u001b[0m \u001b[0;34m\u001b[0m\u001b[0m\n\u001b[1;32m    929\u001b[0m             \u001b[0;32mwith\u001b[0m \u001b[0mself\u001b[0m\u001b[0;34m.\u001b[0m\u001b[0m_backend\u001b[0m\u001b[0;34m.\u001b[0m\u001b[0mretrieval_context\u001b[0m\u001b[0;34m(\u001b[0m\u001b[0;34m)\u001b[0m\u001b[0;34m:\u001b[0m\u001b[0;34m\u001b[0m\u001b[0m\n\u001b[0;32m--> 930\u001b[0;31m                 \u001b[0mself\u001b[0m\u001b[0;34m.\u001b[0m\u001b[0mretrieve\u001b[0m\u001b[0;34m(\u001b[0m\u001b[0;34m)\u001b[0m\u001b[0;34m\u001b[0m\u001b[0m\n\u001b[0m\u001b[1;32m    931\u001b[0m             \u001b[0;31m# Make sure that we get a last message telling us we are done\u001b[0m\u001b[0;34m\u001b[0m\u001b[0;34m\u001b[0m\u001b[0m\n\u001b[1;32m    932\u001b[0m             \u001b[0melapsed_time\u001b[0m \u001b[0;34m=\u001b[0m \u001b[0mtime\u001b[0m\u001b[0;34m.\u001b[0m\u001b[0mtime\u001b[0m\u001b[0;34m(\u001b[0m\u001b[0;34m)\u001b[0m \u001b[0;34m-\u001b[0m \u001b[0mself\u001b[0m\u001b[0;34m.\u001b[0m\u001b[0m_start_time\u001b[0m\u001b[0;34m\u001b[0m\u001b[0m\n",
      "\u001b[0;32m/opt/conda/lib/python3.6/site-packages/sklearn/externals/joblib/parallel.py\u001b[0m in \u001b[0;36mretrieve\u001b[0;34m(self)\u001b[0m\n\u001b[1;32m    831\u001b[0m             \u001b[0;32mtry\u001b[0m\u001b[0;34m:\u001b[0m\u001b[0;34m\u001b[0m\u001b[0m\n\u001b[1;32m    832\u001b[0m                 \u001b[0;32mif\u001b[0m \u001b[0mgetattr\u001b[0m\u001b[0;34m(\u001b[0m\u001b[0mself\u001b[0m\u001b[0;34m.\u001b[0m\u001b[0m_backend\u001b[0m\u001b[0;34m,\u001b[0m \u001b[0;34m'supports_timeout'\u001b[0m\u001b[0;34m,\u001b[0m \u001b[0;32mFalse\u001b[0m\u001b[0;34m)\u001b[0m\u001b[0;34m:\u001b[0m\u001b[0;34m\u001b[0m\u001b[0m\n\u001b[0;32m--> 833\u001b[0;31m                     \u001b[0mself\u001b[0m\u001b[0;34m.\u001b[0m\u001b[0m_output\u001b[0m\u001b[0;34m.\u001b[0m\u001b[0mextend\u001b[0m\u001b[0;34m(\u001b[0m\u001b[0mjob\u001b[0m\u001b[0;34m.\u001b[0m\u001b[0mget\u001b[0m\u001b[0;34m(\u001b[0m\u001b[0mtimeout\u001b[0m\u001b[0;34m=\u001b[0m\u001b[0mself\u001b[0m\u001b[0;34m.\u001b[0m\u001b[0mtimeout\u001b[0m\u001b[0;34m)\u001b[0m\u001b[0;34m)\u001b[0m\u001b[0;34m\u001b[0m\u001b[0m\n\u001b[0m\u001b[1;32m    834\u001b[0m                 \u001b[0;32melse\u001b[0m\u001b[0;34m:\u001b[0m\u001b[0;34m\u001b[0m\u001b[0m\n\u001b[1;32m    835\u001b[0m                     \u001b[0mself\u001b[0m\u001b[0;34m.\u001b[0m\u001b[0m_output\u001b[0m\u001b[0;34m.\u001b[0m\u001b[0mextend\u001b[0m\u001b[0;34m(\u001b[0m\u001b[0mjob\u001b[0m\u001b[0;34m.\u001b[0m\u001b[0mget\u001b[0m\u001b[0;34m(\u001b[0m\u001b[0;34m)\u001b[0m\u001b[0;34m)\u001b[0m\u001b[0;34m\u001b[0m\u001b[0m\n",
      "\u001b[0;32m/opt/conda/lib/python3.6/site-packages/sklearn/externals/joblib/_parallel_backends.py\u001b[0m in \u001b[0;36mwrap_future_result\u001b[0;34m(future, timeout)\u001b[0m\n\u001b[1;32m    519\u001b[0m         AsyncResults.get from multiprocessing.\"\"\"\n\u001b[1;32m    520\u001b[0m         \u001b[0;32mtry\u001b[0m\u001b[0;34m:\u001b[0m\u001b[0;34m\u001b[0m\u001b[0m\n\u001b[0;32m--> 521\u001b[0;31m             \u001b[0;32mreturn\u001b[0m \u001b[0mfuture\u001b[0m\u001b[0;34m.\u001b[0m\u001b[0mresult\u001b[0m\u001b[0;34m(\u001b[0m\u001b[0mtimeout\u001b[0m\u001b[0;34m=\u001b[0m\u001b[0mtimeout\u001b[0m\u001b[0;34m)\u001b[0m\u001b[0;34m\u001b[0m\u001b[0m\n\u001b[0m\u001b[1;32m    522\u001b[0m         \u001b[0;32mexcept\u001b[0m \u001b[0mLokyTimeoutError\u001b[0m\u001b[0;34m:\u001b[0m\u001b[0;34m\u001b[0m\u001b[0m\n\u001b[1;32m    523\u001b[0m             \u001b[0;32mraise\u001b[0m \u001b[0mTimeoutError\u001b[0m\u001b[0;34m(\u001b[0m\u001b[0;34m)\u001b[0m\u001b[0;34m\u001b[0m\u001b[0m\n",
      "\u001b[0;32m/opt/conda/lib/python3.6/concurrent/futures/_base.py\u001b[0m in \u001b[0;36mresult\u001b[0;34m(self, timeout)\u001b[0m\n\u001b[1;32m    425\u001b[0m                 \u001b[0;32mreturn\u001b[0m \u001b[0mself\u001b[0m\u001b[0;34m.\u001b[0m\u001b[0m__get_result\u001b[0m\u001b[0;34m(\u001b[0m\u001b[0;34m)\u001b[0m\u001b[0;34m\u001b[0m\u001b[0m\n\u001b[1;32m    426\u001b[0m \u001b[0;34m\u001b[0m\u001b[0m\n\u001b[0;32m--> 427\u001b[0;31m             \u001b[0mself\u001b[0m\u001b[0;34m.\u001b[0m\u001b[0m_condition\u001b[0m\u001b[0;34m.\u001b[0m\u001b[0mwait\u001b[0m\u001b[0;34m(\u001b[0m\u001b[0mtimeout\u001b[0m\u001b[0;34m)\u001b[0m\u001b[0;34m\u001b[0m\u001b[0m\n\u001b[0m\u001b[1;32m    428\u001b[0m \u001b[0;34m\u001b[0m\u001b[0m\n\u001b[1;32m    429\u001b[0m             \u001b[0;32mif\u001b[0m \u001b[0mself\u001b[0m\u001b[0;34m.\u001b[0m\u001b[0m_state\u001b[0m \u001b[0;32min\u001b[0m \u001b[0;34m[\u001b[0m\u001b[0mCANCELLED\u001b[0m\u001b[0;34m,\u001b[0m \u001b[0mCANCELLED_AND_NOTIFIED\u001b[0m\u001b[0;34m]\u001b[0m\u001b[0;34m:\u001b[0m\u001b[0;34m\u001b[0m\u001b[0m\n",
      "\u001b[0;32m/opt/conda/lib/python3.6/threading.py\u001b[0m in \u001b[0;36mwait\u001b[0;34m(self, timeout)\u001b[0m\n\u001b[1;32m    293\u001b[0m         \u001b[0;32mtry\u001b[0m\u001b[0;34m:\u001b[0m    \u001b[0;31m# restore state no matter what (e.g., KeyboardInterrupt)\u001b[0m\u001b[0;34m\u001b[0m\u001b[0m\n\u001b[1;32m    294\u001b[0m             \u001b[0;32mif\u001b[0m \u001b[0mtimeout\u001b[0m \u001b[0;32mis\u001b[0m \u001b[0;32mNone\u001b[0m\u001b[0;34m:\u001b[0m\u001b[0;34m\u001b[0m\u001b[0m\n\u001b[0;32m--> 295\u001b[0;31m                 \u001b[0mwaiter\u001b[0m\u001b[0;34m.\u001b[0m\u001b[0macquire\u001b[0m\u001b[0;34m(\u001b[0m\u001b[0;34m)\u001b[0m\u001b[0;34m\u001b[0m\u001b[0m\n\u001b[0m\u001b[1;32m    296\u001b[0m                 \u001b[0mgotit\u001b[0m \u001b[0;34m=\u001b[0m \u001b[0;32mTrue\u001b[0m\u001b[0;34m\u001b[0m\u001b[0m\n\u001b[1;32m    297\u001b[0m             \u001b[0;32melse\u001b[0m\u001b[0;34m:\u001b[0m\u001b[0;34m\u001b[0m\u001b[0m\n",
      "\u001b[0;31mKeyboardInterrupt\u001b[0m: "
     ]
    }
   ],
   "source": [
    "from sklearn.model_selection import GridSearchCV\n",
    "\n",
    "# Define the hyperparameter grid\n",
    "param_grid = {\n",
    "    'n_neighbors': [3, 5, 7],  # example values for n_neighbors\n",
    "    'weights': ['uniform', 'distance'],\n",
    "    'p': [1, 2, 3],  # example values for p\n",
    "    'algorithm': ['ball_tree', 'kd_tree', 'brute'],\n",
    "    'leaf_size': [20, 30, 40],  # example values for leaf_size\n",
    "    'metric': ['euclidean', 'manhattan']  # example values for metric\n",
    "}\n",
    "\n",
    "# Perform grid search with cross-validation\n",
    "grid_search = GridSearchCV(knn, param_grid, scoring='f1_micro', cv=10, n_jobs=-1)\n",
    "grid_search.fit(train_final, train_labels)\n",
    "\n",
    "# Get the best hyperparameters and corresponding F1 score\n",
    "best_params = grid_search.best_params_\n",
    "best_score = grid_search.best_score_\n"
   ]
  },
  {
   "cell_type": "code",
   "execution_count": 37,
   "metadata": {
    "execution": {
     "iopub.execute_input": "2023-04-16T17:15:03.295619Z",
     "iopub.status.busy": "2023-04-16T17:15:03.295221Z",
     "iopub.status.idle": "2023-04-16T17:15:03.303547Z",
     "shell.execute_reply": "2023-04-16T17:15:03.301762Z",
     "shell.execute_reply.started": "2023-04-16T17:15:03.295547Z"
    }
   },
   "outputs": [],
   "source": [
    "clf1=KNeighborsClassifier(n_neighbors=100)\n",
    "clf2=SVC()\n",
    "clf3=MultinomialNB(alpha=0.34)\n",
    "clf4=Model(inputs=[inp], outputs=[outp])\n",
    "clf5=RandomForestClassifier(n_estimators=100, min_samples_split=10, min_samples_leaf=15, \n",
    "                            max_features=60, max_depth=30, criterion='entropy', \n",
    "                            class_weight=None, bootstrap=False)\n",
    "\n",
    "Algos=[clf1,clf2,clf3,clf4,clf5]"
   ]
  },
  {
   "cell_type": "code",
   "execution_count": 39,
   "metadata": {
    "execution": {
     "iopub.execute_input": "2023-04-16T17:15:39.324241Z",
     "iopub.status.busy": "2023-04-16T17:15:39.323492Z",
     "iopub.status.idle": "2023-04-16T17:15:39.332037Z",
     "shell.execute_reply": "2023-04-16T17:15:39.330776Z",
     "shell.execute_reply.started": "2023-04-16T17:15:39.324163Z"
    }
   },
   "outputs": [
    {
     "data": {
      "text/plain": [
       "49972"
      ]
     },
     "execution_count": 39,
     "metadata": {},
     "output_type": "execute_result"
    }
   ],
   "source": [
    "rows=train_final.shape[0]\n",
    "rows"
   ]
  },
  {
   "cell_type": "code",
   "execution_count": 43,
   "metadata": {
    "execution": {
     "iopub.execute_input": "2023-04-16T17:16:16.098727Z",
     "iopub.status.busy": "2023-04-16T17:16:16.098022Z",
     "iopub.status.idle": "2023-04-16T17:16:16.142359Z",
     "shell.execute_reply": "2023-04-16T17:16:16.141155Z",
     "shell.execute_reply.started": "2023-04-16T17:16:16.098644Z"
    }
   },
   "outputs": [
    {
     "data": {
      "text/html": [
       "<div>\n",
       "<style scoped>\n",
       "    .dataframe tbody tr th:only-of-type {\n",
       "        vertical-align: middle;\n",
       "    }\n",
       "\n",
       "    .dataframe tbody tr th {\n",
       "        vertical-align: top;\n",
       "    }\n",
       "\n",
       "    .dataframe thead th {\n",
       "        text-align: right;\n",
       "    }\n",
       "</style>\n",
       "<table border=\"1\" class=\"dataframe\">\n",
       "  <thead>\n",
       "    <tr style=\"text-align: right;\">\n",
       "      <th></th>\n",
       "      <th>clf1</th>\n",
       "      <th>clf2</th>\n",
       "      <th>clf3</th>\n",
       "      <th>clf4</th>\n",
       "      <th>clf5</th>\n",
       "    </tr>\n",
       "  </thead>\n",
       "  <tbody>\n",
       "    <tr>\n",
       "      <th>0</th>\n",
       "      <td>0.0</td>\n",
       "      <td>0.0</td>\n",
       "      <td>0.0</td>\n",
       "      <td>0.0</td>\n",
       "      <td>0.0</td>\n",
       "    </tr>\n",
       "    <tr>\n",
       "      <th>1</th>\n",
       "      <td>0.0</td>\n",
       "      <td>0.0</td>\n",
       "      <td>0.0</td>\n",
       "      <td>0.0</td>\n",
       "      <td>0.0</td>\n",
       "    </tr>\n",
       "    <tr>\n",
       "      <th>2</th>\n",
       "      <td>0.0</td>\n",
       "      <td>0.0</td>\n",
       "      <td>0.0</td>\n",
       "      <td>0.0</td>\n",
       "      <td>0.0</td>\n",
       "    </tr>\n",
       "    <tr>\n",
       "      <th>3</th>\n",
       "      <td>0.0</td>\n",
       "      <td>0.0</td>\n",
       "      <td>0.0</td>\n",
       "      <td>0.0</td>\n",
       "      <td>0.0</td>\n",
       "    </tr>\n",
       "    <tr>\n",
       "      <th>4</th>\n",
       "      <td>0.0</td>\n",
       "      <td>0.0</td>\n",
       "      <td>0.0</td>\n",
       "      <td>0.0</td>\n",
       "      <td>0.0</td>\n",
       "    </tr>\n",
       "    <tr>\n",
       "      <th>5</th>\n",
       "      <td>0.0</td>\n",
       "      <td>0.0</td>\n",
       "      <td>0.0</td>\n",
       "      <td>0.0</td>\n",
       "      <td>0.0</td>\n",
       "    </tr>\n",
       "    <tr>\n",
       "      <th>6</th>\n",
       "      <td>0.0</td>\n",
       "      <td>0.0</td>\n",
       "      <td>0.0</td>\n",
       "      <td>0.0</td>\n",
       "      <td>0.0</td>\n",
       "    </tr>\n",
       "    <tr>\n",
       "      <th>7</th>\n",
       "      <td>0.0</td>\n",
       "      <td>0.0</td>\n",
       "      <td>0.0</td>\n",
       "      <td>0.0</td>\n",
       "      <td>0.0</td>\n",
       "    </tr>\n",
       "    <tr>\n",
       "      <th>8</th>\n",
       "      <td>0.0</td>\n",
       "      <td>0.0</td>\n",
       "      <td>0.0</td>\n",
       "      <td>0.0</td>\n",
       "      <td>0.0</td>\n",
       "    </tr>\n",
       "    <tr>\n",
       "      <th>9</th>\n",
       "      <td>0.0</td>\n",
       "      <td>0.0</td>\n",
       "      <td>0.0</td>\n",
       "      <td>0.0</td>\n",
       "      <td>0.0</td>\n",
       "    </tr>\n",
       "    <tr>\n",
       "      <th>10</th>\n",
       "      <td>0.0</td>\n",
       "      <td>0.0</td>\n",
       "      <td>0.0</td>\n",
       "      <td>0.0</td>\n",
       "      <td>0.0</td>\n",
       "    </tr>\n",
       "    <tr>\n",
       "      <th>11</th>\n",
       "      <td>0.0</td>\n",
       "      <td>0.0</td>\n",
       "      <td>0.0</td>\n",
       "      <td>0.0</td>\n",
       "      <td>0.0</td>\n",
       "    </tr>\n",
       "    <tr>\n",
       "      <th>12</th>\n",
       "      <td>0.0</td>\n",
       "      <td>0.0</td>\n",
       "      <td>0.0</td>\n",
       "      <td>0.0</td>\n",
       "      <td>0.0</td>\n",
       "    </tr>\n",
       "    <tr>\n",
       "      <th>13</th>\n",
       "      <td>0.0</td>\n",
       "      <td>0.0</td>\n",
       "      <td>0.0</td>\n",
       "      <td>0.0</td>\n",
       "      <td>0.0</td>\n",
       "    </tr>\n",
       "    <tr>\n",
       "      <th>14</th>\n",
       "      <td>0.0</td>\n",
       "      <td>0.0</td>\n",
       "      <td>0.0</td>\n",
       "      <td>0.0</td>\n",
       "      <td>0.0</td>\n",
       "    </tr>\n",
       "    <tr>\n",
       "      <th>15</th>\n",
       "      <td>0.0</td>\n",
       "      <td>0.0</td>\n",
       "      <td>0.0</td>\n",
       "      <td>0.0</td>\n",
       "      <td>0.0</td>\n",
       "    </tr>\n",
       "    <tr>\n",
       "      <th>16</th>\n",
       "      <td>0.0</td>\n",
       "      <td>0.0</td>\n",
       "      <td>0.0</td>\n",
       "      <td>0.0</td>\n",
       "      <td>0.0</td>\n",
       "    </tr>\n",
       "    <tr>\n",
       "      <th>17</th>\n",
       "      <td>0.0</td>\n",
       "      <td>0.0</td>\n",
       "      <td>0.0</td>\n",
       "      <td>0.0</td>\n",
       "      <td>0.0</td>\n",
       "    </tr>\n",
       "    <tr>\n",
       "      <th>18</th>\n",
       "      <td>0.0</td>\n",
       "      <td>0.0</td>\n",
       "      <td>0.0</td>\n",
       "      <td>0.0</td>\n",
       "      <td>0.0</td>\n",
       "    </tr>\n",
       "    <tr>\n",
       "      <th>19</th>\n",
       "      <td>0.0</td>\n",
       "      <td>0.0</td>\n",
       "      <td>0.0</td>\n",
       "      <td>0.0</td>\n",
       "      <td>0.0</td>\n",
       "    </tr>\n",
       "    <tr>\n",
       "      <th>20</th>\n",
       "      <td>0.0</td>\n",
       "      <td>0.0</td>\n",
       "      <td>0.0</td>\n",
       "      <td>0.0</td>\n",
       "      <td>0.0</td>\n",
       "    </tr>\n",
       "    <tr>\n",
       "      <th>21</th>\n",
       "      <td>0.0</td>\n",
       "      <td>0.0</td>\n",
       "      <td>0.0</td>\n",
       "      <td>0.0</td>\n",
       "      <td>0.0</td>\n",
       "    </tr>\n",
       "    <tr>\n",
       "      <th>22</th>\n",
       "      <td>0.0</td>\n",
       "      <td>0.0</td>\n",
       "      <td>0.0</td>\n",
       "      <td>0.0</td>\n",
       "      <td>0.0</td>\n",
       "    </tr>\n",
       "    <tr>\n",
       "      <th>23</th>\n",
       "      <td>0.0</td>\n",
       "      <td>0.0</td>\n",
       "      <td>0.0</td>\n",
       "      <td>0.0</td>\n",
       "      <td>0.0</td>\n",
       "    </tr>\n",
       "    <tr>\n",
       "      <th>24</th>\n",
       "      <td>0.0</td>\n",
       "      <td>0.0</td>\n",
       "      <td>0.0</td>\n",
       "      <td>0.0</td>\n",
       "      <td>0.0</td>\n",
       "    </tr>\n",
       "    <tr>\n",
       "      <th>25</th>\n",
       "      <td>0.0</td>\n",
       "      <td>0.0</td>\n",
       "      <td>0.0</td>\n",
       "      <td>0.0</td>\n",
       "      <td>0.0</td>\n",
       "    </tr>\n",
       "    <tr>\n",
       "      <th>26</th>\n",
       "      <td>0.0</td>\n",
       "      <td>0.0</td>\n",
       "      <td>0.0</td>\n",
       "      <td>0.0</td>\n",
       "      <td>0.0</td>\n",
       "    </tr>\n",
       "    <tr>\n",
       "      <th>27</th>\n",
       "      <td>0.0</td>\n",
       "      <td>0.0</td>\n",
       "      <td>0.0</td>\n",
       "      <td>0.0</td>\n",
       "      <td>0.0</td>\n",
       "    </tr>\n",
       "    <tr>\n",
       "      <th>28</th>\n",
       "      <td>0.0</td>\n",
       "      <td>0.0</td>\n",
       "      <td>0.0</td>\n",
       "      <td>0.0</td>\n",
       "      <td>0.0</td>\n",
       "    </tr>\n",
       "    <tr>\n",
       "      <th>29</th>\n",
       "      <td>0.0</td>\n",
       "      <td>0.0</td>\n",
       "      <td>0.0</td>\n",
       "      <td>0.0</td>\n",
       "      <td>0.0</td>\n",
       "    </tr>\n",
       "    <tr>\n",
       "      <th>...</th>\n",
       "      <td>...</td>\n",
       "      <td>...</td>\n",
       "      <td>...</td>\n",
       "      <td>...</td>\n",
       "      <td>...</td>\n",
       "    </tr>\n",
       "    <tr>\n",
       "      <th>49942</th>\n",
       "      <td>0.0</td>\n",
       "      <td>0.0</td>\n",
       "      <td>0.0</td>\n",
       "      <td>0.0</td>\n",
       "      <td>0.0</td>\n",
       "    </tr>\n",
       "    <tr>\n",
       "      <th>49943</th>\n",
       "      <td>0.0</td>\n",
       "      <td>0.0</td>\n",
       "      <td>0.0</td>\n",
       "      <td>0.0</td>\n",
       "      <td>0.0</td>\n",
       "    </tr>\n",
       "    <tr>\n",
       "      <th>49944</th>\n",
       "      <td>0.0</td>\n",
       "      <td>0.0</td>\n",
       "      <td>0.0</td>\n",
       "      <td>0.0</td>\n",
       "      <td>0.0</td>\n",
       "    </tr>\n",
       "    <tr>\n",
       "      <th>49945</th>\n",
       "      <td>0.0</td>\n",
       "      <td>0.0</td>\n",
       "      <td>0.0</td>\n",
       "      <td>0.0</td>\n",
       "      <td>0.0</td>\n",
       "    </tr>\n",
       "    <tr>\n",
       "      <th>49946</th>\n",
       "      <td>0.0</td>\n",
       "      <td>0.0</td>\n",
       "      <td>0.0</td>\n",
       "      <td>0.0</td>\n",
       "      <td>0.0</td>\n",
       "    </tr>\n",
       "    <tr>\n",
       "      <th>49947</th>\n",
       "      <td>0.0</td>\n",
       "      <td>0.0</td>\n",
       "      <td>0.0</td>\n",
       "      <td>0.0</td>\n",
       "      <td>0.0</td>\n",
       "    </tr>\n",
       "    <tr>\n",
       "      <th>49948</th>\n",
       "      <td>0.0</td>\n",
       "      <td>0.0</td>\n",
       "      <td>0.0</td>\n",
       "      <td>0.0</td>\n",
       "      <td>0.0</td>\n",
       "    </tr>\n",
       "    <tr>\n",
       "      <th>49949</th>\n",
       "      <td>0.0</td>\n",
       "      <td>0.0</td>\n",
       "      <td>0.0</td>\n",
       "      <td>0.0</td>\n",
       "      <td>0.0</td>\n",
       "    </tr>\n",
       "    <tr>\n",
       "      <th>49950</th>\n",
       "      <td>0.0</td>\n",
       "      <td>0.0</td>\n",
       "      <td>0.0</td>\n",
       "      <td>0.0</td>\n",
       "      <td>0.0</td>\n",
       "    </tr>\n",
       "    <tr>\n",
       "      <th>49951</th>\n",
       "      <td>0.0</td>\n",
       "      <td>0.0</td>\n",
       "      <td>0.0</td>\n",
       "      <td>0.0</td>\n",
       "      <td>0.0</td>\n",
       "    </tr>\n",
       "    <tr>\n",
       "      <th>49952</th>\n",
       "      <td>0.0</td>\n",
       "      <td>0.0</td>\n",
       "      <td>0.0</td>\n",
       "      <td>0.0</td>\n",
       "      <td>0.0</td>\n",
       "    </tr>\n",
       "    <tr>\n",
       "      <th>49953</th>\n",
       "      <td>0.0</td>\n",
       "      <td>0.0</td>\n",
       "      <td>0.0</td>\n",
       "      <td>0.0</td>\n",
       "      <td>0.0</td>\n",
       "    </tr>\n",
       "    <tr>\n",
       "      <th>49954</th>\n",
       "      <td>0.0</td>\n",
       "      <td>0.0</td>\n",
       "      <td>0.0</td>\n",
       "      <td>0.0</td>\n",
       "      <td>0.0</td>\n",
       "    </tr>\n",
       "    <tr>\n",
       "      <th>49955</th>\n",
       "      <td>0.0</td>\n",
       "      <td>0.0</td>\n",
       "      <td>0.0</td>\n",
       "      <td>0.0</td>\n",
       "      <td>0.0</td>\n",
       "    </tr>\n",
       "    <tr>\n",
       "      <th>49956</th>\n",
       "      <td>0.0</td>\n",
       "      <td>0.0</td>\n",
       "      <td>0.0</td>\n",
       "      <td>0.0</td>\n",
       "      <td>0.0</td>\n",
       "    </tr>\n",
       "    <tr>\n",
       "      <th>49957</th>\n",
       "      <td>0.0</td>\n",
       "      <td>0.0</td>\n",
       "      <td>0.0</td>\n",
       "      <td>0.0</td>\n",
       "      <td>0.0</td>\n",
       "    </tr>\n",
       "    <tr>\n",
       "      <th>49958</th>\n",
       "      <td>0.0</td>\n",
       "      <td>0.0</td>\n",
       "      <td>0.0</td>\n",
       "      <td>0.0</td>\n",
       "      <td>0.0</td>\n",
       "    </tr>\n",
       "    <tr>\n",
       "      <th>49959</th>\n",
       "      <td>0.0</td>\n",
       "      <td>0.0</td>\n",
       "      <td>0.0</td>\n",
       "      <td>0.0</td>\n",
       "      <td>0.0</td>\n",
       "    </tr>\n",
       "    <tr>\n",
       "      <th>49960</th>\n",
       "      <td>0.0</td>\n",
       "      <td>0.0</td>\n",
       "      <td>0.0</td>\n",
       "      <td>0.0</td>\n",
       "      <td>0.0</td>\n",
       "    </tr>\n",
       "    <tr>\n",
       "      <th>49961</th>\n",
       "      <td>0.0</td>\n",
       "      <td>0.0</td>\n",
       "      <td>0.0</td>\n",
       "      <td>0.0</td>\n",
       "      <td>0.0</td>\n",
       "    </tr>\n",
       "    <tr>\n",
       "      <th>49962</th>\n",
       "      <td>0.0</td>\n",
       "      <td>0.0</td>\n",
       "      <td>0.0</td>\n",
       "      <td>0.0</td>\n",
       "      <td>0.0</td>\n",
       "    </tr>\n",
       "    <tr>\n",
       "      <th>49963</th>\n",
       "      <td>0.0</td>\n",
       "      <td>0.0</td>\n",
       "      <td>0.0</td>\n",
       "      <td>0.0</td>\n",
       "      <td>0.0</td>\n",
       "    </tr>\n",
       "    <tr>\n",
       "      <th>49964</th>\n",
       "      <td>0.0</td>\n",
       "      <td>0.0</td>\n",
       "      <td>0.0</td>\n",
       "      <td>0.0</td>\n",
       "      <td>0.0</td>\n",
       "    </tr>\n",
       "    <tr>\n",
       "      <th>49965</th>\n",
       "      <td>0.0</td>\n",
       "      <td>0.0</td>\n",
       "      <td>0.0</td>\n",
       "      <td>0.0</td>\n",
       "      <td>0.0</td>\n",
       "    </tr>\n",
       "    <tr>\n",
       "      <th>49966</th>\n",
       "      <td>0.0</td>\n",
       "      <td>0.0</td>\n",
       "      <td>0.0</td>\n",
       "      <td>0.0</td>\n",
       "      <td>0.0</td>\n",
       "    </tr>\n",
       "    <tr>\n",
       "      <th>49967</th>\n",
       "      <td>0.0</td>\n",
       "      <td>0.0</td>\n",
       "      <td>0.0</td>\n",
       "      <td>0.0</td>\n",
       "      <td>0.0</td>\n",
       "    </tr>\n",
       "    <tr>\n",
       "      <th>49968</th>\n",
       "      <td>0.0</td>\n",
       "      <td>0.0</td>\n",
       "      <td>0.0</td>\n",
       "      <td>0.0</td>\n",
       "      <td>0.0</td>\n",
       "    </tr>\n",
       "    <tr>\n",
       "      <th>49969</th>\n",
       "      <td>0.0</td>\n",
       "      <td>0.0</td>\n",
       "      <td>0.0</td>\n",
       "      <td>0.0</td>\n",
       "      <td>0.0</td>\n",
       "    </tr>\n",
       "    <tr>\n",
       "      <th>49970</th>\n",
       "      <td>0.0</td>\n",
       "      <td>0.0</td>\n",
       "      <td>0.0</td>\n",
       "      <td>0.0</td>\n",
       "      <td>0.0</td>\n",
       "    </tr>\n",
       "    <tr>\n",
       "      <th>49971</th>\n",
       "      <td>0.0</td>\n",
       "      <td>0.0</td>\n",
       "      <td>0.0</td>\n",
       "      <td>0.0</td>\n",
       "      <td>0.0</td>\n",
       "    </tr>\n",
       "  </tbody>\n",
       "</table>\n",
       "<p>49972 rows × 5 columns</p>\n",
       "</div>"
      ],
      "text/plain": [
       "       clf1  clf2  clf3  clf4  clf5\n",
       "0       0.0   0.0   0.0   0.0   0.0\n",
       "1       0.0   0.0   0.0   0.0   0.0\n",
       "2       0.0   0.0   0.0   0.0   0.0\n",
       "3       0.0   0.0   0.0   0.0   0.0\n",
       "4       0.0   0.0   0.0   0.0   0.0\n",
       "5       0.0   0.0   0.0   0.0   0.0\n",
       "6       0.0   0.0   0.0   0.0   0.0\n",
       "7       0.0   0.0   0.0   0.0   0.0\n",
       "8       0.0   0.0   0.0   0.0   0.0\n",
       "9       0.0   0.0   0.0   0.0   0.0\n",
       "10      0.0   0.0   0.0   0.0   0.0\n",
       "11      0.0   0.0   0.0   0.0   0.0\n",
       "12      0.0   0.0   0.0   0.0   0.0\n",
       "13      0.0   0.0   0.0   0.0   0.0\n",
       "14      0.0   0.0   0.0   0.0   0.0\n",
       "15      0.0   0.0   0.0   0.0   0.0\n",
       "16      0.0   0.0   0.0   0.0   0.0\n",
       "17      0.0   0.0   0.0   0.0   0.0\n",
       "18      0.0   0.0   0.0   0.0   0.0\n",
       "19      0.0   0.0   0.0   0.0   0.0\n",
       "20      0.0   0.0   0.0   0.0   0.0\n",
       "21      0.0   0.0   0.0   0.0   0.0\n",
       "22      0.0   0.0   0.0   0.0   0.0\n",
       "23      0.0   0.0   0.0   0.0   0.0\n",
       "24      0.0   0.0   0.0   0.0   0.0\n",
       "25      0.0   0.0   0.0   0.0   0.0\n",
       "26      0.0   0.0   0.0   0.0   0.0\n",
       "27      0.0   0.0   0.0   0.0   0.0\n",
       "28      0.0   0.0   0.0   0.0   0.0\n",
       "29      0.0   0.0   0.0   0.0   0.0\n",
       "...     ...   ...   ...   ...   ...\n",
       "49942   0.0   0.0   0.0   0.0   0.0\n",
       "49943   0.0   0.0   0.0   0.0   0.0\n",
       "49944   0.0   0.0   0.0   0.0   0.0\n",
       "49945   0.0   0.0   0.0   0.0   0.0\n",
       "49946   0.0   0.0   0.0   0.0   0.0\n",
       "49947   0.0   0.0   0.0   0.0   0.0\n",
       "49948   0.0   0.0   0.0   0.0   0.0\n",
       "49949   0.0   0.0   0.0   0.0   0.0\n",
       "49950   0.0   0.0   0.0   0.0   0.0\n",
       "49951   0.0   0.0   0.0   0.0   0.0\n",
       "49952   0.0   0.0   0.0   0.0   0.0\n",
       "49953   0.0   0.0   0.0   0.0   0.0\n",
       "49954   0.0   0.0   0.0   0.0   0.0\n",
       "49955   0.0   0.0   0.0   0.0   0.0\n",
       "49956   0.0   0.0   0.0   0.0   0.0\n",
       "49957   0.0   0.0   0.0   0.0   0.0\n",
       "49958   0.0   0.0   0.0   0.0   0.0\n",
       "49959   0.0   0.0   0.0   0.0   0.0\n",
       "49960   0.0   0.0   0.0   0.0   0.0\n",
       "49961   0.0   0.0   0.0   0.0   0.0\n",
       "49962   0.0   0.0   0.0   0.0   0.0\n",
       "49963   0.0   0.0   0.0   0.0   0.0\n",
       "49964   0.0   0.0   0.0   0.0   0.0\n",
       "49965   0.0   0.0   0.0   0.0   0.0\n",
       "49966   0.0   0.0   0.0   0.0   0.0\n",
       "49967   0.0   0.0   0.0   0.0   0.0\n",
       "49968   0.0   0.0   0.0   0.0   0.0\n",
       "49969   0.0   0.0   0.0   0.0   0.0\n",
       "49970   0.0   0.0   0.0   0.0   0.0\n",
       "49971   0.0   0.0   0.0   0.0   0.0\n",
       "\n",
       "[49972 rows x 5 columns]"
      ]
     },
     "execution_count": 43,
     "metadata": {},
     "output_type": "execute_result"
    }
   ],
   "source": [
    "layer1=pd.DataFrame({'clf'+str(i):np.zeros(rows) for i in range(1,len(Algos)+1)})\n",
    "layer1"
   ]
  },
  {
   "cell_type": "code",
   "execution_count": 45,
   "metadata": {
    "execution": {
     "iopub.execute_input": "2023-04-16T17:18:38.855057Z",
     "iopub.status.busy": "2023-04-16T17:18:38.854690Z",
     "iopub.status.idle": "2023-04-16T17:18:38.860315Z",
     "shell.execute_reply": "2023-04-16T17:18:38.858798Z",
     "shell.execute_reply.started": "2023-04-16T17:18:38.855003Z"
    }
   },
   "outputs": [],
   "source": [
    "from sklearn.model_selection import KFold\n",
    "kf=KFold(n_splits=10)"
   ]
  },
  {
   "cell_type": "code",
   "execution_count": 50,
   "metadata": {
    "execution": {
     "iopub.execute_input": "2023-04-16T17:31:47.555399Z",
     "iopub.status.busy": "2023-04-16T17:31:47.554690Z",
     "iopub.status.idle": "2023-04-16T17:32:07.683809Z",
     "shell.execute_reply": "2023-04-16T17:32:07.683007Z",
     "shell.execute_reply.started": "2023-04-16T17:31:47.555333Z"
    }
   },
   "outputs": [
    {
     "name": "stdout",
     "output_type": "stream",
     "text": [
      "fold number :  1\n",
      "Algo number : 1\n",
      "Algo number : 2\n",
      "Algo number : 3\n",
      "Algo number : 4\n",
      "Algo number : 5\n",
      "fold number :  2\n",
      "Algo number : 1\n",
      "Algo number : 2\n",
      "Algo number : 3\n",
      "Algo number : 4\n",
      "Algo number : 5\n",
      "fold number :  3\n",
      "Algo number : 1\n",
      "Algo number : 2\n",
      "Algo number : 3\n",
      "Algo number : 4\n",
      "Algo number : 5\n",
      "fold number :  4\n",
      "Algo number : 1\n",
      "Algo number : 2\n",
      "Algo number : 3\n",
      "Algo number : 4\n",
      "Algo number : 5\n",
      "fold number :  5\n",
      "Algo number : 1\n",
      "Algo number : 2\n",
      "Algo number : 3\n",
      "Algo number : 4\n",
      "Algo number : 5\n",
      "fold number :  6\n",
      "Algo number : 1\n",
      "Algo number : 2\n",
      "Algo number : 3\n",
      "Algo number : 4\n",
      "Algo number : 5\n",
      "fold number :  7\n",
      "Algo number : 1\n",
      "Algo number : 2\n",
      "Algo number : 3\n",
      "Algo number : 4\n",
      "Algo number : 5\n",
      "fold number :  8\n",
      "Algo number : 1\n",
      "Algo number : 2\n",
      "Algo number : 3\n",
      "Algo number : 4\n",
      "Algo number : 5\n",
      "fold number :  9\n",
      "Algo number : 1\n",
      "Algo number : 2\n",
      "Algo number : 3\n",
      "Algo number : 4\n",
      "Algo number : 5\n",
      "fold number :  10\n",
      "Algo number : 1\n",
      "Algo number : 2\n",
      "Algo number : 3\n",
      "Algo number : 4\n",
      "Algo number : 5\n"
     ]
    }
   ],
   "source": [
    "import pandas as pd\n",
    "import numpy as np\n",
    "from sklearn.naive_bayes import GaussianNB\n",
    "\n",
    "fold = 1\n",
    "for train, left_out_chunk in kf.split(train_final):\n",
    "    print('fold number : ', fold)\n",
    "\n",
    "    for i, clf in enumerate(Algos):\n",
    "        print('Algo number :', i + 1)\n",
    "\n",
    "        train_train_final = pd.DataFrame(train_final).loc[train]\n",
    "        train_train_labels = train_labels[train]\n",
    "\n",
    "        train_final_left_out_chunk = pd.DataFrame(train_final).loc[left_out_chunk]\n",
    "\n",
    "        # Initialize and fit GaussianNB classifier\n",
    "        #clf = GaussianNB()\n",
    "        clf.fit(train_train_final, train_train_labels)\n",
    "        p = clf.predict_proba(train_final_left_out_chunk)[:, 1]\n",
    "\n",
    "        layer1.iloc[left_out_chunk, i] = p\n",
    "\n",
    "    fold += 1\n"
   ]
  },
  {
   "cell_type": "code",
   "execution_count": 51,
   "metadata": {
    "execution": {
     "iopub.execute_input": "2023-04-16T17:32:27.236760Z",
     "iopub.status.busy": "2023-04-16T17:32:27.236417Z",
     "iopub.status.idle": "2023-04-16T17:32:27.283599Z",
     "shell.execute_reply": "2023-04-16T17:32:27.282397Z",
     "shell.execute_reply.started": "2023-04-16T17:32:27.236710Z"
    }
   },
   "outputs": [
    {
     "data": {
      "text/html": [
       "<div>\n",
       "<style scoped>\n",
       "    .dataframe tbody tr th:only-of-type {\n",
       "        vertical-align: middle;\n",
       "    }\n",
       "\n",
       "    .dataframe tbody tr th {\n",
       "        vertical-align: top;\n",
       "    }\n",
       "\n",
       "    .dataframe thead th {\n",
       "        text-align: right;\n",
       "    }\n",
       "</style>\n",
       "<table border=\"1\" class=\"dataframe\">\n",
       "  <thead>\n",
       "    <tr style=\"text-align: right;\">\n",
       "      <th></th>\n",
       "      <th>clf1</th>\n",
       "      <th>clf2</th>\n",
       "      <th>clf3</th>\n",
       "      <th>clf4</th>\n",
       "      <th>clf5</th>\n",
       "    </tr>\n",
       "  </thead>\n",
       "  <tbody>\n",
       "    <tr>\n",
       "      <th>0</th>\n",
       "      <td>1.000000e+00</td>\n",
       "      <td>1.000000e+00</td>\n",
       "      <td>1.000000e+00</td>\n",
       "      <td>1.000000e+00</td>\n",
       "      <td>1.000000e+00</td>\n",
       "    </tr>\n",
       "    <tr>\n",
       "      <th>1</th>\n",
       "      <td>1.000000e+00</td>\n",
       "      <td>1.000000e+00</td>\n",
       "      <td>1.000000e+00</td>\n",
       "      <td>1.000000e+00</td>\n",
       "      <td>1.000000e+00</td>\n",
       "    </tr>\n",
       "    <tr>\n",
       "      <th>2</th>\n",
       "      <td>4.850940e-27</td>\n",
       "      <td>4.850940e-27</td>\n",
       "      <td>4.850940e-27</td>\n",
       "      <td>4.850940e-27</td>\n",
       "      <td>4.850940e-27</td>\n",
       "    </tr>\n",
       "    <tr>\n",
       "      <th>3</th>\n",
       "      <td>1.000000e+00</td>\n",
       "      <td>1.000000e+00</td>\n",
       "      <td>1.000000e+00</td>\n",
       "      <td>1.000000e+00</td>\n",
       "      <td>1.000000e+00</td>\n",
       "    </tr>\n",
       "    <tr>\n",
       "      <th>4</th>\n",
       "      <td>1.000000e+00</td>\n",
       "      <td>1.000000e+00</td>\n",
       "      <td>1.000000e+00</td>\n",
       "      <td>1.000000e+00</td>\n",
       "      <td>1.000000e+00</td>\n",
       "    </tr>\n",
       "    <tr>\n",
       "      <th>5</th>\n",
       "      <td>1.000000e+00</td>\n",
       "      <td>1.000000e+00</td>\n",
       "      <td>1.000000e+00</td>\n",
       "      <td>1.000000e+00</td>\n",
       "      <td>1.000000e+00</td>\n",
       "    </tr>\n",
       "    <tr>\n",
       "      <th>6</th>\n",
       "      <td>1.000000e+00</td>\n",
       "      <td>1.000000e+00</td>\n",
       "      <td>1.000000e+00</td>\n",
       "      <td>1.000000e+00</td>\n",
       "      <td>1.000000e+00</td>\n",
       "    </tr>\n",
       "    <tr>\n",
       "      <th>7</th>\n",
       "      <td>1.000000e+00</td>\n",
       "      <td>1.000000e+00</td>\n",
       "      <td>1.000000e+00</td>\n",
       "      <td>1.000000e+00</td>\n",
       "      <td>1.000000e+00</td>\n",
       "    </tr>\n",
       "    <tr>\n",
       "      <th>8</th>\n",
       "      <td>2.824496e-26</td>\n",
       "      <td>2.824496e-26</td>\n",
       "      <td>2.824496e-26</td>\n",
       "      <td>2.824496e-26</td>\n",
       "      <td>2.824496e-26</td>\n",
       "    </tr>\n",
       "    <tr>\n",
       "      <th>9</th>\n",
       "      <td>1.000000e+00</td>\n",
       "      <td>1.000000e+00</td>\n",
       "      <td>1.000000e+00</td>\n",
       "      <td>1.000000e+00</td>\n",
       "      <td>1.000000e+00</td>\n",
       "    </tr>\n",
       "    <tr>\n",
       "      <th>10</th>\n",
       "      <td>1.000000e+00</td>\n",
       "      <td>1.000000e+00</td>\n",
       "      <td>1.000000e+00</td>\n",
       "      <td>1.000000e+00</td>\n",
       "      <td>1.000000e+00</td>\n",
       "    </tr>\n",
       "    <tr>\n",
       "      <th>11</th>\n",
       "      <td>5.700452e-297</td>\n",
       "      <td>5.700452e-297</td>\n",
       "      <td>5.700452e-297</td>\n",
       "      <td>5.700452e-297</td>\n",
       "      <td>5.700452e-297</td>\n",
       "    </tr>\n",
       "    <tr>\n",
       "      <th>12</th>\n",
       "      <td>0.000000e+00</td>\n",
       "      <td>0.000000e+00</td>\n",
       "      <td>0.000000e+00</td>\n",
       "      <td>0.000000e+00</td>\n",
       "      <td>0.000000e+00</td>\n",
       "    </tr>\n",
       "    <tr>\n",
       "      <th>13</th>\n",
       "      <td>1.000000e+00</td>\n",
       "      <td>1.000000e+00</td>\n",
       "      <td>1.000000e+00</td>\n",
       "      <td>1.000000e+00</td>\n",
       "      <td>1.000000e+00</td>\n",
       "    </tr>\n",
       "    <tr>\n",
       "      <th>14</th>\n",
       "      <td>1.000000e+00</td>\n",
       "      <td>1.000000e+00</td>\n",
       "      <td>1.000000e+00</td>\n",
       "      <td>1.000000e+00</td>\n",
       "      <td>1.000000e+00</td>\n",
       "    </tr>\n",
       "    <tr>\n",
       "      <th>15</th>\n",
       "      <td>1.000000e+00</td>\n",
       "      <td>1.000000e+00</td>\n",
       "      <td>1.000000e+00</td>\n",
       "      <td>1.000000e+00</td>\n",
       "      <td>1.000000e+00</td>\n",
       "    </tr>\n",
       "    <tr>\n",
       "      <th>16</th>\n",
       "      <td>1.000000e+00</td>\n",
       "      <td>1.000000e+00</td>\n",
       "      <td>1.000000e+00</td>\n",
       "      <td>1.000000e+00</td>\n",
       "      <td>1.000000e+00</td>\n",
       "    </tr>\n",
       "    <tr>\n",
       "      <th>17</th>\n",
       "      <td>1.000000e+00</td>\n",
       "      <td>1.000000e+00</td>\n",
       "      <td>1.000000e+00</td>\n",
       "      <td>1.000000e+00</td>\n",
       "      <td>1.000000e+00</td>\n",
       "    </tr>\n",
       "    <tr>\n",
       "      <th>18</th>\n",
       "      <td>6.213664e-03</td>\n",
       "      <td>6.213664e-03</td>\n",
       "      <td>6.213664e-03</td>\n",
       "      <td>6.213664e-03</td>\n",
       "      <td>6.213664e-03</td>\n",
       "    </tr>\n",
       "    <tr>\n",
       "      <th>19</th>\n",
       "      <td>3.730800e-35</td>\n",
       "      <td>3.730800e-35</td>\n",
       "      <td>3.730800e-35</td>\n",
       "      <td>3.730800e-35</td>\n",
       "      <td>3.730800e-35</td>\n",
       "    </tr>\n",
       "    <tr>\n",
       "      <th>20</th>\n",
       "      <td>1.000000e+00</td>\n",
       "      <td>1.000000e+00</td>\n",
       "      <td>1.000000e+00</td>\n",
       "      <td>1.000000e+00</td>\n",
       "      <td>1.000000e+00</td>\n",
       "    </tr>\n",
       "    <tr>\n",
       "      <th>21</th>\n",
       "      <td>1.000000e+00</td>\n",
       "      <td>1.000000e+00</td>\n",
       "      <td>1.000000e+00</td>\n",
       "      <td>1.000000e+00</td>\n",
       "      <td>1.000000e+00</td>\n",
       "    </tr>\n",
       "    <tr>\n",
       "      <th>22</th>\n",
       "      <td>1.000000e+00</td>\n",
       "      <td>1.000000e+00</td>\n",
       "      <td>1.000000e+00</td>\n",
       "      <td>1.000000e+00</td>\n",
       "      <td>1.000000e+00</td>\n",
       "    </tr>\n",
       "    <tr>\n",
       "      <th>23</th>\n",
       "      <td>1.000000e+00</td>\n",
       "      <td>1.000000e+00</td>\n",
       "      <td>1.000000e+00</td>\n",
       "      <td>1.000000e+00</td>\n",
       "      <td>1.000000e+00</td>\n",
       "    </tr>\n",
       "    <tr>\n",
       "      <th>24</th>\n",
       "      <td>1.000000e+00</td>\n",
       "      <td>1.000000e+00</td>\n",
       "      <td>1.000000e+00</td>\n",
       "      <td>1.000000e+00</td>\n",
       "      <td>1.000000e+00</td>\n",
       "    </tr>\n",
       "    <tr>\n",
       "      <th>25</th>\n",
       "      <td>1.000000e+00</td>\n",
       "      <td>1.000000e+00</td>\n",
       "      <td>1.000000e+00</td>\n",
       "      <td>1.000000e+00</td>\n",
       "      <td>1.000000e+00</td>\n",
       "    </tr>\n",
       "    <tr>\n",
       "      <th>26</th>\n",
       "      <td>1.000000e+00</td>\n",
       "      <td>1.000000e+00</td>\n",
       "      <td>1.000000e+00</td>\n",
       "      <td>1.000000e+00</td>\n",
       "      <td>1.000000e+00</td>\n",
       "    </tr>\n",
       "    <tr>\n",
       "      <th>27</th>\n",
       "      <td>8.509733e-32</td>\n",
       "      <td>8.509733e-32</td>\n",
       "      <td>8.509733e-32</td>\n",
       "      <td>8.509733e-32</td>\n",
       "      <td>8.509733e-32</td>\n",
       "    </tr>\n",
       "    <tr>\n",
       "      <th>28</th>\n",
       "      <td>0.000000e+00</td>\n",
       "      <td>0.000000e+00</td>\n",
       "      <td>0.000000e+00</td>\n",
       "      <td>0.000000e+00</td>\n",
       "      <td>0.000000e+00</td>\n",
       "    </tr>\n",
       "    <tr>\n",
       "      <th>29</th>\n",
       "      <td>1.025018e-124</td>\n",
       "      <td>1.025018e-124</td>\n",
       "      <td>1.025018e-124</td>\n",
       "      <td>1.025018e-124</td>\n",
       "      <td>1.025018e-124</td>\n",
       "    </tr>\n",
       "    <tr>\n",
       "      <th>...</th>\n",
       "      <td>...</td>\n",
       "      <td>...</td>\n",
       "      <td>...</td>\n",
       "      <td>...</td>\n",
       "      <td>...</td>\n",
       "    </tr>\n",
       "    <tr>\n",
       "      <th>49942</th>\n",
       "      <td>1.752019e-145</td>\n",
       "      <td>1.752019e-145</td>\n",
       "      <td>1.752019e-145</td>\n",
       "      <td>1.752019e-145</td>\n",
       "      <td>1.752019e-145</td>\n",
       "    </tr>\n",
       "    <tr>\n",
       "      <th>49943</th>\n",
       "      <td>1.000000e+00</td>\n",
       "      <td>1.000000e+00</td>\n",
       "      <td>1.000000e+00</td>\n",
       "      <td>1.000000e+00</td>\n",
       "      <td>1.000000e+00</td>\n",
       "    </tr>\n",
       "    <tr>\n",
       "      <th>49944</th>\n",
       "      <td>1.000000e+00</td>\n",
       "      <td>1.000000e+00</td>\n",
       "      <td>1.000000e+00</td>\n",
       "      <td>1.000000e+00</td>\n",
       "      <td>1.000000e+00</td>\n",
       "    </tr>\n",
       "    <tr>\n",
       "      <th>49945</th>\n",
       "      <td>1.000000e+00</td>\n",
       "      <td>1.000000e+00</td>\n",
       "      <td>1.000000e+00</td>\n",
       "      <td>1.000000e+00</td>\n",
       "      <td>1.000000e+00</td>\n",
       "    </tr>\n",
       "    <tr>\n",
       "      <th>49946</th>\n",
       "      <td>1.000000e+00</td>\n",
       "      <td>1.000000e+00</td>\n",
       "      <td>1.000000e+00</td>\n",
       "      <td>1.000000e+00</td>\n",
       "      <td>1.000000e+00</td>\n",
       "    </tr>\n",
       "    <tr>\n",
       "      <th>49947</th>\n",
       "      <td>1.000000e+00</td>\n",
       "      <td>1.000000e+00</td>\n",
       "      <td>1.000000e+00</td>\n",
       "      <td>1.000000e+00</td>\n",
       "      <td>1.000000e+00</td>\n",
       "    </tr>\n",
       "    <tr>\n",
       "      <th>49948</th>\n",
       "      <td>0.000000e+00</td>\n",
       "      <td>0.000000e+00</td>\n",
       "      <td>0.000000e+00</td>\n",
       "      <td>0.000000e+00</td>\n",
       "      <td>0.000000e+00</td>\n",
       "    </tr>\n",
       "    <tr>\n",
       "      <th>49949</th>\n",
       "      <td>3.899811e-208</td>\n",
       "      <td>3.899811e-208</td>\n",
       "      <td>3.899811e-208</td>\n",
       "      <td>3.899811e-208</td>\n",
       "      <td>3.899811e-208</td>\n",
       "    </tr>\n",
       "    <tr>\n",
       "      <th>49950</th>\n",
       "      <td>1.000000e+00</td>\n",
       "      <td>1.000000e+00</td>\n",
       "      <td>1.000000e+00</td>\n",
       "      <td>1.000000e+00</td>\n",
       "      <td>1.000000e+00</td>\n",
       "    </tr>\n",
       "    <tr>\n",
       "      <th>49951</th>\n",
       "      <td>3.838093e-17</td>\n",
       "      <td>3.838093e-17</td>\n",
       "      <td>3.838093e-17</td>\n",
       "      <td>3.838093e-17</td>\n",
       "      <td>3.838093e-17</td>\n",
       "    </tr>\n",
       "    <tr>\n",
       "      <th>49952</th>\n",
       "      <td>1.000000e+00</td>\n",
       "      <td>1.000000e+00</td>\n",
       "      <td>1.000000e+00</td>\n",
       "      <td>1.000000e+00</td>\n",
       "      <td>1.000000e+00</td>\n",
       "    </tr>\n",
       "    <tr>\n",
       "      <th>49953</th>\n",
       "      <td>1.000000e+00</td>\n",
       "      <td>1.000000e+00</td>\n",
       "      <td>1.000000e+00</td>\n",
       "      <td>1.000000e+00</td>\n",
       "      <td>1.000000e+00</td>\n",
       "    </tr>\n",
       "    <tr>\n",
       "      <th>49954</th>\n",
       "      <td>1.778868e-10</td>\n",
       "      <td>1.778868e-10</td>\n",
       "      <td>1.778868e-10</td>\n",
       "      <td>1.778868e-10</td>\n",
       "      <td>1.778868e-10</td>\n",
       "    </tr>\n",
       "    <tr>\n",
       "      <th>49955</th>\n",
       "      <td>2.375059e-10</td>\n",
       "      <td>2.375059e-10</td>\n",
       "      <td>2.375059e-10</td>\n",
       "      <td>2.375059e-10</td>\n",
       "      <td>2.375059e-10</td>\n",
       "    </tr>\n",
       "    <tr>\n",
       "      <th>49956</th>\n",
       "      <td>0.000000e+00</td>\n",
       "      <td>0.000000e+00</td>\n",
       "      <td>0.000000e+00</td>\n",
       "      <td>0.000000e+00</td>\n",
       "      <td>0.000000e+00</td>\n",
       "    </tr>\n",
       "    <tr>\n",
       "      <th>49957</th>\n",
       "      <td>1.000000e+00</td>\n",
       "      <td>1.000000e+00</td>\n",
       "      <td>1.000000e+00</td>\n",
       "      <td>1.000000e+00</td>\n",
       "      <td>1.000000e+00</td>\n",
       "    </tr>\n",
       "    <tr>\n",
       "      <th>49958</th>\n",
       "      <td>1.000000e+00</td>\n",
       "      <td>1.000000e+00</td>\n",
       "      <td>1.000000e+00</td>\n",
       "      <td>1.000000e+00</td>\n",
       "      <td>1.000000e+00</td>\n",
       "    </tr>\n",
       "    <tr>\n",
       "      <th>49959</th>\n",
       "      <td>1.022032e-25</td>\n",
       "      <td>1.022032e-25</td>\n",
       "      <td>1.022032e-25</td>\n",
       "      <td>1.022032e-25</td>\n",
       "      <td>1.022032e-25</td>\n",
       "    </tr>\n",
       "    <tr>\n",
       "      <th>49960</th>\n",
       "      <td>1.238926e-209</td>\n",
       "      <td>1.238926e-209</td>\n",
       "      <td>1.238926e-209</td>\n",
       "      <td>1.238926e-209</td>\n",
       "      <td>1.238926e-209</td>\n",
       "    </tr>\n",
       "    <tr>\n",
       "      <th>49961</th>\n",
       "      <td>0.000000e+00</td>\n",
       "      <td>0.000000e+00</td>\n",
       "      <td>0.000000e+00</td>\n",
       "      <td>0.000000e+00</td>\n",
       "      <td>0.000000e+00</td>\n",
       "    </tr>\n",
       "    <tr>\n",
       "      <th>49962</th>\n",
       "      <td>0.000000e+00</td>\n",
       "      <td>0.000000e+00</td>\n",
       "      <td>0.000000e+00</td>\n",
       "      <td>0.000000e+00</td>\n",
       "      <td>0.000000e+00</td>\n",
       "    </tr>\n",
       "    <tr>\n",
       "      <th>49963</th>\n",
       "      <td>8.994033e-01</td>\n",
       "      <td>8.994033e-01</td>\n",
       "      <td>8.994033e-01</td>\n",
       "      <td>8.994033e-01</td>\n",
       "      <td>8.994033e-01</td>\n",
       "    </tr>\n",
       "    <tr>\n",
       "      <th>49964</th>\n",
       "      <td>1.000000e+00</td>\n",
       "      <td>1.000000e+00</td>\n",
       "      <td>1.000000e+00</td>\n",
       "      <td>1.000000e+00</td>\n",
       "      <td>1.000000e+00</td>\n",
       "    </tr>\n",
       "    <tr>\n",
       "      <th>49965</th>\n",
       "      <td>1.000000e+00</td>\n",
       "      <td>1.000000e+00</td>\n",
       "      <td>1.000000e+00</td>\n",
       "      <td>1.000000e+00</td>\n",
       "      <td>1.000000e+00</td>\n",
       "    </tr>\n",
       "    <tr>\n",
       "      <th>49966</th>\n",
       "      <td>2.387651e-142</td>\n",
       "      <td>2.387651e-142</td>\n",
       "      <td>2.387651e-142</td>\n",
       "      <td>2.387651e-142</td>\n",
       "      <td>2.387651e-142</td>\n",
       "    </tr>\n",
       "    <tr>\n",
       "      <th>49967</th>\n",
       "      <td>1.923162e-68</td>\n",
       "      <td>1.923162e-68</td>\n",
       "      <td>1.923162e-68</td>\n",
       "      <td>1.923162e-68</td>\n",
       "      <td>1.923162e-68</td>\n",
       "    </tr>\n",
       "    <tr>\n",
       "      <th>49968</th>\n",
       "      <td>1.183709e-67</td>\n",
       "      <td>1.183709e-67</td>\n",
       "      <td>1.183709e-67</td>\n",
       "      <td>1.183709e-67</td>\n",
       "      <td>1.183709e-67</td>\n",
       "    </tr>\n",
       "    <tr>\n",
       "      <th>49969</th>\n",
       "      <td>1.202016e-141</td>\n",
       "      <td>1.202016e-141</td>\n",
       "      <td>1.202016e-141</td>\n",
       "      <td>1.202016e-141</td>\n",
       "      <td>1.202016e-141</td>\n",
       "    </tr>\n",
       "    <tr>\n",
       "      <th>49970</th>\n",
       "      <td>1.769878e-143</td>\n",
       "      <td>1.769878e-143</td>\n",
       "      <td>1.769878e-143</td>\n",
       "      <td>1.769878e-143</td>\n",
       "      <td>1.769878e-143</td>\n",
       "    </tr>\n",
       "    <tr>\n",
       "      <th>49971</th>\n",
       "      <td>1.769878e-143</td>\n",
       "      <td>1.769878e-143</td>\n",
       "      <td>1.769878e-143</td>\n",
       "      <td>1.769878e-143</td>\n",
       "      <td>1.769878e-143</td>\n",
       "    </tr>\n",
       "  </tbody>\n",
       "</table>\n",
       "<p>49972 rows × 5 columns</p>\n",
       "</div>"
      ],
      "text/plain": [
       "                clf1           clf2      ...                 clf4           clf5\n",
       "0       1.000000e+00   1.000000e+00      ...         1.000000e+00   1.000000e+00\n",
       "1       1.000000e+00   1.000000e+00      ...         1.000000e+00   1.000000e+00\n",
       "2       4.850940e-27   4.850940e-27      ...         4.850940e-27   4.850940e-27\n",
       "3       1.000000e+00   1.000000e+00      ...         1.000000e+00   1.000000e+00\n",
       "4       1.000000e+00   1.000000e+00      ...         1.000000e+00   1.000000e+00\n",
       "5       1.000000e+00   1.000000e+00      ...         1.000000e+00   1.000000e+00\n",
       "6       1.000000e+00   1.000000e+00      ...         1.000000e+00   1.000000e+00\n",
       "7       1.000000e+00   1.000000e+00      ...         1.000000e+00   1.000000e+00\n",
       "8       2.824496e-26   2.824496e-26      ...         2.824496e-26   2.824496e-26\n",
       "9       1.000000e+00   1.000000e+00      ...         1.000000e+00   1.000000e+00\n",
       "10      1.000000e+00   1.000000e+00      ...         1.000000e+00   1.000000e+00\n",
       "11     5.700452e-297  5.700452e-297      ...        5.700452e-297  5.700452e-297\n",
       "12      0.000000e+00   0.000000e+00      ...         0.000000e+00   0.000000e+00\n",
       "13      1.000000e+00   1.000000e+00      ...         1.000000e+00   1.000000e+00\n",
       "14      1.000000e+00   1.000000e+00      ...         1.000000e+00   1.000000e+00\n",
       "15      1.000000e+00   1.000000e+00      ...         1.000000e+00   1.000000e+00\n",
       "16      1.000000e+00   1.000000e+00      ...         1.000000e+00   1.000000e+00\n",
       "17      1.000000e+00   1.000000e+00      ...         1.000000e+00   1.000000e+00\n",
       "18      6.213664e-03   6.213664e-03      ...         6.213664e-03   6.213664e-03\n",
       "19      3.730800e-35   3.730800e-35      ...         3.730800e-35   3.730800e-35\n",
       "20      1.000000e+00   1.000000e+00      ...         1.000000e+00   1.000000e+00\n",
       "21      1.000000e+00   1.000000e+00      ...         1.000000e+00   1.000000e+00\n",
       "22      1.000000e+00   1.000000e+00      ...         1.000000e+00   1.000000e+00\n",
       "23      1.000000e+00   1.000000e+00      ...         1.000000e+00   1.000000e+00\n",
       "24      1.000000e+00   1.000000e+00      ...         1.000000e+00   1.000000e+00\n",
       "25      1.000000e+00   1.000000e+00      ...         1.000000e+00   1.000000e+00\n",
       "26      1.000000e+00   1.000000e+00      ...         1.000000e+00   1.000000e+00\n",
       "27      8.509733e-32   8.509733e-32      ...         8.509733e-32   8.509733e-32\n",
       "28      0.000000e+00   0.000000e+00      ...         0.000000e+00   0.000000e+00\n",
       "29     1.025018e-124  1.025018e-124      ...        1.025018e-124  1.025018e-124\n",
       "...              ...            ...      ...                  ...            ...\n",
       "49942  1.752019e-145  1.752019e-145      ...        1.752019e-145  1.752019e-145\n",
       "49943   1.000000e+00   1.000000e+00      ...         1.000000e+00   1.000000e+00\n",
       "49944   1.000000e+00   1.000000e+00      ...         1.000000e+00   1.000000e+00\n",
       "49945   1.000000e+00   1.000000e+00      ...         1.000000e+00   1.000000e+00\n",
       "49946   1.000000e+00   1.000000e+00      ...         1.000000e+00   1.000000e+00\n",
       "49947   1.000000e+00   1.000000e+00      ...         1.000000e+00   1.000000e+00\n",
       "49948   0.000000e+00   0.000000e+00      ...         0.000000e+00   0.000000e+00\n",
       "49949  3.899811e-208  3.899811e-208      ...        3.899811e-208  3.899811e-208\n",
       "49950   1.000000e+00   1.000000e+00      ...         1.000000e+00   1.000000e+00\n",
       "49951   3.838093e-17   3.838093e-17      ...         3.838093e-17   3.838093e-17\n",
       "49952   1.000000e+00   1.000000e+00      ...         1.000000e+00   1.000000e+00\n",
       "49953   1.000000e+00   1.000000e+00      ...         1.000000e+00   1.000000e+00\n",
       "49954   1.778868e-10   1.778868e-10      ...         1.778868e-10   1.778868e-10\n",
       "49955   2.375059e-10   2.375059e-10      ...         2.375059e-10   2.375059e-10\n",
       "49956   0.000000e+00   0.000000e+00      ...         0.000000e+00   0.000000e+00\n",
       "49957   1.000000e+00   1.000000e+00      ...         1.000000e+00   1.000000e+00\n",
       "49958   1.000000e+00   1.000000e+00      ...         1.000000e+00   1.000000e+00\n",
       "49959   1.022032e-25   1.022032e-25      ...         1.022032e-25   1.022032e-25\n",
       "49960  1.238926e-209  1.238926e-209      ...        1.238926e-209  1.238926e-209\n",
       "49961   0.000000e+00   0.000000e+00      ...         0.000000e+00   0.000000e+00\n",
       "49962   0.000000e+00   0.000000e+00      ...         0.000000e+00   0.000000e+00\n",
       "49963   8.994033e-01   8.994033e-01      ...         8.994033e-01   8.994033e-01\n",
       "49964   1.000000e+00   1.000000e+00      ...         1.000000e+00   1.000000e+00\n",
       "49965   1.000000e+00   1.000000e+00      ...         1.000000e+00   1.000000e+00\n",
       "49966  2.387651e-142  2.387651e-142      ...        2.387651e-142  2.387651e-142\n",
       "49967   1.923162e-68   1.923162e-68      ...         1.923162e-68   1.923162e-68\n",
       "49968   1.183709e-67   1.183709e-67      ...         1.183709e-67   1.183709e-67\n",
       "49969  1.202016e-141  1.202016e-141      ...        1.202016e-141  1.202016e-141\n",
       "49970  1.769878e-143  1.769878e-143      ...        1.769878e-143  1.769878e-143\n",
       "49971  1.769878e-143  1.769878e-143      ...        1.769878e-143  1.769878e-143\n",
       "\n",
       "[49972 rows x 5 columns]"
      ]
     },
     "execution_count": 51,
     "metadata": {},
     "output_type": "execute_result"
    }
   ],
   "source": [
    "layer1"
   ]
  },
  {
   "cell_type": "code",
   "execution_count": 52,
   "metadata": {
    "execution": {
     "iopub.execute_input": "2023-04-16T17:33:12.510162Z",
     "iopub.status.busy": "2023-04-16T17:33:12.509675Z",
     "iopub.status.idle": "2023-04-16T17:33:12.518098Z",
     "shell.execute_reply": "2023-04-16T17:33:12.517172Z",
     "shell.execute_reply.started": "2023-04-16T17:33:12.510076Z"
    }
   },
   "outputs": [],
   "source": [
    "rows=test_final.shape[0]\n",
    "layer2_test=pd.DataFrame({'clf'+str(i):np.zeros(rows) for i in range(1,len(Algos)+1)})"
   ]
  },
  {
   "cell_type": "code",
   "execution_count": 53,
   "metadata": {
    "execution": {
     "iopub.execute_input": "2023-04-16T17:33:19.852272Z",
     "iopub.status.busy": "2023-04-16T17:33:19.851942Z",
     "iopub.status.idle": "2023-04-16T17:33:19.892787Z",
     "shell.execute_reply": "2023-04-16T17:33:19.891158Z",
     "shell.execute_reply.started": "2023-04-16T17:33:19.852229Z"
    }
   },
   "outputs": [
    {
     "data": {
      "text/html": [
       "<div>\n",
       "<style scoped>\n",
       "    .dataframe tbody tr th:only-of-type {\n",
       "        vertical-align: middle;\n",
       "    }\n",
       "\n",
       "    .dataframe tbody tr th {\n",
       "        vertical-align: top;\n",
       "    }\n",
       "\n",
       "    .dataframe thead th {\n",
       "        text-align: right;\n",
       "    }\n",
       "</style>\n",
       "<table border=\"1\" class=\"dataframe\">\n",
       "  <thead>\n",
       "    <tr style=\"text-align: right;\">\n",
       "      <th></th>\n",
       "      <th>clf1</th>\n",
       "      <th>clf2</th>\n",
       "      <th>clf3</th>\n",
       "      <th>clf4</th>\n",
       "      <th>clf5</th>\n",
       "    </tr>\n",
       "  </thead>\n",
       "  <tbody>\n",
       "    <tr>\n",
       "      <th>0</th>\n",
       "      <td>0.0</td>\n",
       "      <td>0.0</td>\n",
       "      <td>0.0</td>\n",
       "      <td>0.0</td>\n",
       "      <td>0.0</td>\n",
       "    </tr>\n",
       "    <tr>\n",
       "      <th>1</th>\n",
       "      <td>0.0</td>\n",
       "      <td>0.0</td>\n",
       "      <td>0.0</td>\n",
       "      <td>0.0</td>\n",
       "      <td>0.0</td>\n",
       "    </tr>\n",
       "    <tr>\n",
       "      <th>2</th>\n",
       "      <td>0.0</td>\n",
       "      <td>0.0</td>\n",
       "      <td>0.0</td>\n",
       "      <td>0.0</td>\n",
       "      <td>0.0</td>\n",
       "    </tr>\n",
       "    <tr>\n",
       "      <th>3</th>\n",
       "      <td>0.0</td>\n",
       "      <td>0.0</td>\n",
       "      <td>0.0</td>\n",
       "      <td>0.0</td>\n",
       "      <td>0.0</td>\n",
       "    </tr>\n",
       "    <tr>\n",
       "      <th>4</th>\n",
       "      <td>0.0</td>\n",
       "      <td>0.0</td>\n",
       "      <td>0.0</td>\n",
       "      <td>0.0</td>\n",
       "      <td>0.0</td>\n",
       "    </tr>\n",
       "    <tr>\n",
       "      <th>5</th>\n",
       "      <td>0.0</td>\n",
       "      <td>0.0</td>\n",
       "      <td>0.0</td>\n",
       "      <td>0.0</td>\n",
       "      <td>0.0</td>\n",
       "    </tr>\n",
       "    <tr>\n",
       "      <th>6</th>\n",
       "      <td>0.0</td>\n",
       "      <td>0.0</td>\n",
       "      <td>0.0</td>\n",
       "      <td>0.0</td>\n",
       "      <td>0.0</td>\n",
       "    </tr>\n",
       "    <tr>\n",
       "      <th>7</th>\n",
       "      <td>0.0</td>\n",
       "      <td>0.0</td>\n",
       "      <td>0.0</td>\n",
       "      <td>0.0</td>\n",
       "      <td>0.0</td>\n",
       "    </tr>\n",
       "    <tr>\n",
       "      <th>8</th>\n",
       "      <td>0.0</td>\n",
       "      <td>0.0</td>\n",
       "      <td>0.0</td>\n",
       "      <td>0.0</td>\n",
       "      <td>0.0</td>\n",
       "    </tr>\n",
       "    <tr>\n",
       "      <th>9</th>\n",
       "      <td>0.0</td>\n",
       "      <td>0.0</td>\n",
       "      <td>0.0</td>\n",
       "      <td>0.0</td>\n",
       "      <td>0.0</td>\n",
       "    </tr>\n",
       "    <tr>\n",
       "      <th>10</th>\n",
       "      <td>0.0</td>\n",
       "      <td>0.0</td>\n",
       "      <td>0.0</td>\n",
       "      <td>0.0</td>\n",
       "      <td>0.0</td>\n",
       "    </tr>\n",
       "    <tr>\n",
       "      <th>11</th>\n",
       "      <td>0.0</td>\n",
       "      <td>0.0</td>\n",
       "      <td>0.0</td>\n",
       "      <td>0.0</td>\n",
       "      <td>0.0</td>\n",
       "    </tr>\n",
       "    <tr>\n",
       "      <th>12</th>\n",
       "      <td>0.0</td>\n",
       "      <td>0.0</td>\n",
       "      <td>0.0</td>\n",
       "      <td>0.0</td>\n",
       "      <td>0.0</td>\n",
       "    </tr>\n",
       "    <tr>\n",
       "      <th>13</th>\n",
       "      <td>0.0</td>\n",
       "      <td>0.0</td>\n",
       "      <td>0.0</td>\n",
       "      <td>0.0</td>\n",
       "      <td>0.0</td>\n",
       "    </tr>\n",
       "    <tr>\n",
       "      <th>14</th>\n",
       "      <td>0.0</td>\n",
       "      <td>0.0</td>\n",
       "      <td>0.0</td>\n",
       "      <td>0.0</td>\n",
       "      <td>0.0</td>\n",
       "    </tr>\n",
       "    <tr>\n",
       "      <th>15</th>\n",
       "      <td>0.0</td>\n",
       "      <td>0.0</td>\n",
       "      <td>0.0</td>\n",
       "      <td>0.0</td>\n",
       "      <td>0.0</td>\n",
       "    </tr>\n",
       "    <tr>\n",
       "      <th>16</th>\n",
       "      <td>0.0</td>\n",
       "      <td>0.0</td>\n",
       "      <td>0.0</td>\n",
       "      <td>0.0</td>\n",
       "      <td>0.0</td>\n",
       "    </tr>\n",
       "    <tr>\n",
       "      <th>17</th>\n",
       "      <td>0.0</td>\n",
       "      <td>0.0</td>\n",
       "      <td>0.0</td>\n",
       "      <td>0.0</td>\n",
       "      <td>0.0</td>\n",
       "    </tr>\n",
       "    <tr>\n",
       "      <th>18</th>\n",
       "      <td>0.0</td>\n",
       "      <td>0.0</td>\n",
       "      <td>0.0</td>\n",
       "      <td>0.0</td>\n",
       "      <td>0.0</td>\n",
       "    </tr>\n",
       "    <tr>\n",
       "      <th>19</th>\n",
       "      <td>0.0</td>\n",
       "      <td>0.0</td>\n",
       "      <td>0.0</td>\n",
       "      <td>0.0</td>\n",
       "      <td>0.0</td>\n",
       "    </tr>\n",
       "    <tr>\n",
       "      <th>20</th>\n",
       "      <td>0.0</td>\n",
       "      <td>0.0</td>\n",
       "      <td>0.0</td>\n",
       "      <td>0.0</td>\n",
       "      <td>0.0</td>\n",
       "    </tr>\n",
       "    <tr>\n",
       "      <th>21</th>\n",
       "      <td>0.0</td>\n",
       "      <td>0.0</td>\n",
       "      <td>0.0</td>\n",
       "      <td>0.0</td>\n",
       "      <td>0.0</td>\n",
       "    </tr>\n",
       "    <tr>\n",
       "      <th>22</th>\n",
       "      <td>0.0</td>\n",
       "      <td>0.0</td>\n",
       "      <td>0.0</td>\n",
       "      <td>0.0</td>\n",
       "      <td>0.0</td>\n",
       "    </tr>\n",
       "    <tr>\n",
       "      <th>23</th>\n",
       "      <td>0.0</td>\n",
       "      <td>0.0</td>\n",
       "      <td>0.0</td>\n",
       "      <td>0.0</td>\n",
       "      <td>0.0</td>\n",
       "    </tr>\n",
       "    <tr>\n",
       "      <th>24</th>\n",
       "      <td>0.0</td>\n",
       "      <td>0.0</td>\n",
       "      <td>0.0</td>\n",
       "      <td>0.0</td>\n",
       "      <td>0.0</td>\n",
       "    </tr>\n",
       "    <tr>\n",
       "      <th>25</th>\n",
       "      <td>0.0</td>\n",
       "      <td>0.0</td>\n",
       "      <td>0.0</td>\n",
       "      <td>0.0</td>\n",
       "      <td>0.0</td>\n",
       "    </tr>\n",
       "    <tr>\n",
       "      <th>26</th>\n",
       "      <td>0.0</td>\n",
       "      <td>0.0</td>\n",
       "      <td>0.0</td>\n",
       "      <td>0.0</td>\n",
       "      <td>0.0</td>\n",
       "    </tr>\n",
       "    <tr>\n",
       "      <th>27</th>\n",
       "      <td>0.0</td>\n",
       "      <td>0.0</td>\n",
       "      <td>0.0</td>\n",
       "      <td>0.0</td>\n",
       "      <td>0.0</td>\n",
       "    </tr>\n",
       "    <tr>\n",
       "      <th>28</th>\n",
       "      <td>0.0</td>\n",
       "      <td>0.0</td>\n",
       "      <td>0.0</td>\n",
       "      <td>0.0</td>\n",
       "      <td>0.0</td>\n",
       "    </tr>\n",
       "    <tr>\n",
       "      <th>29</th>\n",
       "      <td>0.0</td>\n",
       "      <td>0.0</td>\n",
       "      <td>0.0</td>\n",
       "      <td>0.0</td>\n",
       "      <td>0.0</td>\n",
       "    </tr>\n",
       "    <tr>\n",
       "      <th>...</th>\n",
       "      <td>...</td>\n",
       "      <td>...</td>\n",
       "      <td>...</td>\n",
       "      <td>...</td>\n",
       "      <td>...</td>\n",
       "    </tr>\n",
       "    <tr>\n",
       "      <th>25383</th>\n",
       "      <td>0.0</td>\n",
       "      <td>0.0</td>\n",
       "      <td>0.0</td>\n",
       "      <td>0.0</td>\n",
       "      <td>0.0</td>\n",
       "    </tr>\n",
       "    <tr>\n",
       "      <th>25384</th>\n",
       "      <td>0.0</td>\n",
       "      <td>0.0</td>\n",
       "      <td>0.0</td>\n",
       "      <td>0.0</td>\n",
       "      <td>0.0</td>\n",
       "    </tr>\n",
       "    <tr>\n",
       "      <th>25385</th>\n",
       "      <td>0.0</td>\n",
       "      <td>0.0</td>\n",
       "      <td>0.0</td>\n",
       "      <td>0.0</td>\n",
       "      <td>0.0</td>\n",
       "    </tr>\n",
       "    <tr>\n",
       "      <th>25386</th>\n",
       "      <td>0.0</td>\n",
       "      <td>0.0</td>\n",
       "      <td>0.0</td>\n",
       "      <td>0.0</td>\n",
       "      <td>0.0</td>\n",
       "    </tr>\n",
       "    <tr>\n",
       "      <th>25387</th>\n",
       "      <td>0.0</td>\n",
       "      <td>0.0</td>\n",
       "      <td>0.0</td>\n",
       "      <td>0.0</td>\n",
       "      <td>0.0</td>\n",
       "    </tr>\n",
       "    <tr>\n",
       "      <th>25388</th>\n",
       "      <td>0.0</td>\n",
       "      <td>0.0</td>\n",
       "      <td>0.0</td>\n",
       "      <td>0.0</td>\n",
       "      <td>0.0</td>\n",
       "    </tr>\n",
       "    <tr>\n",
       "      <th>25389</th>\n",
       "      <td>0.0</td>\n",
       "      <td>0.0</td>\n",
       "      <td>0.0</td>\n",
       "      <td>0.0</td>\n",
       "      <td>0.0</td>\n",
       "    </tr>\n",
       "    <tr>\n",
       "      <th>25390</th>\n",
       "      <td>0.0</td>\n",
       "      <td>0.0</td>\n",
       "      <td>0.0</td>\n",
       "      <td>0.0</td>\n",
       "      <td>0.0</td>\n",
       "    </tr>\n",
       "    <tr>\n",
       "      <th>25391</th>\n",
       "      <td>0.0</td>\n",
       "      <td>0.0</td>\n",
       "      <td>0.0</td>\n",
       "      <td>0.0</td>\n",
       "      <td>0.0</td>\n",
       "    </tr>\n",
       "    <tr>\n",
       "      <th>25392</th>\n",
       "      <td>0.0</td>\n",
       "      <td>0.0</td>\n",
       "      <td>0.0</td>\n",
       "      <td>0.0</td>\n",
       "      <td>0.0</td>\n",
       "    </tr>\n",
       "    <tr>\n",
       "      <th>25393</th>\n",
       "      <td>0.0</td>\n",
       "      <td>0.0</td>\n",
       "      <td>0.0</td>\n",
       "      <td>0.0</td>\n",
       "      <td>0.0</td>\n",
       "    </tr>\n",
       "    <tr>\n",
       "      <th>25394</th>\n",
       "      <td>0.0</td>\n",
       "      <td>0.0</td>\n",
       "      <td>0.0</td>\n",
       "      <td>0.0</td>\n",
       "      <td>0.0</td>\n",
       "    </tr>\n",
       "    <tr>\n",
       "      <th>25395</th>\n",
       "      <td>0.0</td>\n",
       "      <td>0.0</td>\n",
       "      <td>0.0</td>\n",
       "      <td>0.0</td>\n",
       "      <td>0.0</td>\n",
       "    </tr>\n",
       "    <tr>\n",
       "      <th>25396</th>\n",
       "      <td>0.0</td>\n",
       "      <td>0.0</td>\n",
       "      <td>0.0</td>\n",
       "      <td>0.0</td>\n",
       "      <td>0.0</td>\n",
       "    </tr>\n",
       "    <tr>\n",
       "      <th>25397</th>\n",
       "      <td>0.0</td>\n",
       "      <td>0.0</td>\n",
       "      <td>0.0</td>\n",
       "      <td>0.0</td>\n",
       "      <td>0.0</td>\n",
       "    </tr>\n",
       "    <tr>\n",
       "      <th>25398</th>\n",
       "      <td>0.0</td>\n",
       "      <td>0.0</td>\n",
       "      <td>0.0</td>\n",
       "      <td>0.0</td>\n",
       "      <td>0.0</td>\n",
       "    </tr>\n",
       "    <tr>\n",
       "      <th>25399</th>\n",
       "      <td>0.0</td>\n",
       "      <td>0.0</td>\n",
       "      <td>0.0</td>\n",
       "      <td>0.0</td>\n",
       "      <td>0.0</td>\n",
       "    </tr>\n",
       "    <tr>\n",
       "      <th>25400</th>\n",
       "      <td>0.0</td>\n",
       "      <td>0.0</td>\n",
       "      <td>0.0</td>\n",
       "      <td>0.0</td>\n",
       "      <td>0.0</td>\n",
       "    </tr>\n",
       "    <tr>\n",
       "      <th>25401</th>\n",
       "      <td>0.0</td>\n",
       "      <td>0.0</td>\n",
       "      <td>0.0</td>\n",
       "      <td>0.0</td>\n",
       "      <td>0.0</td>\n",
       "    </tr>\n",
       "    <tr>\n",
       "      <th>25402</th>\n",
       "      <td>0.0</td>\n",
       "      <td>0.0</td>\n",
       "      <td>0.0</td>\n",
       "      <td>0.0</td>\n",
       "      <td>0.0</td>\n",
       "    </tr>\n",
       "    <tr>\n",
       "      <th>25403</th>\n",
       "      <td>0.0</td>\n",
       "      <td>0.0</td>\n",
       "      <td>0.0</td>\n",
       "      <td>0.0</td>\n",
       "      <td>0.0</td>\n",
       "    </tr>\n",
       "    <tr>\n",
       "      <th>25404</th>\n",
       "      <td>0.0</td>\n",
       "      <td>0.0</td>\n",
       "      <td>0.0</td>\n",
       "      <td>0.0</td>\n",
       "      <td>0.0</td>\n",
       "    </tr>\n",
       "    <tr>\n",
       "      <th>25405</th>\n",
       "      <td>0.0</td>\n",
       "      <td>0.0</td>\n",
       "      <td>0.0</td>\n",
       "      <td>0.0</td>\n",
       "      <td>0.0</td>\n",
       "    </tr>\n",
       "    <tr>\n",
       "      <th>25406</th>\n",
       "      <td>0.0</td>\n",
       "      <td>0.0</td>\n",
       "      <td>0.0</td>\n",
       "      <td>0.0</td>\n",
       "      <td>0.0</td>\n",
       "    </tr>\n",
       "    <tr>\n",
       "      <th>25407</th>\n",
       "      <td>0.0</td>\n",
       "      <td>0.0</td>\n",
       "      <td>0.0</td>\n",
       "      <td>0.0</td>\n",
       "      <td>0.0</td>\n",
       "    </tr>\n",
       "    <tr>\n",
       "      <th>25408</th>\n",
       "      <td>0.0</td>\n",
       "      <td>0.0</td>\n",
       "      <td>0.0</td>\n",
       "      <td>0.0</td>\n",
       "      <td>0.0</td>\n",
       "    </tr>\n",
       "    <tr>\n",
       "      <th>25409</th>\n",
       "      <td>0.0</td>\n",
       "      <td>0.0</td>\n",
       "      <td>0.0</td>\n",
       "      <td>0.0</td>\n",
       "      <td>0.0</td>\n",
       "    </tr>\n",
       "    <tr>\n",
       "      <th>25410</th>\n",
       "      <td>0.0</td>\n",
       "      <td>0.0</td>\n",
       "      <td>0.0</td>\n",
       "      <td>0.0</td>\n",
       "      <td>0.0</td>\n",
       "    </tr>\n",
       "    <tr>\n",
       "      <th>25411</th>\n",
       "      <td>0.0</td>\n",
       "      <td>0.0</td>\n",
       "      <td>0.0</td>\n",
       "      <td>0.0</td>\n",
       "      <td>0.0</td>\n",
       "    </tr>\n",
       "    <tr>\n",
       "      <th>25412</th>\n",
       "      <td>0.0</td>\n",
       "      <td>0.0</td>\n",
       "      <td>0.0</td>\n",
       "      <td>0.0</td>\n",
       "      <td>0.0</td>\n",
       "    </tr>\n",
       "  </tbody>\n",
       "</table>\n",
       "<p>25413 rows × 5 columns</p>\n",
       "</div>"
      ],
      "text/plain": [
       "       clf1  clf2  clf3  clf4  clf5\n",
       "0       0.0   0.0   0.0   0.0   0.0\n",
       "1       0.0   0.0   0.0   0.0   0.0\n",
       "2       0.0   0.0   0.0   0.0   0.0\n",
       "3       0.0   0.0   0.0   0.0   0.0\n",
       "4       0.0   0.0   0.0   0.0   0.0\n",
       "5       0.0   0.0   0.0   0.0   0.0\n",
       "6       0.0   0.0   0.0   0.0   0.0\n",
       "7       0.0   0.0   0.0   0.0   0.0\n",
       "8       0.0   0.0   0.0   0.0   0.0\n",
       "9       0.0   0.0   0.0   0.0   0.0\n",
       "10      0.0   0.0   0.0   0.0   0.0\n",
       "11      0.0   0.0   0.0   0.0   0.0\n",
       "12      0.0   0.0   0.0   0.0   0.0\n",
       "13      0.0   0.0   0.0   0.0   0.0\n",
       "14      0.0   0.0   0.0   0.0   0.0\n",
       "15      0.0   0.0   0.0   0.0   0.0\n",
       "16      0.0   0.0   0.0   0.0   0.0\n",
       "17      0.0   0.0   0.0   0.0   0.0\n",
       "18      0.0   0.0   0.0   0.0   0.0\n",
       "19      0.0   0.0   0.0   0.0   0.0\n",
       "20      0.0   0.0   0.0   0.0   0.0\n",
       "21      0.0   0.0   0.0   0.0   0.0\n",
       "22      0.0   0.0   0.0   0.0   0.0\n",
       "23      0.0   0.0   0.0   0.0   0.0\n",
       "24      0.0   0.0   0.0   0.0   0.0\n",
       "25      0.0   0.0   0.0   0.0   0.0\n",
       "26      0.0   0.0   0.0   0.0   0.0\n",
       "27      0.0   0.0   0.0   0.0   0.0\n",
       "28      0.0   0.0   0.0   0.0   0.0\n",
       "29      0.0   0.0   0.0   0.0   0.0\n",
       "...     ...   ...   ...   ...   ...\n",
       "25383   0.0   0.0   0.0   0.0   0.0\n",
       "25384   0.0   0.0   0.0   0.0   0.0\n",
       "25385   0.0   0.0   0.0   0.0   0.0\n",
       "25386   0.0   0.0   0.0   0.0   0.0\n",
       "25387   0.0   0.0   0.0   0.0   0.0\n",
       "25388   0.0   0.0   0.0   0.0   0.0\n",
       "25389   0.0   0.0   0.0   0.0   0.0\n",
       "25390   0.0   0.0   0.0   0.0   0.0\n",
       "25391   0.0   0.0   0.0   0.0   0.0\n",
       "25392   0.0   0.0   0.0   0.0   0.0\n",
       "25393   0.0   0.0   0.0   0.0   0.0\n",
       "25394   0.0   0.0   0.0   0.0   0.0\n",
       "25395   0.0   0.0   0.0   0.0   0.0\n",
       "25396   0.0   0.0   0.0   0.0   0.0\n",
       "25397   0.0   0.0   0.0   0.0   0.0\n",
       "25398   0.0   0.0   0.0   0.0   0.0\n",
       "25399   0.0   0.0   0.0   0.0   0.0\n",
       "25400   0.0   0.0   0.0   0.0   0.0\n",
       "25401   0.0   0.0   0.0   0.0   0.0\n",
       "25402   0.0   0.0   0.0   0.0   0.0\n",
       "25403   0.0   0.0   0.0   0.0   0.0\n",
       "25404   0.0   0.0   0.0   0.0   0.0\n",
       "25405   0.0   0.0   0.0   0.0   0.0\n",
       "25406   0.0   0.0   0.0   0.0   0.0\n",
       "25407   0.0   0.0   0.0   0.0   0.0\n",
       "25408   0.0   0.0   0.0   0.0   0.0\n",
       "25409   0.0   0.0   0.0   0.0   0.0\n",
       "25410   0.0   0.0   0.0   0.0   0.0\n",
       "25411   0.0   0.0   0.0   0.0   0.0\n",
       "25412   0.0   0.0   0.0   0.0   0.0\n",
       "\n",
       "[25413 rows x 5 columns]"
      ]
     },
     "execution_count": 53,
     "metadata": {},
     "output_type": "execute_result"
    }
   ],
   "source": [
    "layer2_test"
   ]
  },
  {
   "cell_type": "code",
   "execution_count": 55,
   "metadata": {
    "execution": {
     "iopub.execute_input": "2023-04-16T17:33:56.264667Z",
     "iopub.status.busy": "2023-04-16T17:33:56.264307Z",
     "iopub.status.idle": "2023-04-16T17:40:04.542883Z",
     "shell.execute_reply": "2023-04-16T17:40:04.541023Z",
     "shell.execute_reply.started": "2023-04-16T17:33:56.264604Z"
    }
   },
   "outputs": [
    {
     "name": "stdout",
     "output_type": "stream",
     "text": [
      "Algo number 1\n",
      "Algo number 2\n"
     ]
    },
    {
     "name": "stderr",
     "output_type": "stream",
     "text": [
      "/opt/conda/lib/python3.6/site-packages/sklearn/svm/base.py:196: FutureWarning: The default value of gamma will change from 'auto' to 'scale' in version 0.22 to account better for unscaled features. Set gamma explicitly to 'auto' or 'scale' to avoid this warning.\n",
      "  \"avoid this warning.\", FutureWarning)\n"
     ]
    },
    {
     "ename": "AttributeError",
     "evalue": "predict_proba is not available when  probability=False",
     "output_type": "error",
     "traceback": [
      "\u001b[0;31m---------------------------------------------------------------------------\u001b[0m",
      "\u001b[0;31mAttributeError\u001b[0m                            Traceback (most recent call last)",
      "\u001b[0;32m<ipython-input-55-e8755050b4ec>\u001b[0m in \u001b[0;36m<module>\u001b[0;34m()\u001b[0m\n\u001b[1;32m      3\u001b[0m     \u001b[0mprint\u001b[0m\u001b[0;34m(\u001b[0m \u001b[0;34m'Algo number'\u001b[0m\u001b[0;34m,\u001b[0m\u001b[0mi\u001b[0m\u001b[0;34m+\u001b[0m\u001b[0;36m1\u001b[0m\u001b[0;34m)\u001b[0m\u001b[0;34m\u001b[0m\u001b[0m\n\u001b[1;32m      4\u001b[0m     \u001b[0mclf\u001b[0m\u001b[0;34m.\u001b[0m\u001b[0mfit\u001b[0m\u001b[0;34m(\u001b[0m\u001b[0mtrain_final\u001b[0m\u001b[0;34m,\u001b[0m\u001b[0mtrain_labels\u001b[0m\u001b[0;34m)\u001b[0m\u001b[0;34m\u001b[0m\u001b[0m\n\u001b[0;32m----> 5\u001b[0;31m     \u001b[0mp\u001b[0m\u001b[0;34m=\u001b[0m\u001b[0mclf\u001b[0m\u001b[0;34m.\u001b[0m\u001b[0mpredict_proba\u001b[0m\u001b[0;34m(\u001b[0m\u001b[0mtest_final\u001b[0m\u001b[0;34m)\u001b[0m\u001b[0;34m[\u001b[0m\u001b[0;34m:\u001b[0m\u001b[0;34m,\u001b[0m\u001b[0;36m1\u001b[0m\u001b[0;34m]\u001b[0m\u001b[0;34m\u001b[0m\u001b[0m\n\u001b[0m\u001b[1;32m      6\u001b[0m \u001b[0;34m\u001b[0m\u001b[0m\n\u001b[1;32m      7\u001b[0m     \u001b[0mlayer2_test\u001b[0m\u001b[0;34m.\u001b[0m\u001b[0miloc\u001b[0m\u001b[0;34m[\u001b[0m\u001b[0;34m:\u001b[0m\u001b[0;34m,\u001b[0m\u001b[0mi\u001b[0m\u001b[0;34m]\u001b[0m\u001b[0;34m=\u001b[0m\u001b[0mp\u001b[0m\u001b[0;34m\u001b[0m\u001b[0m\n",
      "\u001b[0;32m/opt/conda/lib/python3.6/site-packages/sklearn/svm/base.py\u001b[0m in \u001b[0;36mpredict_proba\u001b[0;34m(self)\u001b[0m\n\u001b[1;32m    616\u001b[0m         \u001b[0mdatasets\u001b[0m\u001b[0;34m.\u001b[0m\u001b[0;34m\u001b[0m\u001b[0m\n\u001b[1;32m    617\u001b[0m         \"\"\"\n\u001b[0;32m--> 618\u001b[0;31m         \u001b[0mself\u001b[0m\u001b[0;34m.\u001b[0m\u001b[0m_check_proba\u001b[0m\u001b[0;34m(\u001b[0m\u001b[0;34m)\u001b[0m\u001b[0;34m\u001b[0m\u001b[0m\n\u001b[0m\u001b[1;32m    619\u001b[0m         \u001b[0;32mreturn\u001b[0m \u001b[0mself\u001b[0m\u001b[0;34m.\u001b[0m\u001b[0m_predict_proba\u001b[0m\u001b[0;34m\u001b[0m\u001b[0m\n\u001b[1;32m    620\u001b[0m \u001b[0;34m\u001b[0m\u001b[0m\n",
      "\u001b[0;32m/opt/conda/lib/python3.6/site-packages/sklearn/svm/base.py\u001b[0m in \u001b[0;36m_check_proba\u001b[0;34m(self)\u001b[0m\n\u001b[1;32m    583\u001b[0m     \u001b[0;32mdef\u001b[0m \u001b[0m_check_proba\u001b[0m\u001b[0;34m(\u001b[0m\u001b[0mself\u001b[0m\u001b[0;34m)\u001b[0m\u001b[0;34m:\u001b[0m\u001b[0;34m\u001b[0m\u001b[0m\n\u001b[1;32m    584\u001b[0m         \u001b[0;32mif\u001b[0m \u001b[0;32mnot\u001b[0m \u001b[0mself\u001b[0m\u001b[0;34m.\u001b[0m\u001b[0mprobability\u001b[0m\u001b[0;34m:\u001b[0m\u001b[0;34m\u001b[0m\u001b[0m\n\u001b[0;32m--> 585\u001b[0;31m             raise AttributeError(\"predict_proba is not available when \"\n\u001b[0m\u001b[1;32m    586\u001b[0m                                  \" probability=False\")\n\u001b[1;32m    587\u001b[0m         \u001b[0;32mif\u001b[0m \u001b[0mself\u001b[0m\u001b[0;34m.\u001b[0m\u001b[0m_impl\u001b[0m \u001b[0;32mnot\u001b[0m \u001b[0;32min\u001b[0m \u001b[0;34m(\u001b[0m\u001b[0;34m'c_svc'\u001b[0m\u001b[0;34m,\u001b[0m \u001b[0;34m'nu_svc'\u001b[0m\u001b[0;34m)\u001b[0m\u001b[0;34m:\u001b[0m\u001b[0;34m\u001b[0m\u001b[0m\n",
      "\u001b[0;31mAttributeError\u001b[0m: predict_proba is not available when  probability=False"
     ]
    }
   ],
   "source": [
    "for i,clf in enumerate(Algos):\n",
    "    \n",
    "    print( 'Algo number',i+1)\n",
    "    clf.fit(train_final,train_labels)\n",
    "    p=clf.predict_proba(test_final)[:,1]\n",
    "    \n",
    "    layer2_test.iloc[:,i]=p"
   ]
  },
  {
   "cell_type": "code",
   "execution_count": null,
   "metadata": {},
   "outputs": [],
   "source": []
  },
  {
   "cell_type": "code",
   "execution_count": 56,
   "metadata": {
    "execution": {
     "iopub.execute_input": "2023-04-16T17:58:08.213716Z",
     "iopub.status.busy": "2023-04-16T17:58:08.213340Z",
     "iopub.status.idle": "2023-04-16T17:58:08.225772Z",
     "shell.execute_reply": "2023-04-16T17:58:08.224440Z",
     "shell.execute_reply.started": "2023-04-16T17:58:08.213652Z"
    }
   },
   "outputs": [],
   "source": [
    "def create_neural_network(input_shape, depth=5, batch_mod=2, num_neurons=20, drop_rate=0.1, learn_rate=.01,\n",
    "                      r1_weight=0.02,\n",
    "                      r2_weight=0.02):\n",
    "    '''A neural network architecture built using keras functional API'''\n",
    "    act_reg = l1(r2_weight)\n",
    "    kern_reg = l1(r1_weight)\n",
    "    \n",
    "    inputs = Input(shape=(train_final.shape[1],))\n",
    "    batch1 = Dense(200, activation= 'tanh')(inputs)\n",
    "    hidden1 = Dense(100, activation= 'sigmoid')(batch1)\n",
    "    batch2= Dense(40, activation= 'sigmoid')(batch1)\n",
    "    dropout1 = Dropout(drop_rate)(hidden1)\n",
    "    hidden2 = Dense(int(num_neurons/2), activation='relu', kernel_regularizer=kern_reg, activity_regularizer=act_reg)(dropout1)\n",
    "    \n",
    "    skip_list = [batch1]\n",
    "    last_layer_in_loop = hidden2\n",
    "    \n",
    "    for i in range(depth):\n",
    "        added_layer = concatenate(skip_list + [last_layer_in_loop])\n",
    "        skip_list.append(added_layer)\n",
    "        b1 = None\n",
    "        #Apply batch only on every i % N layers\n",
    "        if i % batch_mod == 2:\n",
    "            b1 = BatchNormalization()(added_layer)\n",
    "        else:\n",
    "            b1 = added_layer\n",
    "        \n",
    "        h1 = Dense(num_neurons, activation='relu', kernel_regularizer=kern_reg, activity_regularizer=act_reg)(b1)\n",
    "        d1 = Dropout(drop_rate)(h1)\n",
    "        h2 = Dense(int(num_neurons/2), activation='relu', kernel_regularizer=kern_reg, activity_regularizer=act_reg)(d1)\n",
    "        d2 = Dropout(drop_rate)(h2)\n",
    "        h3 =  Dense(int(num_neurons/2), activation='relu', kernel_regularizer=kern_reg, activity_regularizer=act_reg)(d2)\n",
    "        d3 = Dropout(drop_rate)(h3)\n",
    "        h4 =  Dense(int(num_neurons/2), activation='relu', kernel_regularizer=kern_reg, activity_regularizer=act_reg)(d3)\n",
    "        last_layer_in_loop = h4\n",
    "        c1 = concatenate(skip_list + [last_layer_in_loop])\n",
    "        output = Dense(4,activation='sigmoid')(c1)\n",
    "    \n",
    "    model = Model(inputs=inputs, outputs=output)\n",
    "    optimizer = Adam()\n",
    "    optimizer.learning_rate = learn_rate\n",
    "    \n",
    "    model.compile(loss = 'categorical_crossentropy', optimizer='adam',metrics = ['accuracy'])\n",
    "    return model"
   ]
  },
  {
   "cell_type": "code",
   "execution_count": 57,
   "metadata": {
    "execution": {
     "iopub.execute_input": "2023-04-16T18:01:26.889518Z",
     "iopub.status.busy": "2023-04-16T18:01:26.889133Z",
     "iopub.status.idle": "2023-04-16T18:01:26.899265Z",
     "shell.execute_reply": "2023-04-16T18:01:26.897759Z",
     "shell.execute_reply.started": "2023-04-16T18:01:26.889452Z"
    }
   },
   "outputs": [],
   "source": [
    "def get_stacking(input_shape=None):\n",
    "    '''A stacking model that consists of CatBoostRegressor,\n",
    "    XGBRegressor, a linear model, and some neural networks'''\n",
    "    # First we create a list called \"level0\", which consists of our base models\"\n",
    "    # Basically, you'll want to pick a assortment of your favorite machine learning models\n",
    "    # These models will get passed down to the meta-learner later\n",
    "    level0 = list()\n",
    "    level0.append(('cat', CatBoostRegressor(verbose=False)))\n",
    "    level0.append(('cat2', CatBoostRegressor(verbose=False, learning_rate=.0001)))\n",
    "    level0.append(('xgb', XGBRegressor()))\n",
    "    level0.append(('xgb2', XGBRegressor(max_depth=5, learning_rate=.0001)))\n",
    "    level0.append(('linear', LogisticRegression()))\n",
    "    level0.append(('rf', RandomForestClassifier(n_estimators=100, min_samples_split=10, min_samples_leaf=15, \n",
    "                            max_features=60, max_depth=30, criterion='entropy', \n",
    "                            class_weight=None, bootstrap=False)))\n",
    "    level0.append(('svm', SVC()))\n",
    "    level0.append(('nb', MultinomialNB(alpha=0.34)))\n",
    "    level0.append(('knn', KNeighborsClassifier(n_neighbors=100)))\n",
    "    #Create 5 neural networks using our function above\n",
    "    for i in range(5):\n",
    "        # Wrap our neural network in a Keras Regressor to make it\n",
    "        #compatible with StackingRegressor\n",
    "        keras_reg = KerasRegressor(\n",
    "                create_neural_network, # Pass in function\n",
    "                input_shape=input_shape, # Pass in the dimensions to above function\n",
    "                epochs=6,\n",
    "                batch_size=32,\n",
    "                verbose=False)\n",
    "        keras_reg._estimator_type = \"regressor\"\n",
    "        # Append to our list\n",
    "        level0.append(('nn_{num}'.format(num=i), keras_reg))\n",
    "    # The \"meta-learner\" designated as the level1 model\n",
    "    # In my experience Linear Regression performs best\n",
    "    # but feel free to experiment with other models\n",
    "    level1 = LinearRegression()\n",
    "    # Create the stacking ensemble\n",
    "    model = StackingRegressor(estimators=level0, final_estimator=level1, cv=2, verbose=1)\n",
    "    return model"
   ]
  },
  {
   "cell_type": "code",
   "execution_count": 60,
   "metadata": {
    "execution": {
     "iopub.execute_input": "2023-04-16T18:03:16.140047Z",
     "iopub.status.busy": "2023-04-16T18:03:16.139393Z",
     "iopub.status.idle": "2023-04-16T18:03:16.145785Z",
     "shell.execute_reply": "2023-04-16T18:03:16.144458Z",
     "shell.execute_reply.started": "2023-04-16T18:03:16.139994Z"
    }
   },
   "outputs": [
    {
     "name": "stdout",
     "output_type": "stream",
     "text": [
      "\n",
      "The following command must be run outside of the IPython shell:\n",
      "\n",
      "    $ pip install catboost\n",
      "\n",
      "The Python package manager (pip) can only be used from outside of IPython.\n",
      "Please reissue the `pip` command in a separate terminal or command prompt.\n",
      "\n",
      "See the Python documentation for more information on how to install packages:\n",
      "\n",
      "    https://docs.python.org/3/installing/\n"
     ]
    }
   ],
   "source": [
    "pip install catboost\n"
   ]
  },
  {
   "cell_type": "code",
   "execution_count": 75,
   "metadata": {
    "execution": {
     "iopub.execute_input": "2023-04-16T19:12:31.674404Z",
     "iopub.status.busy": "2023-04-16T19:12:31.673756Z",
     "iopub.status.idle": "2023-04-16T19:12:31.680586Z",
     "shell.execute_reply": "2023-04-16T19:12:31.679597Z",
     "shell.execute_reply.started": "2023-04-16T19:12:31.674338Z"
    }
   },
   "outputs": [
    {
     "name": "stdout",
     "output_type": "stream",
     "text": [
      "\n",
      "The following command must be run outside of the IPython shell:\n",
      "\n",
      "    $ pip install scikit-learn\n",
      "\n",
      "The Python package manager (pip) can only be used from outside of IPython.\n",
      "Please reissue the `pip` command in a separate terminal or command prompt.\n",
      "\n",
      "See the Python documentation for more information on how to install packages:\n",
      "\n",
      "    https://docs.python.org/3/installing/\n"
     ]
    }
   ],
   "source": [
    "pip install scikit-learn\n"
   ]
  },
  {
   "cell_type": "code",
   "execution_count": 74,
   "metadata": {
    "execution": {
     "iopub.execute_input": "2023-04-16T19:12:10.773825Z",
     "iopub.status.busy": "2023-04-16T19:12:10.773481Z",
     "iopub.status.idle": "2023-04-16T19:12:10.795036Z",
     "shell.execute_reply": "2023-04-16T19:12:10.793642Z",
     "shell.execute_reply.started": "2023-04-16T19:12:10.773780Z"
    }
   },
   "outputs": [
    {
     "ename": "ImportError",
     "evalue": "cannot import name 'StackingRegressor'",
     "output_type": "error",
     "traceback": [
      "\u001b[0;31m---------------------------------------------------------------------------\u001b[0m",
      "\u001b[0;31mImportError\u001b[0m                               Traceback (most recent call last)",
      "\u001b[0;32m<ipython-input-74-eb4e75f7873c>\u001b[0m in \u001b[0;36m<module>\u001b[0;34m()\u001b[0m\n\u001b[1;32m      3\u001b[0m \u001b[0;32mfrom\u001b[0m \u001b[0msklearn\u001b[0m\u001b[0;34m.\u001b[0m\u001b[0mlinear_model\u001b[0m \u001b[0;32mimport\u001b[0m \u001b[0mLogisticRegression\u001b[0m\u001b[0;34m,\u001b[0m\u001b[0mLinearRegression\u001b[0m\u001b[0;34m\u001b[0m\u001b[0m\n\u001b[1;32m      4\u001b[0m \u001b[0;32mfrom\u001b[0m \u001b[0mkeras\u001b[0m\u001b[0;34m.\u001b[0m\u001b[0mwrappers\u001b[0m\u001b[0;34m.\u001b[0m\u001b[0mscikit_learn\u001b[0m \u001b[0;32mimport\u001b[0m \u001b[0mKerasRegressor\u001b[0m\u001b[0;34m\u001b[0m\u001b[0m\n\u001b[0;32m----> 5\u001b[0;31m \u001b[0;32mfrom\u001b[0m \u001b[0msklearn\u001b[0m\u001b[0;34m.\u001b[0m\u001b[0mensemble\u001b[0m \u001b[0;32mimport\u001b[0m \u001b[0mStackingRegressor\u001b[0m\u001b[0;34m\u001b[0m\u001b[0m\n\u001b[0m",
      "\u001b[0;31mImportError\u001b[0m: cannot import name 'StackingRegressor'"
     ]
    }
   ],
   "source": [
    "from catboost import CatBoostRegressor\n",
    "from xgboost import XGBRegressor\n",
    "from sklearn.linear_model import LogisticRegression,LinearRegression\n",
    "from keras.wrappers.scikit_learn import KerasRegressor\n",
    "from sklearn.ensemble import StackingRegressor\n"
   ]
  },
  {
   "cell_type": "code",
   "execution_count": 70,
   "metadata": {
    "execution": {
     "iopub.execute_input": "2023-04-16T18:05:15.870770Z",
     "iopub.status.busy": "2023-04-16T18:05:15.870414Z",
     "iopub.status.idle": "2023-04-16T18:05:15.910757Z",
     "shell.execute_reply": "2023-04-16T18:05:15.909094Z",
     "shell.execute_reply.started": "2023-04-16T18:05:15.870697Z"
    }
   },
   "outputs": [
    {
     "ename": "NameError",
     "evalue": "name 'StackingRegressor' is not defined",
     "output_type": "error",
     "traceback": [
      "\u001b[0;31m---------------------------------------------------------------------------\u001b[0m",
      "\u001b[0;31mNameError\u001b[0m                                 Traceback (most recent call last)",
      "\u001b[0;32m<ipython-input-70-3b334b070ad7>\u001b[0m in \u001b[0;36m<module>\u001b[0;34m()\u001b[0m\n\u001b[1;32m      2\u001b[0m \u001b[0minput_dimensions\u001b[0m \u001b[0;34m=\u001b[0m \u001b[0mlen\u001b[0m\u001b[0;34m(\u001b[0m\u001b[0mtrain_final\u001b[0m\u001b[0;34m)\u001b[0m\u001b[0;34m\u001b[0m\u001b[0m\n\u001b[1;32m      3\u001b[0m \u001b[0;31m# Create stacking model\u001b[0m\u001b[0;34m\u001b[0m\u001b[0;34m\u001b[0m\u001b[0m\n\u001b[0;32m----> 4\u001b[0;31m \u001b[0mmodel\u001b[0m \u001b[0;34m=\u001b[0m \u001b[0mget_stacking\u001b[0m\u001b[0;34m(\u001b[0m\u001b[0minput_dimensions\u001b[0m\u001b[0;34m)\u001b[0m\u001b[0;34m\u001b[0m\u001b[0m\n\u001b[0m\u001b[1;32m      5\u001b[0m \u001b[0mmodel\u001b[0m\u001b[0;34m.\u001b[0m\u001b[0mfit\u001b[0m\u001b[0;34m(\u001b[0m\u001b[0mtrain_final\u001b[0m\u001b[0;34m,\u001b[0m \u001b[0mtrain_labels\u001b[0m\u001b[0;34m.\u001b[0m\u001b[0mvalues\u001b[0m\u001b[0;34m.\u001b[0m\u001b[0mravel\u001b[0m\u001b[0;34m(\u001b[0m\u001b[0;34m)\u001b[0m\u001b[0;34m)\u001b[0m\u001b[0;34m\u001b[0m\u001b[0m\n\u001b[1;32m      6\u001b[0m \u001b[0;31m# Creating a temporary dataframe so we can see how each of our models performed\u001b[0m\u001b[0;34m\u001b[0m\u001b[0;34m\u001b[0m\u001b[0m\n",
      "\u001b[0;32m<ipython-input-57-2c4ce553b6ad>\u001b[0m in \u001b[0;36mget_stacking\u001b[0;34m(input_shape)\u001b[0m\n\u001b[1;32m     35\u001b[0m     \u001b[0mlevel1\u001b[0m \u001b[0;34m=\u001b[0m \u001b[0mLinearRegression\u001b[0m\u001b[0;34m(\u001b[0m\u001b[0;34m)\u001b[0m\u001b[0;34m\u001b[0m\u001b[0m\n\u001b[1;32m     36\u001b[0m     \u001b[0;31m# Create the stacking ensemble\u001b[0m\u001b[0;34m\u001b[0m\u001b[0;34m\u001b[0m\u001b[0m\n\u001b[0;32m---> 37\u001b[0;31m     \u001b[0mmodel\u001b[0m \u001b[0;34m=\u001b[0m \u001b[0mStackingRegressor\u001b[0m\u001b[0;34m(\u001b[0m\u001b[0mestimators\u001b[0m\u001b[0;34m=\u001b[0m\u001b[0mlevel0\u001b[0m\u001b[0;34m,\u001b[0m \u001b[0mfinal_estimator\u001b[0m\u001b[0;34m=\u001b[0m\u001b[0mlevel1\u001b[0m\u001b[0;34m,\u001b[0m \u001b[0mcv\u001b[0m\u001b[0;34m=\u001b[0m\u001b[0;36m2\u001b[0m\u001b[0;34m,\u001b[0m \u001b[0mverbose\u001b[0m\u001b[0;34m=\u001b[0m\u001b[0;36m1\u001b[0m\u001b[0;34m)\u001b[0m\u001b[0;34m\u001b[0m\u001b[0m\n\u001b[0m\u001b[1;32m     38\u001b[0m     \u001b[0;32mreturn\u001b[0m \u001b[0mmodel\u001b[0m\u001b[0;34m\u001b[0m\u001b[0m\n",
      "\u001b[0;31mNameError\u001b[0m: name 'StackingRegressor' is not defined"
     ]
    }
   ],
   "source": [
    "#Get our input dimensions for neural network\n",
    "input_dimensions = len(train_final)\n",
    "# Create stacking model\n",
    "model = get_stacking(input_dimensions)\n",
    "model.fit(train_final, train_labels.values.ravel())\n",
    "# Creating a temporary dataframe so we can see how each of our models performed\n",
    "temp = pd.DataFrame(y_val)\n",
    "# The stacked models predictions, which should perform the best\n",
    "temp['stacking_prediction'] = model.predict(X_val)\n",
    "# Get each model in the stacked model to see how they individually perform\n",
    "for m in model.named_estimators_:\n",
    "        temp[m] = model.named_estimators_[m].predict(X_val)"
   ]
  },
  {
   "cell_type": "code",
   "execution_count": 76,
   "metadata": {},
   "outputs": [],
   "source": [
    "from sklearn.ensemble import VotingClassifier"
   ]
  },
  {
   "cell_type": "code",
   "execution_count": 80,
   "metadata": {},
   "outputs": [],
   "source": [
    "# Create an ensemble model using VotingClassifier\n",
    "ensemble_model = VotingClassifier(\n",
    "    estimators=[('rf', rf), ('svm', svm), ('nb', mnb), ('knn', knn)],\n",
    "    voting='hard'\n",
    ")"
   ]
  },
  {
   "cell_type": "code",
   "execution_count": 81,
   "metadata": {},
   "outputs": [
    {
     "data": {
      "text/plain": [
       "VotingClassifier(estimators=[('rf',\n",
       "                              RandomForestClassifier(bootstrap=False,\n",
       "                                                     criterion='entropy',\n",
       "                                                     max_depth=30,\n",
       "                                                     max_features=60,\n",
       "                                                     min_samples_leaf=15,\n",
       "                                                     min_samples_split=10)),\n",
       "                             ('svm', SVC()), ('nb', MultinomialNB(alpha=0.34)),\n",
       "                             ('knn', KNeighborsClassifier(n_neighbors=100))])"
      ]
     },
     "execution_count": 81,
     "metadata": {},
     "output_type": "execute_result"
    }
   ],
   "source": [
    "# Train the ensemble model\n",
    "ensemble_model.fit(train_final, train_labels)"
   ]
  },
  {
   "cell_type": "code",
   "execution_count": 82,
   "metadata": {},
   "outputs": [],
   "source": [
    "# Make predictions with the ensemble model\n",
    "ensemble_preds = ensemble_model.predict(test_final)"
   ]
  },
  {
   "cell_type": "code",
   "execution_count": 83,
   "metadata": {},
   "outputs": [
    {
     "name": "stdout",
     "output_type": "stream",
     "text": [
      "Ensemble Model Accuracy (F1 micro): 0.8557431235981584\n"
     ]
    }
   ],
   "source": [
    "from sklearn.metrics import f1_score\n",
    "f1_micro_score = f1_score(test_labels, ensemble_preds, average='micro')\n",
    "print(\"Ensemble Model Accuracy (F1 micro):\", f1_micro_score)"
   ]
  },
  {
   "cell_type": "code",
   "execution_count": 86,
   "metadata": {},
   "outputs": [
    {
     "data": {
      "text/plain": [
       "array([0, 1, 0, ..., 0, 0, 1])"
      ]
     },
     "execution_count": 86,
     "metadata": {},
     "output_type": "execute_result"
    }
   ],
   "source": [
    "ensemble_preds"
   ]
  },
  {
   "cell_type": "code",
   "execution_count": null,
   "metadata": {},
   "outputs": [],
   "source": []
  }
 ],
 "metadata": {
  "kernelspec": {
   "display_name": "Python 3",
   "language": "python",
   "name": "python3"
  },
  "language_info": {
   "codemirror_mode": {
    "name": "ipython",
    "version": 3
   },
   "file_extension": ".py",
   "mimetype": "text/x-python",
   "name": "python",
   "nbconvert_exporter": "python",
   "pygments_lexer": "ipython3",
   "version": "3.6.13"
  }
 },
 "nbformat": 4,
 "nbformat_minor": 4
}
